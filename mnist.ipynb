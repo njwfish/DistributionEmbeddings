{
 "cells": [
  {
   "cell_type": "code",
   "execution_count": 1,
   "metadata": {},
   "outputs": [],
   "source": [
    "import torch\n",
    "import torchvision\n",
    "from torchvision import transforms\n",
    "\n",
    "from dist_ae import SetAutoencoderGNN, SetAutoencoderTx, train_w_stop\n",
    "from losses import sliced_wasserstein_distance\n",
    "\n",
    "from umap import UMAP\n",
    "import seaborn as sns\n",
    "import matplotlib.pyplot as plt"
   ]
  },
  {
   "cell_type": "code",
   "execution_count": 15,
   "metadata": {},
   "outputs": [],
   "source": [
    "def sample_mnist_sets(n_sets, set_size):\n",
    "    # load mnist dataset\n",
    "    transform = transforms.Compose([transforms.ToTensor()])\n",
    "    dataset = torchvision.datasets.MNIST(root=\"./data\", train=True, download=True, transform=transform)\n",
    "    \n",
    "    # group indices by label\n",
    "    label_to_indices = {i: torch.where(torch.tensor(dataset.targets) == i)[0] for i in range(10)}\n",
    "    \n",
    "    sets = []\n",
    "    metadata = []\n",
    "    for _ in range(n_sets):\n",
    "        label = torch.randint(0, 10, (1,)).item()  # random label\n",
    "        indices = torch.randperm(len(label_to_indices[label]))[:set_size]  # sample set_size images\n",
    "        sets.append(dataset.data[label_to_indices[label][indices]].float() / 255.0)\n",
    "        metadata.append(label)  # store label info\n",
    "    \n",
    "    return torch.stack(sets).float(), metadata\n",
    "\n",
    "\n",
    "mnist_sets, _ = sample_mnist_sets(N_sets, set_size)\n",
    "train_loader = torch.utils.data.DataLoader(\n",
    "    mnist_sets, batch_size=32, shuffle=True\n",
    ")"
   ]
  },
  {
   "cell_type": "code",
   "execution_count": 30,
   "metadata": {},
   "outputs": [
    {
     "data": {
      "text/plain": [
       "tensor(0.)"
      ]
     },
     "execution_count": 30,
     "metadata": {},
     "output_type": "execute_result"
    }
   ],
   "source": [
    "# torch.sum(b[0][0] - b.reshape(-1, 1, 28, 28)[0])"
   ]
  },
  {
   "cell_type": "code",
   "execution_count": 27,
   "metadata": {},
   "outputs": [
    {
     "data": {
      "text/plain": [
       "tensor([[[0.0000, 0.0000, 0.0000, 0.0000, 0.0000, 0.0000, 0.0000, 0.0000,\n",
       "          0.0000, 0.0000, 0.0000, 0.0000, 0.0000, 0.0000, 0.0000, 0.0000,\n",
       "          0.0000, 0.0000, 0.0000, 0.0000, 0.0000, 0.0000, 0.0000, 0.0000,\n",
       "          0.0000, 0.0000, 0.0000, 0.0000],\n",
       "         [0.0000, 0.0000, 0.0000, 0.0000, 0.0000, 0.0000, 0.0000, 0.0000,\n",
       "          0.0000, 0.0000, 0.0000, 0.0000, 0.0000, 0.0000, 0.0000, 0.0000,\n",
       "          0.0000, 0.0000, 0.0000, 0.0000, 0.0000, 0.0000, 0.0000, 0.0000,\n",
       "          0.0000, 0.0000, 0.0000, 0.0000],\n",
       "         [0.0000, 0.0000, 0.0000, 0.0000, 0.0000, 0.0000, 0.0000, 0.0000,\n",
       "          0.0000, 0.0000, 0.0000, 0.0000, 0.0000, 0.0000, 0.0000, 0.0000,\n",
       "          0.0000, 0.0000, 0.0000, 0.0000, 0.0000, 0.0000, 0.0000, 0.0000,\n",
       "          0.0000, 0.0000, 0.0000, 0.0000],\n",
       "         [0.0000, 0.0000, 0.0000, 0.0000, 0.0000, 0.0000, 0.0000, 0.0000,\n",
       "          0.0000, 0.0000, 0.0000, 0.0000, 0.0000, 0.0000, 0.0000, 0.0000,\n",
       "          0.0000, 0.0000, 0.0000, 0.0000, 0.0000, 0.0000, 0.0000, 0.0000,\n",
       "          0.0000, 0.0000, 0.0000, 0.0000],\n",
       "         [0.0000, 0.0000, 0.0000, 0.0000, 0.0000, 0.0000, 0.0000, 0.0000,\n",
       "          0.0000, 0.0000, 0.0000, 0.0000, 0.0000, 0.0000, 0.0000, 0.0000,\n",
       "          0.0000, 0.0000, 0.0000, 0.0000, 0.0000, 0.0000, 0.0000, 0.0000,\n",
       "          0.0000, 0.0000, 0.0000, 0.0000],\n",
       "         [0.0000, 0.0000, 0.0000, 0.0000, 0.0000, 0.0000, 0.0000, 0.0000,\n",
       "          0.0000, 0.0000, 0.0000, 0.0000, 0.0000, 0.0000, 0.0000, 0.0863,\n",
       "          0.5647, 0.8941, 0.9961, 0.6510, 0.0000, 0.0000, 0.0000, 0.0000,\n",
       "          0.0000, 0.0000, 0.0000, 0.0000],\n",
       "         [0.0000, 0.0000, 0.0000, 0.0000, 0.0000, 0.0000, 0.0000, 0.0000,\n",
       "          0.0000, 0.0000, 0.0000, 0.0000, 0.0000, 0.0000, 0.2275, 0.8078,\n",
       "          0.9922, 0.8235, 0.6431, 0.9922, 0.0706, 0.0000, 0.0000, 0.0000,\n",
       "          0.0000, 0.0000, 0.0000, 0.0000],\n",
       "         [0.0000, 0.0000, 0.0000, 0.0000, 0.0000, 0.0000, 0.0000, 0.0000,\n",
       "          0.0000, 0.0000, 0.0000, 0.0000, 0.0235, 0.5412, 0.9529, 0.5725,\n",
       "          0.0588, 0.0196, 0.0627, 0.9176, 0.2941, 0.0000, 0.0000, 0.0000,\n",
       "          0.0000, 0.0000, 0.0000, 0.0000],\n",
       "         [0.0000, 0.0000, 0.0000, 0.0000, 0.0000, 0.0000, 0.0000, 0.0000,\n",
       "          0.0000, 0.0000, 0.0000, 0.0000, 0.5569, 0.9608, 0.4039, 0.0000,\n",
       "          0.0000, 0.0000, 0.0000, 0.8784, 0.3490, 0.0000, 0.0000, 0.0000,\n",
       "          0.0000, 0.0000, 0.0000, 0.0000],\n",
       "         [0.0000, 0.0000, 0.0000, 0.0000, 0.0000, 0.0000, 0.0000, 0.0000,\n",
       "          0.0000, 0.0000, 0.0000, 0.2980, 0.9843, 0.5569, 0.0000, 0.0000,\n",
       "          0.0000, 0.0000, 0.0549, 0.9098, 0.3294, 0.0000, 0.0000, 0.0000,\n",
       "          0.0000, 0.0000, 0.0000, 0.0000],\n",
       "         [0.0000, 0.0000, 0.0000, 0.0000, 0.0000, 0.0000, 0.0000, 0.0000,\n",
       "          0.0000, 0.0000, 0.0510, 0.8941, 0.7804, 0.0000, 0.0000, 0.0000,\n",
       "          0.0000, 0.0000, 0.2118, 0.9608, 0.0000, 0.0000, 0.0000, 0.0000,\n",
       "          0.0000, 0.0000, 0.0000, 0.0000],\n",
       "         [0.0000, 0.0000, 0.0000, 0.0000, 0.0000, 0.0000, 0.0000, 0.0000,\n",
       "          0.0000, 0.6392, 0.4980, 0.9922, 0.1961, 0.0000, 0.0000, 0.0000,\n",
       "          0.0000, 0.0000, 0.7098, 0.5451, 0.0000, 0.0000, 0.0000, 0.0000,\n",
       "          0.0000, 0.0000, 0.0000, 0.0000],\n",
       "         [0.0000, 0.0000, 0.0000, 0.0000, 0.0000, 0.0000, 0.0000, 0.0000,\n",
       "          0.0000, 0.7412, 0.9961, 0.9922, 0.4588, 0.0314, 0.0000, 0.0000,\n",
       "          0.0000, 0.3529, 0.9176, 0.0941, 0.0000, 0.0000, 0.0000, 0.0000,\n",
       "          0.0000, 0.0000, 0.0000, 0.0000],\n",
       "         [0.0000, 0.0000, 0.0000, 0.0000, 0.0000, 0.0000, 0.0000, 0.0000,\n",
       "          0.0000, 0.0000, 0.5804, 0.9922, 0.9922, 0.8824, 0.4196, 0.0549,\n",
       "          0.1137, 0.8941, 0.4549, 0.0000, 0.0000, 0.0000, 0.0000, 0.0000,\n",
       "          0.0000, 0.0000, 0.0000, 0.0000],\n",
       "         [0.0000, 0.0000, 0.0000, 0.0000, 0.0000, 0.0000, 0.0000, 0.0000,\n",
       "          0.0000, 0.0000, 0.0510, 0.8902, 0.3725, 0.8392, 0.9922, 0.7922,\n",
       "          0.7686, 0.8706, 0.0980, 0.0000, 0.0000, 0.0000, 0.0000, 0.0000,\n",
       "          0.0000, 0.0000, 0.0000, 0.0000],\n",
       "         [0.0000, 0.0000, 0.0000, 0.0000, 0.0000, 0.0000, 0.0000, 0.0000,\n",
       "          0.0000, 0.0000, 0.0000, 0.4000, 0.0353, 0.0000, 0.5529, 1.0000,\n",
       "          0.9961, 0.1451, 0.0000, 0.0000, 0.0000, 0.0000, 0.0000, 0.0000,\n",
       "          0.0000, 0.0000, 0.0000, 0.0000],\n",
       "         [0.0000, 0.0000, 0.0000, 0.0000, 0.0000, 0.0000, 0.0000, 0.0000,\n",
       "          0.0000, 0.0000, 0.0000, 0.0000, 0.0000, 0.0000, 0.3647, 0.9961,\n",
       "          0.9922, 0.2980, 0.0000, 0.0000, 0.0000, 0.0000, 0.0000, 0.0000,\n",
       "          0.0000, 0.0000, 0.0000, 0.0000],\n",
       "         [0.0000, 0.0000, 0.0000, 0.0000, 0.0000, 0.0000, 0.0000, 0.0000,\n",
       "          0.0000, 0.0000, 0.0000, 0.0000, 0.0000, 0.2902, 0.9529, 0.5098,\n",
       "          0.9922, 0.3490, 0.0000, 0.0000, 0.0000, 0.0000, 0.0000, 0.0000,\n",
       "          0.0000, 0.0000, 0.0000, 0.0000],\n",
       "         [0.0000, 0.0000, 0.0000, 0.0000, 0.0000, 0.0000, 0.0000, 0.0000,\n",
       "          0.0000, 0.0000, 0.0000, 0.0000, 0.0980, 0.9373, 0.4275, 0.0510,\n",
       "          0.8902, 0.3490, 0.0000, 0.0000, 0.0000, 0.0000, 0.0000, 0.0000,\n",
       "          0.0000, 0.0000, 0.0000, 0.0000],\n",
       "         [0.0000, 0.0000, 0.0000, 0.0000, 0.0000, 0.0000, 0.0000, 0.0000,\n",
       "          0.0000, 0.0000, 0.0000, 0.0000, 0.6941, 0.5765, 0.0157, 0.2039,\n",
       "          0.9922, 0.3490, 0.0000, 0.0000, 0.0000, 0.0000, 0.0000, 0.0000,\n",
       "          0.0000, 0.0000, 0.0000, 0.0000],\n",
       "         [0.0000, 0.0000, 0.0000, 0.0000, 0.0000, 0.0000, 0.0000, 0.0000,\n",
       "          0.0000, 0.0000, 0.0000, 0.3255, 0.8863, 0.0000, 0.0000, 0.4157,\n",
       "          0.9961, 0.2314, 0.0000, 0.0000, 0.0000, 0.0000, 0.0000, 0.0000,\n",
       "          0.0000, 0.0000, 0.0000, 0.0000],\n",
       "         [0.0000, 0.0000, 0.0000, 0.0000, 0.0000, 0.0000, 0.0000, 0.0000,\n",
       "          0.0000, 0.0000, 0.0314, 0.8588, 0.4902, 0.0000, 0.0000, 0.8078,\n",
       "          0.8000, 0.0275, 0.0000, 0.0000, 0.0000, 0.0000, 0.0000, 0.0000,\n",
       "          0.0000, 0.0000, 0.0000, 0.0000],\n",
       "         [0.0000, 0.0000, 0.0000, 0.0000, 0.0000, 0.0000, 0.0000, 0.0000,\n",
       "          0.0000, 0.0000, 0.1176, 0.9922, 0.2627, 0.0118, 0.4941, 0.9882,\n",
       "          0.3529, 0.0000, 0.0000, 0.0000, 0.0000, 0.0000, 0.0000, 0.0000,\n",
       "          0.0000, 0.0000, 0.0000, 0.0000],\n",
       "         [0.0000, 0.0000, 0.0000, 0.0000, 0.0000, 0.0000, 0.0000, 0.0000,\n",
       "          0.0000, 0.0000, 0.0275, 0.8588, 0.6353, 0.4078, 0.9922, 0.6000,\n",
       "          0.0000, 0.0000, 0.0000, 0.0000, 0.0000, 0.0000, 0.0000, 0.0000,\n",
       "          0.0000, 0.0000, 0.0000, 0.0000],\n",
       "         [0.0000, 0.0000, 0.0000, 0.0000, 0.0000, 0.0000, 0.0000, 0.0000,\n",
       "          0.0000, 0.0000, 0.0000, 0.1647, 0.7882, 0.9412, 0.6118, 0.0353,\n",
       "          0.0000, 0.0000, 0.0000, 0.0000, 0.0000, 0.0000, 0.0000, 0.0000,\n",
       "          0.0000, 0.0000, 0.0000, 0.0000],\n",
       "         [0.0000, 0.0000, 0.0000, 0.0000, 0.0000, 0.0000, 0.0000, 0.0000,\n",
       "          0.0000, 0.0000, 0.0000, 0.0000, 0.0000, 0.0000, 0.0000, 0.0000,\n",
       "          0.0000, 0.0000, 0.0000, 0.0000, 0.0000, 0.0000, 0.0000, 0.0000,\n",
       "          0.0000, 0.0000, 0.0000, 0.0000],\n",
       "         [0.0000, 0.0000, 0.0000, 0.0000, 0.0000, 0.0000, 0.0000, 0.0000,\n",
       "          0.0000, 0.0000, 0.0000, 0.0000, 0.0000, 0.0000, 0.0000, 0.0000,\n",
       "          0.0000, 0.0000, 0.0000, 0.0000, 0.0000, 0.0000, 0.0000, 0.0000,\n",
       "          0.0000, 0.0000, 0.0000, 0.0000],\n",
       "         [0.0000, 0.0000, 0.0000, 0.0000, 0.0000, 0.0000, 0.0000, 0.0000,\n",
       "          0.0000, 0.0000, 0.0000, 0.0000, 0.0000, 0.0000, 0.0000, 0.0000,\n",
       "          0.0000, 0.0000, 0.0000, 0.0000, 0.0000, 0.0000, 0.0000, 0.0000,\n",
       "          0.0000, 0.0000, 0.0000, 0.0000]]])"
      ]
     },
     "execution_count": 27,
     "metadata": {},
     "output_type": "execute_result"
    }
   ],
   "source": []
  },
  {
   "cell_type": "code",
   "execution_count": 17,
   "metadata": {},
   "outputs": [
    {
     "name": "stderr",
     "output_type": "stream",
     "text": [
      "/var/folders/6y/y7jr3zbd39b6fvmxt9lwswl00000gn/T/ipykernel_75811/2935216422.py:7: UserWarning: To copy construct from a tensor, it is recommended to use sourceTensor.clone().detach() or sourceTensor.clone().detach().requires_grad_(True), rather than torch.tensor(sourceTensor).\n",
      "  label_to_indices = {i: torch.where(torch.tensor(dataset.targets) == i)[0] for i in range(10)}\n"
     ]
    },
    {
     "name": "stdout",
     "output_type": "stream",
     "text": [
      "torch.Size([32, 100, 28, 28])\n"
     ]
    }
   ],
   "source": [
    "\n",
    "\n",
    "for b in train_loader:\n",
    "    print(b.shape)\n",
    "    break"
   ]
  },
  {
   "cell_type": "code",
   "execution_count": 6,
   "metadata": {},
   "outputs": [
    {
     "name": "stderr",
     "output_type": "stream",
     "text": [
      "/var/folders/6y/y7jr3zbd39b6fvmxt9lwswl00000gn/T/ipykernel_75811/319726545.py:7: UserWarning: To copy construct from a tensor, it is recommended to use sourceTensor.clone().detach() or sourceTensor.clone().detach().requires_grad_(True), rather than torch.tensor(sourceTensor).\n",
      "  label_to_indices = {i: torch.where(torch.tensor(dataset.targets) == i)[0] for i in range(10)}\n"
     ]
    },
    {
     "name": "stdout",
     "output_type": "stream",
     "text": [
      "Epoch 1 | Train Loss: 0.2806 | Val Loss: 0.2181\n",
      "Epoch 2 | Train Loss: 0.1832 | Val Loss: 0.1611\n",
      "Epoch 3 | Train Loss: 0.1586 | Val Loss: 0.1531\n",
      "Epoch 4 | Train Loss: 0.1509 | Val Loss: 0.1467\n",
      "Epoch 5 | Train Loss: 0.1472 | Val Loss: 0.1453\n",
      "Epoch 6 | Train Loss: 0.1460 | Val Loss: 0.1443\n",
      "Epoch 7 | Train Loss: 0.1438 | Val Loss: 0.1403\n",
      "Epoch 8 | Train Loss: 0.1390 | Val Loss: 0.1366\n",
      "Epoch 9 | Train Loss: 0.1356 | Val Loss: 0.1338\n",
      "Epoch 10 | Train Loss: 0.1340 | Val Loss: 0.1332\n",
      "Epoch 11 | Train Loss: 0.1327 | Val Loss: 0.1329\n",
      "Epoch 12 | Train Loss: 0.1317 | Val Loss: 0.1306\n",
      "Epoch 13 | Train Loss: 0.1283 | Val Loss: 0.1267\n",
      "Epoch 14 | Train Loss: 0.1244 | Val Loss: 0.1230\n",
      "Epoch 15 | Train Loss: 0.1223 | Val Loss: 0.1213\n",
      "Epoch 16 | Train Loss: 0.1208 | Val Loss: 0.1203\n",
      "Epoch 17 | Train Loss: 0.1199 | Val Loss: 0.1196\n",
      "Epoch 18 | Train Loss: 0.1195 | Val Loss: 0.1190\n",
      "Epoch 19 | Train Loss: 0.1193 | Val Loss: 0.1183\n",
      "Epoch 20 | Train Loss: 0.1168 | Val Loss: 0.1161\n",
      "Epoch 21 | Train Loss: 0.1154 | Val Loss: 0.1142\n",
      "Epoch 22 | Train Loss: 0.1142 | Val Loss: 0.1137\n",
      "Epoch 23 | Train Loss: 0.1131 | Val Loss: 0.1124\n",
      "Epoch 24 | Train Loss: 0.1118 | Val Loss: 0.1111\n",
      "Epoch 25 | Train Loss: 0.1108 | Val Loss: 0.1103\n",
      "Epoch 26 | Train Loss: 0.1096 | Val Loss: 0.1093\n",
      "Epoch 27 | Train Loss: 0.1089 | Val Loss: 0.1091\n",
      "Epoch 28 | Train Loss: 0.1082 | Val Loss: 0.1082\n",
      "Epoch 29 | Train Loss: 0.1077 | Val Loss: 0.1072\n",
      "Epoch 30 | Train Loss: 0.1067 | Val Loss: 0.1061\n",
      "Epoch 31 | Train Loss: 0.1055 | Val Loss: 0.1050\n",
      "Epoch 32 | Train Loss: 0.1042 | Val Loss: 0.1036\n",
      "Epoch 33 | Train Loss: 0.1027 | Val Loss: 0.1018\n",
      "Epoch 34 | Train Loss: 0.1003 | Val Loss: 0.0986\n",
      "Epoch 35 | Train Loss: 0.0976 | Val Loss: 0.0962\n",
      "Epoch 36 | Train Loss: 0.0949 | Val Loss: 0.0931\n",
      "Epoch 37 | Train Loss: 0.0929 | Val Loss: 0.0919\n",
      "Epoch 38 | Train Loss: 0.0917 | Val Loss: 0.0911\n",
      "Epoch 39 | Train Loss: 0.0911 | Val Loss: 0.0907\n",
      "Epoch 40 | Train Loss: 0.0906 | Val Loss: 0.0900\n",
      "Epoch 41 | Train Loss: 0.0900 | Val Loss: 0.0890\n",
      "Epoch 42 | Train Loss: 0.0882 | Val Loss: 0.0873\n",
      "Epoch 43 | Train Loss: 0.0867 | Val Loss: 0.0858\n",
      "Epoch 44 | Train Loss: 0.0859 | Val Loss: 0.0858\n",
      "Epoch 45 | Train Loss: 0.0862 | Val Loss: 0.0857\n",
      "Epoch 46 | Train Loss: 0.0856 | Val Loss: 0.0851\n",
      "Epoch 47 | Train Loss: 0.0849 | Val Loss: 0.0847\n",
      "Epoch 48 | Train Loss: 0.0848 | Val Loss: 0.0850\n",
      "Epoch 49 | Train Loss: 0.0850 | Val Loss: 0.0840\n",
      "Epoch 50 | Train Loss: 0.0838 | Val Loss: 0.0837\n",
      "Epoch 51 | Train Loss: 0.0836 | Val Loss: 0.0831\n",
      "Epoch 52 | Train Loss: 0.0832 | Val Loss: 0.0826\n",
      "Epoch 53 | Train Loss: 0.0824 | Val Loss: 0.0820\n",
      "Epoch 54 | Train Loss: 0.0817 | Val Loss: 0.0811\n",
      "Epoch 55 | Train Loss: 0.0813 | Val Loss: 0.0807\n",
      "Epoch 56 | Train Loss: 0.0808 | Val Loss: 0.0800\n",
      "Epoch 57 | Train Loss: 0.0804 | Val Loss: 0.0794\n",
      "Epoch 58 | Train Loss: 0.0797 | Val Loss: 0.0795\n",
      "Epoch 59 | Train Loss: 0.0795 | Val Loss: 0.0788\n",
      "Epoch 60 | Train Loss: 0.0790 | Val Loss: 0.0789\n",
      "Epoch 61 | Train Loss: 0.0788 | Val Loss: 0.0787\n",
      "Epoch 62 | Train Loss: 0.0784 | Val Loss: 0.0785\n",
      "Epoch 63 | Train Loss: 0.0783 | Val Loss: 0.0776\n",
      "Epoch 64 | Train Loss: 0.0768 | Val Loss: 0.0762\n",
      "Epoch 65 | Train Loss: 0.0759 | Val Loss: 0.0756\n",
      "Epoch 66 | Train Loss: 0.0754 | Val Loss: 0.0753\n",
      "Epoch 67 | Train Loss: 0.0753 | Val Loss: 0.0754\n",
      "Epoch 68 | Train Loss: 0.0757 | Val Loss: 0.0758\n",
      "Epoch 69 | Train Loss: 0.0758 | Val Loss: 0.0752\n",
      "Epoch 70 | Train Loss: 0.0752 | Val Loss: 0.0749\n",
      "Epoch 71 | Train Loss: 0.0752 | Val Loss: 0.0751\n",
      "Epoch 72 | Train Loss: 0.0749 | Val Loss: 0.0747\n",
      "Epoch 73 | Train Loss: 0.0747 | Val Loss: 0.0746\n",
      "Epoch 74 | Train Loss: 0.0748 | Val Loss: 0.0742\n",
      "Epoch 75 | Train Loss: 0.0745 | Val Loss: 0.0744\n",
      "Epoch 76 | Train Loss: 0.0745 | Val Loss: 0.0744\n",
      "Epoch 77 | Train Loss: 0.0744 | Val Loss: 0.0741\n",
      "Epoch 78 | Train Loss: 0.0744 | Val Loss: 0.0745\n",
      "Epoch 79 | Train Loss: 0.0743 | Val Loss: 0.0740\n",
      "Epoch 80 | Train Loss: 0.0740 | Val Loss: 0.0740\n",
      "Epoch 81 | Train Loss: 0.0740 | Val Loss: 0.0740\n",
      "Epoch 82 | Train Loss: 0.0738 | Val Loss: 0.0735\n",
      "Epoch 83 | Train Loss: 0.0736 | Val Loss: 0.0736\n",
      "Epoch 84 | Train Loss: 0.0737 | Val Loss: 0.0734\n",
      "Epoch 85 | Train Loss: 0.0736 | Val Loss: 0.0735\n",
      "Epoch 86 | Train Loss: 0.0736 | Val Loss: 0.0734\n",
      "Epoch 87 | Train Loss: 0.0734 | Val Loss: 0.0731\n",
      "Epoch 88 | Train Loss: 0.0729 | Val Loss: 0.0729\n",
      "Epoch 89 | Train Loss: 0.0733 | Val Loss: 0.0730\n",
      "Epoch 90 | Train Loss: 0.0731 | Val Loss: 0.0728\n",
      "Epoch 91 | Train Loss: 0.0730 | Val Loss: 0.0736\n",
      "Epoch 92 | Train Loss: 0.0731 | Val Loss: 0.0727\n",
      "Epoch 93 | Train Loss: 0.0724 | Val Loss: 0.0725\n",
      "Epoch 94 | Train Loss: 0.0728 | Val Loss: 0.0725\n",
      "Epoch 95 | Train Loss: 0.0725 | Val Loss: 0.0723\n",
      "Epoch 96 | Train Loss: 0.0722 | Val Loss: 0.0718\n",
      "Epoch 97 | Train Loss: 0.0723 | Val Loss: 0.0718\n",
      "Epoch 98 | Train Loss: 0.0720 | Val Loss: 0.0717\n",
      "Epoch 99 | Train Loss: 0.0718 | Val Loss: 0.0719\n",
      "Epoch 100 | Train Loss: 0.0718 | Val Loss: 0.0715\n",
      "Epoch 101 | Train Loss: 0.0717 | Val Loss: 0.0717\n",
      "Epoch 102 | Train Loss: 0.0716 | Val Loss: 0.0711\n",
      "Epoch 103 | Train Loss: 0.0715 | Val Loss: 0.0714\n",
      "Epoch 104 | Train Loss: 0.0713 | Val Loss: 0.0708\n",
      "Epoch 105 | Train Loss: 0.0712 | Val Loss: 0.0716\n",
      "Epoch 106 | Train Loss: 0.0712 | Val Loss: 0.0712\n",
      "Epoch 107 | Train Loss: 0.0709 | Val Loss: 0.0705\n",
      "Epoch 108 | Train Loss: 0.0700 | Val Loss: 0.0695\n",
      "Epoch 109 | Train Loss: 0.0696 | Val Loss: 0.0691\n",
      "Epoch 110 | Train Loss: 0.0692 | Val Loss: 0.0692\n",
      "Epoch 111 | Train Loss: 0.0693 | Val Loss: 0.0694\n",
      "Epoch 112 | Train Loss: 0.0693 | Val Loss: 0.0693\n",
      "Epoch 113 | Train Loss: 0.0690 | Val Loss: 0.0687\n",
      "Epoch 114 | Train Loss: 0.0688 | Val Loss: 0.0689\n",
      "Epoch 115 | Train Loss: 0.0685 | Val Loss: 0.0682\n",
      "Epoch 116 | Train Loss: 0.0686 | Val Loss: 0.0685\n",
      "Epoch 117 | Train Loss: 0.0683 | Val Loss: 0.0684\n",
      "Epoch 118 | Train Loss: 0.0683 | Val Loss: 0.0681\n",
      "Epoch 119 | Train Loss: 0.0684 | Val Loss: 0.0678\n",
      "Epoch 120 | Train Loss: 0.0684 | Val Loss: 0.0680\n",
      "Epoch 121 | Train Loss: 0.0682 | Val Loss: 0.0679\n",
      "Epoch 122 | Train Loss: 0.0678 | Val Loss: 0.0681\n",
      "Epoch 123 | Train Loss: 0.0682 | Val Loss: 0.0679\n",
      "Epoch 124 | Train Loss: 0.0682 | Val Loss: 0.0677\n",
      "Epoch 125 | Train Loss: 0.0681 | Val Loss: 0.0678\n",
      "Epoch 126 | Train Loss: 0.0680 | Val Loss: 0.0675\n",
      "Epoch 127 | Train Loss: 0.0676 | Val Loss: 0.0675\n",
      "Epoch 128 | Train Loss: 0.0675 | Val Loss: 0.0675\n",
      "Epoch 129 | Train Loss: 0.0676 | Val Loss: 0.0674\n",
      "Epoch 130 | Train Loss: 0.0678 | Val Loss: 0.0674\n",
      "Epoch 131 | Train Loss: 0.0673 | Val Loss: 0.0677\n",
      "Epoch 132 | Train Loss: 0.0676 | Val Loss: 0.0675\n",
      "Epoch 133 | Train Loss: 0.0675 | Val Loss: 0.0671\n",
      "Epoch 134 | Train Loss: 0.0674 | Val Loss: 0.0672\n",
      "Epoch 135 | Train Loss: 0.0672 | Val Loss: 0.0670\n",
      "Epoch 136 | Train Loss: 0.0675 | Val Loss: 0.0673\n",
      "Epoch 137 | Train Loss: 0.0670 | Val Loss: 0.0659\n",
      "Epoch 138 | Train Loss: 0.0661 | Val Loss: 0.0657\n",
      "Epoch 139 | Train Loss: 0.0659 | Val Loss: 0.0658\n",
      "Epoch 140 | Train Loss: 0.0657 | Val Loss: 0.0657\n",
      "Epoch 141 | Train Loss: 0.0658 | Val Loss: 0.0659\n",
      "Epoch 142 | Train Loss: 0.0657 | Val Loss: 0.0659\n",
      "Epoch 143 | Train Loss: 0.0656 | Val Loss: 0.0656\n",
      "Epoch 144 | Train Loss: 0.0654 | Val Loss: 0.0657\n",
      "Epoch 145 | Train Loss: 0.0657 | Val Loss: 0.0655\n",
      "Epoch 146 | Train Loss: 0.0656 | Val Loss: 0.0651\n",
      "Epoch 147 | Train Loss: 0.0650 | Val Loss: 0.0647\n",
      "Epoch 148 | Train Loss: 0.0646 | Val Loss: 0.0644\n",
      "Epoch 149 | Train Loss: 0.0644 | Val Loss: 0.0646\n",
      "Epoch 150 | Train Loss: 0.0644 | Val Loss: 0.0643\n",
      "Epoch 151 | Train Loss: 0.0643 | Val Loss: 0.0643\n",
      "Epoch 152 | Train Loss: 0.0643 | Val Loss: 0.0643\n",
      "Epoch 153 | Train Loss: 0.0643 | Val Loss: 0.0644\n",
      "Epoch 154 | Train Loss: 0.0643 | Val Loss: 0.0642\n",
      "Epoch 155 | Train Loss: 0.0644 | Val Loss: 0.0639\n",
      "Epoch 156 | Train Loss: 0.0643 | Val Loss: 0.0646\n",
      "Epoch 157 | Train Loss: 0.0645 | Val Loss: 0.0639\n",
      "Epoch 158 | Train Loss: 0.0643 | Val Loss: 0.0637\n",
      "Epoch 159 | Train Loss: 0.0641 | Val Loss: 0.0641\n",
      "Epoch 160 | Train Loss: 0.0640 | Val Loss: 0.0637\n",
      "Epoch 161 | Train Loss: 0.0638 | Val Loss: 0.0642\n",
      "Epoch 162 | Train Loss: 0.0640 | Val Loss: 0.0640\n",
      "Epoch 163 | Train Loss: 0.0640 | Val Loss: 0.0639\n",
      "Epoch 164 | Train Loss: 0.0641 | Val Loss: 0.0637\n",
      "Epoch 165 | Train Loss: 0.0638 | Val Loss: 0.0636\n",
      "Epoch 166 | Train Loss: 0.0635 | Val Loss: 0.0638\n",
      "Epoch 167 | Train Loss: 0.0636 | Val Loss: 0.0635\n",
      "Epoch 168 | Train Loss: 0.0636 | Val Loss: 0.0635\n",
      "Epoch 169 | Train Loss: 0.0636 | Val Loss: 0.0633\n",
      "Epoch 170 | Train Loss: 0.0637 | Val Loss: 0.0634\n",
      "Epoch 171 | Train Loss: 0.0633 | Val Loss: 0.0638\n",
      "Epoch 172 | Train Loss: 0.0637 | Val Loss: 0.0634\n",
      "Epoch 173 | Train Loss: 0.0636 | Val Loss: 0.0635\n",
      "Epoch 174 | Train Loss: 0.0632 | Val Loss: 0.0632\n",
      "Epoch 175 | Train Loss: 0.0634 | Val Loss: 0.0629\n",
      "Epoch 176 | Train Loss: 0.0630 | Val Loss: 0.0631\n",
      "Epoch 177 | Train Loss: 0.0633 | Val Loss: 0.0631\n",
      "Epoch 178 | Train Loss: 0.0631 | Val Loss: 0.0631\n",
      "Epoch 179 | Train Loss: 0.0629 | Val Loss: 0.0629\n",
      "Epoch 180 | Train Loss: 0.0630 | Val Loss: 0.0629\n",
      "Epoch 181 | Train Loss: 0.0628 | Val Loss: 0.0630\n",
      "Epoch 182 | Train Loss: 0.0630 | Val Loss: 0.0629\n",
      "Epoch 183 | Train Loss: 0.0629 | Val Loss: 0.0630\n",
      "Epoch 184 | Train Loss: 0.0634 | Val Loss: 0.0637\n",
      "Epoch 185 | Train Loss: 0.0635 | Val Loss: 0.0629\n",
      "Epoch 186 | Train Loss: 0.0630 | Val Loss: 0.0630\n",
      "Epoch 187 | Train Loss: 0.0627 | Val Loss: 0.0624\n",
      "Epoch 188 | Train Loss: 0.0624 | Val Loss: 0.0624\n",
      "Epoch 189 | Train Loss: 0.0628 | Val Loss: 0.0627\n",
      "Epoch 190 | Train Loss: 0.0626 | Val Loss: 0.0626\n",
      "Epoch 191 | Train Loss: 0.0625 | Val Loss: 0.0629\n",
      "Epoch 192 | Train Loss: 0.0629 | Val Loss: 0.0624\n",
      "Epoch 193 | Train Loss: 0.0624 | Val Loss: 0.0621\n",
      "Epoch 194 | Train Loss: 0.0622 | Val Loss: 0.0620\n",
      "Epoch 195 | Train Loss: 0.0622 | Val Loss: 0.0619\n",
      "Epoch 196 | Train Loss: 0.0621 | Val Loss: 0.0624\n",
      "Epoch 197 | Train Loss: 0.0623 | Val Loss: 0.0625\n",
      "Epoch 198 | Train Loss: 0.0620 | Val Loss: 0.0624\n",
      "Epoch 199 | Train Loss: 0.0624 | Val Loss: 0.0619\n",
      "Epoch 200 | Train Loss: 0.0619 | Val Loss: 0.0619\n"
     ]
    }
   ],
   "source": [
    "set_size = 100\n",
    "N_sets = 10**3\n",
    "\n",
    "mnist_sets, _ = sample_mnist_sets(N_sets, set_size)\n",
    "train_loader = torch.utils.data.DataLoader(mnist_sets, \n",
    "                                           batch_size=32, shuffle=True)\n",
    "\n",
    "mnist_sets, _ = sample_mnist_sets(N_sets, set_size)\n",
    "val_loader = torch.utils.data.DataLoader(mnist_sets, \n",
    "                                           batch_size=32, shuffle=False)\n",
    "\n",
    "\n",
    "\n",
    "def loss_fn(X, Y):\n",
    "    return torch.vmap(sliced_wasserstein_distance, randomness='different')(X, Y).mean()\n",
    "\n",
    "dist_ae = SetAutoencoderGNN(mnist_sets.shape[2], 16, 64, set_size)\n",
    "optimizer = torch.optim.Adam(dist_ae.parameters(), lr=5e-4)\n",
    "\n",
    "dist_ae = train_w_stop(dist_ae, optimizer, train_loader, val_loader, \n",
    "                       loss_fn, max_epochs=200, patience=10, device='mps')"
   ]
  },
  {
   "cell_type": "code",
   "execution_count": 9,
   "metadata": {},
   "outputs": [
    {
     "name": "stderr",
     "output_type": "stream",
     "text": [
      "/var/folders/6y/y7jr3zbd39b6fvmxt9lwswl00000gn/T/ipykernel_75811/319726545.py:7: UserWarning: To copy construct from a tensor, it is recommended to use sourceTensor.clone().detach() or sourceTensor.clone().detach().requires_grad_(True), rather than torch.tensor(sourceTensor).\n",
      "  label_to_indices = {i: torch.where(torch.tensor(dataset.targets) == i)[0] for i in range(10)}\n"
     ]
    }
   ],
   "source": [
    "test_sets, metadata = sample_mnist_sets(1000, set_size)\n",
    "with torch.no_grad():\n",
    "    z, rec = dist_ae((test_sets).float().to('mps'))"
   ]
  },
  {
   "cell_type": "code",
   "execution_count": 10,
   "metadata": {},
   "outputs": [
    {
     "name": "stderr",
     "output_type": "stream",
     "text": [
      "OMP: Info #276: omp_set_nested routine deprecated, please use omp_set_max_active_levels instead.\n"
     ]
    }
   ],
   "source": [
    "umap = UMAP(n_components=2)\n",
    "vis = umap.fit_transform(z.cpu().numpy())"
   ]
  },
  {
   "cell_type": "code",
   "execution_count": 11,
   "metadata": {},
   "outputs": [
    {
     "data": {
      "image/png": "[encoded data removed]",
      "text/plain": [
       "<Figure size 300x300 with 1 Axes>"
      ]
     },
     "metadata": {},
     "output_type": "display_data"
    }
   ],
   "source": [
    "fig = plt.figure(figsize=(2,2), dpi=150)\n",
    "sns.scatterplot(x=vis[:, 0], y=vis[:, 1], hue=metadata, s=3, alpha=0.7,\n",
    "                palette='tab10', legend=False)\n",
    "plt.axis('off')\n",
    "plt.show()"
   ]
  },
  {
   "cell_type": "code",
   "execution_count": 7,
   "metadata": {},
   "outputs": [],
   "source": [
    "from sklearn.decomposition import PCA\n",
    "\n",
    "def pca_means(mnist_sets, n_components=16):\n",
    "    n_sets, set_size, dims = mnist_sets.shape\n",
    "    flat_data = mnist_sets.view(-1, dims)  # flatten sets into a single batch\n",
    "\n",
    "    pca = PCA(n_components=n_components)\n",
    "    pcs = pca.fit_transform(flat_data)  # get principal components\n",
    "\n",
    "    pcs = pcs.reshape(n_sets, set_size, -1)  # restore set structure\n",
    "    return pcs.mean(axis=1)  # mean over each set\n",
    "\n",
    "pca_means_res = pca_means(test_sets)\n"
   ]
  },
  {
   "cell_type": "code",
   "execution_count": 8,
   "metadata": {},
   "outputs": [
    {
     "name": "stderr",
     "output_type": "stream",
     "text": [
      "/home/gokulg/.conda/envs/metaMI/lib/python3.11/site-packages/sklearn/utils/deprecation.py:151: FutureWarning: 'force_all_finite' was renamed to 'ensure_all_finite' in 1.6 and will be removed in 1.8.\n",
      "  warnings.warn(\n"
     ]
    }
   ],
   "source": [
    "vis = umap.fit_transform(pca_means_res)"
   ]
  },
  {
   "cell_type": "code",
   "execution_count": 9,
   "metadata": {},
   "outputs": [
    {
     "data": {
      "image/png": "[encoded data removed]",
      "text/plain": [
       "<Figure size 300x300 with 1 Axes>"
      ]
     },
     "metadata": {},
     "output_type": "display_data"
    }
   ],
   "source": [
    "fig = plt.figure(figsize=(2,2), dpi=150)\n",
    "sns.scatterplot(x=vis[:, 0], y=vis[:, 1], hue=metadata, s=5, alpha=0.7,\n",
    "                palette='tab10', legend=False)\n",
    "plt.axis('off')\n",
    "plt.show()"
   ]
  },
  {
   "cell_type": "code",
   "execution_count": null,
   "metadata": {},
   "outputs": [],
   "source": []
  }
 ],
 "metadata": {
  "kernelspec": {
   "display_name": "pytorch",
   "language": "python",
   "name": "python3"
  },
  "language_info": {
   "codemirror_mode": {
    "name": "ipython",
    "version": 3
   },
   "file_extension": ".py",
   "mimetype": "text/x-python",
   "name": "python",
   "nbconvert_exporter": "python",
   "pygments_lexer": "ipython3",
   "version": "3.8.12"
  }
 },
 "nbformat": 4,
 "nbformat_minor": 2
}
