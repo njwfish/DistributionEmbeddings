{
 "cells": [
  {
   "cell_type": "code",
   "execution_count": 1,
   "metadata": {},
   "outputs": [],
   "source": [
    "import torch\n",
    "import torchvision\n",
    "from torchvision import transforms\n",
    "\n",
    "from dist_ae import SetAutoencoderGNN, SetAutoencoderTx, train_w_stop\n",
    "from losses import sliced_wasserstein_distance\n",
    "\n",
    "from umap import UMAP\n",
    "import seaborn as sns\n",
    "import matplotlib.pyplot as plt"
   ]
  },
  {
   "cell_type": "code",
   "execution_count": 2,
   "metadata": {},
   "outputs": [],
   "source": [
    "def sample_mnist_sets(n_sets, set_size):\n",
    "    # load mnist dataset\n",
    "    transform = transforms.Compose([transforms.ToTensor(), transforms.Lambda(lambda x: x.view(-1))])\n",
    "    dataset = torchvision.datasets.MNIST(root=\"./data\", train=True, download=True, transform=transform)\n",
    "    \n",
    "    # group indices by label\n",
    "    label_to_indices = {i: torch.where(torch.tensor(dataset.targets) == i)[0] for i in range(10)}\n",
    "    \n",
    "    sets = []\n",
    "    metadata = []\n",
    "    for _ in range(n_sets):\n",
    "        label = torch.randint(0, 10, (1,)).item()  # random label\n",
    "        indices = torch.randperm(len(label_to_indices[label]))[:set_size]  # sample set_size images\n",
    "        sets.append(dataset.data[label_to_indices[label][indices]].float().view(set_size, -1) / 255.0)\n",
    "        metadata.append(label)  # store label info\n",
    "    \n",
    "    return torch.stack(sets).float(), metadata"
   ]
  },
  {
   "cell_type": "code",
   "execution_count": 3,
   "metadata": {},
   "outputs": [
    {
     "name": "stderr",
     "output_type": "stream",
     "text": [
      "/tmp/ipykernel_1505132/319726545.py:7: UserWarning: To copy construct from a tensor, it is recommended to use sourceTensor.clone().detach() or sourceTensor.clone().detach().requires_grad_(True), rather than torch.tensor(sourceTensor).\n",
      "  label_to_indices = {i: torch.where(torch.tensor(dataset.targets) == i)[0] for i in range(10)}\n"
     ]
    },
    {
     "name": "stdout",
     "output_type": "stream",
     "text": [
      "Epoch 1 | Train Loss: 0.2766 | Val Loss: 0.2056\n",
      "Epoch 2 | Train Loss: 0.1727 | Val Loss: 0.1556\n",
      "Epoch 3 | Train Loss: 0.1532 | Val Loss: 0.1509\n",
      "Epoch 4 | Train Loss: 0.1478 | Val Loss: 0.1473\n",
      "Epoch 5 | Train Loss: 0.1455 | Val Loss: 0.1447\n",
      "Epoch 6 | Train Loss: 0.1418 | Val Loss: 0.1390\n",
      "Epoch 7 | Train Loss: 0.1359 | Val Loss: 0.1329\n",
      "Epoch 8 | Train Loss: 0.1291 | Val Loss: 0.1269\n",
      "Epoch 9 | Train Loss: 0.1240 | Val Loss: 0.1233\n",
      "Epoch 10 | Train Loss: 0.1215 | Val Loss: 0.1220\n",
      "Epoch 11 | Train Loss: 0.1207 | Val Loss: 0.1222\n",
      "Epoch 12 | Train Loss: 0.1202 | Val Loss: 0.1182\n",
      "Epoch 13 | Train Loss: 0.1169 | Val Loss: 0.1168\n",
      "Epoch 14 | Train Loss: 0.1161 | Val Loss: 0.1167\n",
      "Epoch 15 | Train Loss: 0.1151 | Val Loss: 0.1156\n",
      "Epoch 16 | Train Loss: 0.1147 | Val Loss: 0.1148\n",
      "Epoch 17 | Train Loss: 0.1140 | Val Loss: 0.1152\n",
      "Epoch 18 | Train Loss: 0.1137 | Val Loss: 0.1139\n",
      "Epoch 19 | Train Loss: 0.1130 | Val Loss: 0.1128\n",
      "Epoch 20 | Train Loss: 0.1123 | Val Loss: 0.1124\n",
      "Epoch 21 | Train Loss: 0.1110 | Val Loss: 0.1113\n",
      "Epoch 22 | Train Loss: 0.1102 | Val Loss: 0.1112\n",
      "Epoch 23 | Train Loss: 0.1100 | Val Loss: 0.1102\n",
      "Epoch 24 | Train Loss: 0.1090 | Val Loss: 0.1089\n",
      "Epoch 25 | Train Loss: 0.1075 | Val Loss: 0.1082\n",
      "Epoch 26 | Train Loss: 0.1065 | Val Loss: 0.1076\n",
      "Epoch 27 | Train Loss: 0.1063 | Val Loss: 0.1068\n",
      "Epoch 28 | Train Loss: 0.1064 | Val Loss: 0.1071\n",
      "Epoch 29 | Train Loss: 0.1052 | Val Loss: 0.1059\n",
      "Epoch 30 | Train Loss: 0.1048 | Val Loss: 0.1056\n",
      "Epoch 31 | Train Loss: 0.1042 | Val Loss: 0.1045\n",
      "Epoch 32 | Train Loss: 0.1032 | Val Loss: 0.1037\n",
      "Epoch 33 | Train Loss: 0.1026 | Val Loss: 0.1022\n",
      "Epoch 34 | Train Loss: 0.1014 | Val Loss: 0.1011\n",
      "Epoch 35 | Train Loss: 0.1007 | Val Loss: 0.1002\n",
      "Epoch 36 | Train Loss: 0.0986 | Val Loss: 0.0980\n",
      "Epoch 37 | Train Loss: 0.0969 | Val Loss: 0.0963\n",
      "Epoch 38 | Train Loss: 0.0951 | Val Loss: 0.0949\n",
      "Epoch 39 | Train Loss: 0.0939 | Val Loss: 0.0929\n",
      "Epoch 40 | Train Loss: 0.0910 | Val Loss: 0.0900\n",
      "Epoch 41 | Train Loss: 0.0896 | Val Loss: 0.0892\n",
      "Epoch 42 | Train Loss: 0.0891 | Val Loss: 0.0890\n",
      "Epoch 43 | Train Loss: 0.0881 | Val Loss: 0.0877\n",
      "Epoch 44 | Train Loss: 0.0872 | Val Loss: 0.0870\n",
      "Epoch 45 | Train Loss: 0.0869 | Val Loss: 0.0867\n",
      "Epoch 46 | Train Loss: 0.0862 | Val Loss: 0.0866\n",
      "Epoch 47 | Train Loss: 0.0860 | Val Loss: 0.0862\n",
      "Epoch 48 | Train Loss: 0.0853 | Val Loss: 0.0854\n",
      "Epoch 49 | Train Loss: 0.0848 | Val Loss: 0.0850\n",
      "Epoch 50 | Train Loss: 0.0846 | Val Loss: 0.0847\n",
      "Epoch 51 | Train Loss: 0.0838 | Val Loss: 0.0839\n",
      "Epoch 52 | Train Loss: 0.0832 | Val Loss: 0.0831\n",
      "Epoch 53 | Train Loss: 0.0826 | Val Loss: 0.0823\n",
      "Epoch 54 | Train Loss: 0.0820 | Val Loss: 0.0823\n",
      "Epoch 55 | Train Loss: 0.0818 | Val Loss: 0.0823\n",
      "Epoch 56 | Train Loss: 0.0816 | Val Loss: 0.0813\n",
      "Epoch 57 | Train Loss: 0.0809 | Val Loss: 0.0808\n",
      "Epoch 58 | Train Loss: 0.0808 | Val Loss: 0.0809\n",
      "Epoch 59 | Train Loss: 0.0802 | Val Loss: 0.0802\n",
      "Epoch 60 | Train Loss: 0.0797 | Val Loss: 0.0802\n",
      "Epoch 61 | Train Loss: 0.0799 | Val Loss: 0.0799\n",
      "Epoch 62 | Train Loss: 0.0800 | Val Loss: 0.0799\n",
      "Epoch 63 | Train Loss: 0.0793 | Val Loss: 0.0799\n",
      "Epoch 64 | Train Loss: 0.0793 | Val Loss: 0.0794\n",
      "Epoch 65 | Train Loss: 0.0789 | Val Loss: 0.0790\n",
      "Epoch 66 | Train Loss: 0.0779 | Val Loss: 0.0776\n",
      "Epoch 67 | Train Loss: 0.0768 | Val Loss: 0.0762\n",
      "Epoch 68 | Train Loss: 0.0756 | Val Loss: 0.0760\n",
      "Epoch 69 | Train Loss: 0.0756 | Val Loss: 0.0756\n",
      "Epoch 70 | Train Loss: 0.0752 | Val Loss: 0.0755\n",
      "Epoch 71 | Train Loss: 0.0748 | Val Loss: 0.0749\n",
      "Epoch 72 | Train Loss: 0.0751 | Val Loss: 0.0748\n",
      "Epoch 73 | Train Loss: 0.0743 | Val Loss: 0.0749\n",
      "Epoch 74 | Train Loss: 0.0743 | Val Loss: 0.0744\n",
      "Epoch 75 | Train Loss: 0.0741 | Val Loss: 0.0745\n",
      "Epoch 76 | Train Loss: 0.0742 | Val Loss: 0.0737\n",
      "Epoch 77 | Train Loss: 0.0731 | Val Loss: 0.0733\n",
      "Epoch 78 | Train Loss: 0.0720 | Val Loss: 0.0722\n",
      "Epoch 79 | Train Loss: 0.0721 | Val Loss: 0.0719\n",
      "Epoch 80 | Train Loss: 0.0713 | Val Loss: 0.0718\n",
      "Epoch 81 | Train Loss: 0.0717 | Val Loss: 0.0719\n",
      "Epoch 82 | Train Loss: 0.0711 | Val Loss: 0.0715\n",
      "Epoch 83 | Train Loss: 0.0712 | Val Loss: 0.0712\n",
      "Epoch 84 | Train Loss: 0.0709 | Val Loss: 0.0714\n",
      "Epoch 85 | Train Loss: 0.0710 | Val Loss: 0.0713\n",
      "Epoch 86 | Train Loss: 0.0705 | Val Loss: 0.0708\n",
      "Epoch 87 | Train Loss: 0.0708 | Val Loss: 0.0712\n",
      "Epoch 88 | Train Loss: 0.0707 | Val Loss: 0.0713\n",
      "Epoch 89 | Train Loss: 0.0704 | Val Loss: 0.0711\n",
      "Epoch 90 | Train Loss: 0.0704 | Val Loss: 0.0706\n",
      "Epoch 91 | Train Loss: 0.0705 | Val Loss: 0.0704\n",
      "Epoch 92 | Train Loss: 0.0702 | Val Loss: 0.0709\n",
      "Epoch 93 | Train Loss: 0.0704 | Val Loss: 0.0710\n",
      "Epoch 94 | Train Loss: 0.0700 | Val Loss: 0.0705\n",
      "Epoch 95 | Train Loss: 0.0700 | Val Loss: 0.0700\n",
      "Epoch 96 | Train Loss: 0.0699 | Val Loss: 0.0699\n",
      "Epoch 97 | Train Loss: 0.0694 | Val Loss: 0.0700\n",
      "Epoch 98 | Train Loss: 0.0695 | Val Loss: 0.0698\n",
      "Epoch 99 | Train Loss: 0.0694 | Val Loss: 0.0698\n",
      "Epoch 100 | Train Loss: 0.0692 | Val Loss: 0.0695\n",
      "Epoch 101 | Train Loss: 0.0690 | Val Loss: 0.0698\n",
      "Epoch 102 | Train Loss: 0.0696 | Val Loss: 0.0698\n",
      "Epoch 103 | Train Loss: 0.0693 | Val Loss: 0.0697\n",
      "Epoch 104 | Train Loss: 0.0693 | Val Loss: 0.0692\n",
      "Epoch 105 | Train Loss: 0.0691 | Val Loss: 0.0692\n",
      "Epoch 106 | Train Loss: 0.0689 | Val Loss: 0.0690\n",
      "Epoch 107 | Train Loss: 0.0686 | Val Loss: 0.0694\n",
      "Epoch 108 | Train Loss: 0.0686 | Val Loss: 0.0689\n",
      "Epoch 109 | Train Loss: 0.0684 | Val Loss: 0.0689\n",
      "Epoch 110 | Train Loss: 0.0685 | Val Loss: 0.0689\n",
      "Epoch 111 | Train Loss: 0.0682 | Val Loss: 0.0690\n",
      "Epoch 112 | Train Loss: 0.0685 | Val Loss: 0.0689\n",
      "Epoch 113 | Train Loss: 0.0683 | Val Loss: 0.0688\n",
      "Epoch 114 | Train Loss: 0.0682 | Val Loss: 0.0689\n",
      "Epoch 115 | Train Loss: 0.0687 | Val Loss: 0.0688\n",
      "Epoch 116 | Train Loss: 0.0679 | Val Loss: 0.0680\n",
      "Epoch 117 | Train Loss: 0.0672 | Val Loss: 0.0676\n",
      "Epoch 118 | Train Loss: 0.0667 | Val Loss: 0.0670\n",
      "Epoch 119 | Train Loss: 0.0668 | Val Loss: 0.0671\n",
      "Epoch 120 | Train Loss: 0.0667 | Val Loss: 0.0670\n",
      "Epoch 121 | Train Loss: 0.0663 | Val Loss: 0.0668\n",
      "Epoch 122 | Train Loss: 0.0663 | Val Loss: 0.0667\n",
      "Epoch 123 | Train Loss: 0.0663 | Val Loss: 0.0669\n",
      "Epoch 124 | Train Loss: 0.0661 | Val Loss: 0.0667\n",
      "Epoch 125 | Train Loss: 0.0662 | Val Loss: 0.0664\n",
      "Epoch 126 | Train Loss: 0.0659 | Val Loss: 0.0665\n",
      "Epoch 127 | Train Loss: 0.0662 | Val Loss: 0.0664\n",
      "Epoch 128 | Train Loss: 0.0661 | Val Loss: 0.0665\n",
      "Epoch 129 | Train Loss: 0.0663 | Val Loss: 0.0664\n",
      "Epoch 130 | Train Loss: 0.0659 | Val Loss: 0.0668\n",
      "Epoch 131 | Train Loss: 0.0663 | Val Loss: 0.0667\n",
      "Epoch 132 | Train Loss: 0.0659 | Val Loss: 0.0661\n",
      "Epoch 133 | Train Loss: 0.0660 | Val Loss: 0.0662\n",
      "Epoch 134 | Train Loss: 0.0659 | Val Loss: 0.0664\n",
      "Epoch 135 | Train Loss: 0.0658 | Val Loss: 0.0661\n",
      "Epoch 136 | Train Loss: 0.0655 | Val Loss: 0.0662\n",
      "Epoch 137 | Train Loss: 0.0657 | Val Loss: 0.0659\n",
      "Epoch 138 | Train Loss: 0.0657 | Val Loss: 0.0663\n",
      "Epoch 139 | Train Loss: 0.0659 | Val Loss: 0.0659\n",
      "Epoch 140 | Train Loss: 0.0655 | Val Loss: 0.0661\n",
      "Epoch 141 | Train Loss: 0.0656 | Val Loss: 0.0658\n",
      "Epoch 142 | Train Loss: 0.0650 | Val Loss: 0.0650\n",
      "Epoch 143 | Train Loss: 0.0645 | Val Loss: 0.0647\n",
      "Epoch 144 | Train Loss: 0.0645 | Val Loss: 0.0648\n",
      "Epoch 145 | Train Loss: 0.0645 | Val Loss: 0.0648\n",
      "Epoch 146 | Train Loss: 0.0643 | Val Loss: 0.0649\n",
      "Epoch 147 | Train Loss: 0.0644 | Val Loss: 0.0647\n",
      "Epoch 148 | Train Loss: 0.0641 | Val Loss: 0.0650\n",
      "Epoch 149 | Train Loss: 0.0644 | Val Loss: 0.0646\n",
      "Epoch 150 | Train Loss: 0.0641 | Val Loss: 0.0643\n",
      "Epoch 151 | Train Loss: 0.0639 | Val Loss: 0.0642\n",
      "Epoch 152 | Train Loss: 0.0638 | Val Loss: 0.0644\n",
      "Epoch 153 | Train Loss: 0.0640 | Val Loss: 0.0644\n",
      "Epoch 154 | Train Loss: 0.0639 | Val Loss: 0.0644\n",
      "Epoch 155 | Train Loss: 0.0639 | Val Loss: 0.0640\n",
      "Epoch 156 | Train Loss: 0.0640 | Val Loss: 0.0645\n",
      "Epoch 157 | Train Loss: 0.0640 | Val Loss: 0.0639\n",
      "Epoch 158 | Train Loss: 0.0636 | Val Loss: 0.0640\n",
      "Epoch 159 | Train Loss: 0.0637 | Val Loss: 0.0640\n",
      "Epoch 160 | Train Loss: 0.0637 | Val Loss: 0.0641\n",
      "Epoch 161 | Train Loss: 0.0638 | Val Loss: 0.0640\n",
      "Epoch 162 | Train Loss: 0.0632 | Val Loss: 0.0641\n",
      "Epoch 163 | Train Loss: 0.0638 | Val Loss: 0.0638\n",
      "Epoch 164 | Train Loss: 0.0634 | Val Loss: 0.0639\n",
      "Epoch 165 | Train Loss: 0.0634 | Val Loss: 0.0635\n",
      "Epoch 166 | Train Loss: 0.0632 | Val Loss: 0.0639\n",
      "Epoch 167 | Train Loss: 0.0632 | Val Loss: 0.0636\n",
      "Epoch 168 | Train Loss: 0.0633 | Val Loss: 0.0634\n",
      "Epoch 169 | Train Loss: 0.0634 | Val Loss: 0.0637\n",
      "Epoch 170 | Train Loss: 0.0632 | Val Loss: 0.0637\n",
      "Epoch 171 | Train Loss: 0.0629 | Val Loss: 0.0636\n",
      "Epoch 172 | Train Loss: 0.0630 | Val Loss: 0.0634\n",
      "Epoch 173 | Train Loss: 0.0631 | Val Loss: 0.0634\n",
      "Epoch 174 | Train Loss: 0.0629 | Val Loss: 0.0632\n",
      "Epoch 175 | Train Loss: 0.0627 | Val Loss: 0.0633\n",
      "Epoch 176 | Train Loss: 0.0629 | Val Loss: 0.0632\n",
      "Epoch 177 | Train Loss: 0.0630 | Val Loss: 0.0630\n",
      "Epoch 178 | Train Loss: 0.0628 | Val Loss: 0.0633\n",
      "Epoch 179 | Train Loss: 0.0626 | Val Loss: 0.0631\n",
      "Epoch 180 | Train Loss: 0.0627 | Val Loss: 0.0632\n",
      "Epoch 181 | Train Loss: 0.0631 | Val Loss: 0.0635\n",
      "Epoch 182 | Train Loss: 0.0628 | Val Loss: 0.0628\n",
      "Epoch 183 | Train Loss: 0.0628 | Val Loss: 0.0630\n",
      "Epoch 184 | Train Loss: 0.0628 | Val Loss: 0.0630\n",
      "Epoch 185 | Train Loss: 0.0626 | Val Loss: 0.0629\n",
      "Epoch 186 | Train Loss: 0.0627 | Val Loss: 0.0630\n",
      "Epoch 187 | Train Loss: 0.0626 | Val Loss: 0.0631\n",
      "Epoch 188 | Train Loss: 0.0627 | Val Loss: 0.0631\n",
      "Epoch 189 | Train Loss: 0.0626 | Val Loss: 0.0631\n",
      "Epoch 190 | Train Loss: 0.0626 | Val Loss: 0.0630\n",
      "Epoch 191 | Train Loss: 0.0624 | Val Loss: 0.0630\n",
      "Epoch 192 | Train Loss: 0.0622 | Val Loss: 0.0626\n",
      "Epoch 193 | Train Loss: 0.0624 | Val Loss: 0.0626\n",
      "Epoch 194 | Train Loss: 0.0621 | Val Loss: 0.0628\n",
      "Epoch 195 | Train Loss: 0.0622 | Val Loss: 0.0626\n",
      "Epoch 196 | Train Loss: 0.0624 | Val Loss: 0.0630\n",
      "Epoch 197 | Train Loss: 0.0624 | Val Loss: 0.0629\n",
      "Epoch 198 | Train Loss: 0.0622 | Val Loss: 0.0627\n",
      "Epoch 199 | Train Loss: 0.0621 | Val Loss: 0.0626\n",
      "Epoch 200 | Train Loss: 0.0622 | Val Loss: 0.0626\n"
     ]
    }
   ],
   "source": [
    "set_size = 100\n",
    "N_sets = 10**3\n",
    "\n",
    "mnist_sets, _ = sample_mnist_sets(N_sets, set_size)\n",
    "train_loader = torch.utils.data.DataLoader(mnist_sets, \n",
    "                                           batch_size=32, shuffle=True)\n",
    "\n",
    "mnist_sets, _ = sample_mnist_sets(N_sets, set_size)\n",
    "val_loader = torch.utils.data.DataLoader(mnist_sets, \n",
    "                                           batch_size=32, shuffle=False)\n",
    "\n",
    "\n",
    "\n",
    "def loss_fn(X, Y):\n",
    "    return torch.vmap(sliced_wasserstein_distance, randomness='different')(X, Y).mean()\n",
    "\n",
    "dist_ae = SetAutoencoderGNN(mnist_sets.shape[2], 16, 64, set_size)\n",
    "optimizer = torch.optim.Adam(dist_ae.parameters(), lr=5e-4)\n",
    "\n",
    "dist_ae = train_w_stop(dist_ae, optimizer, train_loader, val_loader, \n",
    "                       loss_fn, max_epochs=200, patience=10)"
   ]
  },
  {
   "cell_type": "code",
   "execution_count": 4,
   "metadata": {},
   "outputs": [
    {
     "name": "stderr",
     "output_type": "stream",
     "text": [
      "/tmp/ipykernel_1505132/319726545.py:7: UserWarning: To copy construct from a tensor, it is recommended to use sourceTensor.clone().detach() or sourceTensor.clone().detach().requires_grad_(True), rather than torch.tensor(sourceTensor).\n",
      "  label_to_indices = {i: torch.where(torch.tensor(dataset.targets) == i)[0] for i in range(10)}\n"
     ]
    }
   ],
   "source": [
    "test_sets, metadata = sample_mnist_sets(1000, set_size)\n",
    "with torch.no_grad():\n",
    "    z, rec = dist_ae((test_sets).float().cuda())"
   ]
  },
  {
   "cell_type": "code",
   "execution_count": 5,
   "metadata": {},
   "outputs": [
    {
     "name": "stderr",
     "output_type": "stream",
     "text": [
      "/home/gokulg/.conda/envs/metaMI/lib/python3.11/site-packages/sklearn/utils/deprecation.py:151: FutureWarning: 'force_all_finite' was renamed to 'ensure_all_finite' in 1.6 and will be removed in 1.8.\n",
      "  warnings.warn(\n"
     ]
    }
   ],
   "source": [
    "umap = UMAP(n_components=2)\n",
    "vis = umap.fit_transform(z.cpu().numpy())"
   ]
  },
  {
   "cell_type": "code",
   "execution_count": 6,
   "metadata": {},
   "outputs": [
    {
     "data": {
      "image/png": "[encoded data removed]",
      "text/plain": [
       "<Figure size 300x300 with 1 Axes>"
      ]
     },
     "metadata": {},
     "output_type": "display_data"
    }
   ],
   "source": [
    "fig = plt.figure(figsize=(2,2), dpi=150)\n",
    "sns.scatterplot(x=vis[:, 0], y=vis[:, 1], hue=metadata, s=3, alpha=0.7,\n",
    "                palette='tab10', legend=False)\n",
    "plt.axis('off')\n",
    "plt.show()"
   ]
  },
  {
   "cell_type": "code",
   "execution_count": 7,
   "metadata": {},
   "outputs": [],
   "source": [
    "from sklearn.decomposition import PCA\n",
    "\n",
    "def pca_means(mnist_sets, n_components=16):\n",
    "    n_sets, set_size, dims = mnist_sets.shape\n",
    "    flat_data = mnist_sets.view(-1, dims)  # flatten sets into a single batch\n",
    "\n",
    "    pca = PCA(n_components=n_components)\n",
    "    pcs = pca.fit_transform(flat_data)  # get principal components\n",
    "\n",
    "    pcs = pcs.reshape(n_sets, set_size, -1)  # restore set structure\n",
    "    return pcs.mean(axis=1)  # mean over each set\n",
    "\n",
    "pca_means_res = pca_means(test_sets)\n"
   ]
  },
  {
   "cell_type": "code",
   "execution_count": 8,
   "metadata": {},
   "outputs": [
    {
     "name": "stderr",
     "output_type": "stream",
     "text": [
      "/home/gokulg/.conda/envs/metaMI/lib/python3.11/site-packages/sklearn/utils/deprecation.py:151: FutureWarning: 'force_all_finite' was renamed to 'ensure_all_finite' in 1.6 and will be removed in 1.8.\n",
      "  warnings.warn(\n"
     ]
    }
   ],
   "source": [
    "vis = umap.fit_transform(pca_means_res)"
   ]
  },
  {
   "cell_type": "code",
   "execution_count": 9,
   "metadata": {},
   "outputs": [
    {
     "data": {
      "image/png": "[encoded data removed]",
      "text/plain": [
       "<Figure size 300x300 with 1 Axes>"
      ]
     },
     "metadata": {},
     "output_type": "display_data"
    }
   ],
   "source": [
    "fig = plt.figure(figsize=(2,2), dpi=150)\n",
    "sns.scatterplot(x=vis[:, 0], y=vis[:, 1], hue=metadata, s=5, alpha=0.7,\n",
    "                palette='tab10', legend=False)\n",
    "plt.axis('off')\n",
    "plt.show()"
   ]
  },
  {
   "cell_type": "code",
   "execution_count": null,
   "metadata": {},
   "outputs": [],
   "source": []
  }
 ],
 "metadata": {
  "kernelspec": {
   "display_name": "Python 3 (ipykernel)",
   "language": "python",
   "name": "python3"
  },
  "language_info": {
   "codemirror_mode": {
    "name": "ipython",
    "version": 3
   },
   "file_extension": ".py",
   "mimetype": "text/x-python",
   "name": "python",
   "nbconvert_exporter": "python",
   "pygments_lexer": "ipython3",
   "version": "3.11.11"
  }
 },
 "nbformat": 4,
 "nbformat_minor": 2
}
