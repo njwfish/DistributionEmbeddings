{
 "cells": [
  {
   "cell_type": "code",
   "execution_count": 2,
   "id": "7cab0fd8",
   "metadata": {},
   "outputs": [],
   "source": [
    "import gzip\n",
    "import os\n",
    "import sys\n",
    "import subprocess\n",
    "import random\n",
    "from pyfaidx import Fasta\n",
    "import csv\n",
    "import tempfile\n",
    "from tqdm.notebook import tqdm"
   ]
  },
  {
   "cell_type": "code",
   "execution_count": 3,
   "id": "ab605af1",
   "metadata": {},
   "outputs": [],
   "source": [
    "tool_path = '/orcd/data/omarabu/001/gokul/wgbs_tools'\n",
    "data_dir = '/orcd/data/omarabu/001/gokul/DistributionEmbeddings/data/geo_downloads/'\n",
    "genome = Fasta('/orcd/data/omarabu/001/gokul/wgbs_tools/references/hg38/hg38.fa', as_raw=True)\n",
    "\n",
    "os.environ[\"PATH\"] = f\"{tool_path}:{os.environ['PATH']}\"\n",
    "# subprocess.run(['wgbstools', 'init_genome', 'hg38', '-f']) # had to do some bgzip tricks to get this to work\n",
    "# subprocess.run(['wgbstools', 'set_default_ref', '--name', 'hg38'])"
   ]
  },
  {
   "cell_type": "code",
   "execution_count": 10,
   "id": "43c049d4",
   "metadata": {},
   "outputs": [
    {
     "data": {
      "application/vnd.jupyter.widget-view+json": {
       "model_id": "ecc18d41becc4a9186a2773d66923c8e",
       "version_major": 2,
       "version_minor": 0
      },
      "text/plain": [
       "  0%|          | 0/257 [00:03<?, ?it/s]"
      ]
     },
     "metadata": {},
     "output_type": "display_data"
    }
   ],
   "source": [
    "window = 100\n",
    "n_to_sample = 10**4\n",
    "\n",
    "\n",
    "for d in tqdm(os.listdir(data_dir)):\n",
    "    if not d.endswith('.gz'):\n",
    "        continue\n",
    "\n",
    "    fpath = os.path.join(data_dir, d)\n",
    "    with gzip.open(fpath, 'rb') as f:\n",
    "        lines = f.read().decode().splitlines()\n",
    "\n",
    "    sample = random.sample(lines, n_to_sample)\n",
    "    sid_cpgs = []\n",
    "    cpg_map = {}  # sid -> cpg string\n",
    "\n",
    "    for line in sample:\n",
    "        parts = line.split()\n",
    "        sid = int(parts[1])\n",
    "        cpg = parts[2].lower()\n",
    "        if '.' in cpg:\n",
    "            continue  # skip bad bases!\n",
    "        sid_cpgs.append(sid)\n",
    "        cpg_map[sid] = cpg\n",
    "\n",
    "    if not sid_cpgs:\n",
    "        continue  # nothing valid :(\n",
    "\n",
    "    # make temp site file\n",
    "    with tempfile.NamedTemporaryFile('w', delete=False) as tmp:\n",
    "        site_file = tmp.name\n",
    "        for sid in sid_cpgs:\n",
    "            tmp.write(f\"{sid}\\n\")\n",
    "\n",
    "    # run batch convert!\n",
    "    res = subprocess.run([\n",
    "        'wgbstools', 'convert', '--site_file', site_file,\n",
    "        '--genome', 'hg38',\n",
    "    ], capture_output=True, text=True)\n",
    "\n",
    "    os.remove(site_file)  # bye temp!\n",
    "\n",
    "    out_csv = fpath.replace('.hg38.pat.gz', '_seqs.csv')\n",
    "    with open(out_csv, 'w', newline='') as csvfile:\n",
    "        writer = csv.writer(csvfile)\n",
    "        writer.writerow(['seq', 'loc'])\n",
    "\n",
    "        for line in res.stdout.strip().splitlines():\n",
    "            if not line:\n",
    "                continue\n",
    "            parts = line.strip().split()\n",
    "            chr = parts[0]\n",
    "            start = int(parts[1])\n",
    "            sid = int(parts[3])\n",
    "\n",
    "            cpg = cpg_map.get(sid).upper()\n",
    "            if not cpg:\n",
    "                continue  # should not happen but just in case\n",
    "\n",
    "            gseq = genome[chr][start-window:start].lower()\n",
    "            writer.writerow([f\"{gseq}{cpg}\", f\"{chr}:{start}\"])\n",
    "\n",
    "    break"
   ]
  },
  {
   "cell_type": "code",
   "execution_count": null,
   "id": "df89c862",
   "metadata": {},
   "outputs": [
    {
     "data": {
      "text/plain": [
       "'chr1\\t7\\tCCCCCCCCCCCCCTCCCC.CCCCCCCCCCCCCCCCCCCCCCCC\\t1'"
      ]
     },
     "execution_count": 65,
     "metadata": {},
     "output_type": "execute_result"
    }
   ],
   "source": [
    "lines[1]"
   ]
  },
  {
   "cell_type": "code",
   "execution_count": null,
   "id": "072af597",
   "metadata": {},
   "outputs": [
    {
     "name": "stdout",
     "output_type": "stream",
     "text": [
      "CPU times: user 1.25 ms, sys: 34 μs, total: 1.28 ms\n",
      "Wall time: 620 ms\n"
     ]
    }
   ],
   "source": [
    "%%time\n",
    "res = subprocess.run(['wgbstools', 'convert', '-s', \n",
    "            '1-3', '--genome', 'hg38',], capture_output=True)"
   ]
  },
  {
   "cell_type": "code",
   "execution_count": null,
   "id": "4358b3f1",
   "metadata": {},
   "outputs": [
    {
     "data": {
      "text/plain": [
       "[b'chr1:10469-10472 - 4bp, 2CpGs: 1-3']"
      ]
     },
     "execution_count": 25,
     "metadata": {},
     "output_type": "execute_result"
    }
   ],
   "source": [
    "res.stdout.strip().splitlines()"
   ]
  },
  {
   "cell_type": "code",
   "execution_count": null,
   "id": "a31d10bc",
   "metadata": {},
   "outputs": [],
   "source": []
  },
  {
   "cell_type": "code",
   "execution_count": null,
   "id": "b41a3708",
   "metadata": {},
   "outputs": [],
   "source": [
    "chroms = [line.split(':')[0] for line in lines]"
   ]
  },
  {
   "cell_type": "code",
   "execution_count": null,
   "id": "4097cd40",
   "metadata": {},
   "outputs": [],
   "source": []
  }
 ],
 "metadata": {
  "kernelspec": {
   "display_name": "Python 3 (ipykernel)",
   "language": "python",
   "name": "python3"
  },
  "language_info": {
   "codemirror_mode": {
    "name": "ipython",
    "version": 3
   },
   "file_extension": ".py",
   "mimetype": "text/x-python",
   "name": "python",
   "nbconvert_exporter": "python",
   "pygments_lexer": "ipython3",
   "version": "3.11.12"
  }
 },
 "nbformat": 4,
 "nbformat_minor": 5
}
