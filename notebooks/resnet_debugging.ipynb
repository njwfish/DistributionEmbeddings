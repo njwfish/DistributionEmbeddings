{
 "cells": [
  {
   "cell_type": "code",
   "execution_count": 31,
   "id": "21d83139",
   "metadata": {},
   "outputs": [],
   "source": [
    "from encoder.encoders import DistributionEncoderResNet\n",
    "from datasets.distribution_datasets import NormalDistributionDataset\n",
    "import torch\n",
    "import numpy as np"
   ]
  },
  {
   "cell_type": "code",
   "execution_count": 38,
   "id": "ce1a69ea",
   "metadata": {},
   "outputs": [],
   "source": [
    "for _ in range(10**3):\n",
    "    model = DistributionEncoderResNet(in_dim=5, latent_dim=2, hidden_dim=64, set_size=1)\n",
    "    dataset = NormalDistributionDataset(set_size=1) # n_sets = 10, set_size = 1, dims = 5 \n",
    "    x = torch.tensor(dataset.data, dtype=torch.float32)\n",
    "    with torch.no_grad():\n",
    "        assert (model(x) - model(x.repeat(1, 1000, 1))).sum() < 10**-5, \"Model should be invariant to the number of duplicates in the set\""
   ]
  },
  {
   "cell_type": "code",
   "execution_count": null,
   "id": "91645fe7",
   "metadata": {},
   "outputs": [],
   "source": []
  }
 ],
 "metadata": {
  "kernelspec": {
   "display_name": "Python 3 (ipykernel)",
   "language": "python",
   "name": "python3"
  },
  "language_info": {
   "codemirror_mode": {
    "name": "ipython",
    "version": 3
   },
   "file_extension": ".py",
   "mimetype": "text/x-python",
   "name": "python",
   "nbconvert_exporter": "python",
   "pygments_lexer": "ipython3",
   "version": "3.11.11"
  }
 },
 "nbformat": 4,
 "nbformat_minor": 5
}
