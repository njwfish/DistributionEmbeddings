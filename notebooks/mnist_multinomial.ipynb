{
 "cells": [
  {
   "cell_type": "code",
   "execution_count": 3,
   "id": "31c8b3ff",
   "metadata": {},
   "outputs": [],
   "source": [
    "from utils.experiment_utils import get_all_experiments_info, load_best_model\n",
    "import torch\n",
    "import os\n",
    "import hydra\n",
    "from omegaconf import DictConfig, OmegaConf\n",
    "\n",
    "import numpy as np\n",
    "import seaborn as sns\n",
    "import pandas as pd\n",
    "import matplotlib.pyplot as plt\n",
    "\n",
    "from notebooks.mnist_classifier.mnist_tiny_cnn import TinyCNN\n",
    "\n",
    "from mixer.mixer import SetMixer\n",
    "from datasets.mnist import MNISTDataset\n",
    "\n",
    "from itertools import product"
   ]
  },
  {
   "cell_type": "code",
   "execution_count": 4,
   "id": "cf5069b4",
   "metadata": {},
   "outputs": [],
   "source": [
    "device = 'cuda'\n",
    "configs = get_all_experiments_info('outputs/', False)\n",
    "cfg = [c for c in configs if 'mnist_multinomial' in c['name'] \n",
    "                    and c['config']['experiment']['batch_size'] == 8]"
   ]
  },
  {
   "cell_type": "code",
   "execution_count": 5,
   "id": "cde4c7ca",
   "metadata": {},
   "outputs": [],
   "source": [
    "# load + prep dataset\n",
    "def prepare_dataset(dataset_cfg):\n",
    "    # probs = np.column_stack((np.linspace(0, 1, num_probs), 1 - np.linspace(0, 1, num_probs)))\n",
    "    dataset = hydra.utils.instantiate(dataset_cfg)\n",
    "    # dataset.probs = probs\n",
    "    # dataset.data, _, _ = dataset.make_sets()\n",
    "    return dataset\n",
    "\n",
    "# load encoder and move to device\n",
    "def load_model(cfg, path, device):\n",
    "    enc = hydra.utils.instantiate(cfg['encoder'])\n",
    "    gen = hydra.utils.instantiate(cfg['generator'])\n",
    "    state = load_best_model(path)\n",
    "    enc.load_state_dict(state['encoder_state_dict'])\n",
    "    gen.model.load_state_dict(state['generator_state_dict'])\n",
    "    enc.eval()\n",
    "    gen.eval()\n",
    "    enc.to(device)\n",
    "    gen.to(device)\n",
    "    return enc, gen"
   ]
  },
  {
   "cell_type": "code",
   "execution_count": 6,
   "id": "33995a5d",
   "metadata": {},
   "outputs": [],
   "source": [
    "mixer = hydra.utils.instantiate(cfg[0]['config']['mixer'])"
   ]
  },
  {
   "cell_type": "code",
   "execution_count": 7,
   "id": "8c611517",
   "metadata": {},
   "outputs": [
    {
     "data": {
      "text/plain": [
       "torch.Size([9999, 100, 1, 28, 28])"
      ]
     },
     "execution_count": 7,
     "metadata": {},
     "output_type": "execute_result"
    }
   ],
   "source": [
    "dataset = prepare_dataset(cfg[0]['config']['dataset'])\n",
    "\n",
    "dataset.data.shape"
   ]
  },
  {
   "cell_type": "code",
   "execution_count": 8,
   "id": "49fbe58f",
   "metadata": {},
   "outputs": [
    {
     "data": {
      "text/plain": [
       "TinyCNN(\n",
       "  (conv): Sequential(\n",
       "    (0): Conv2d(1, 32, kernel_size=(3, 3), stride=(1, 1))\n",
       "    (1): ReLU()\n",
       "    (2): Conv2d(32, 64, kernel_size=(3, 3), stride=(1, 1))\n",
       "    (3): ReLU()\n",
       "    (4): MaxPool2d(kernel_size=2, stride=2, padding=0, dilation=1, ceil_mode=False)\n",
       "  )\n",
       "  (fc): Sequential(\n",
       "    (0): Flatten(start_dim=1, end_dim=-1)\n",
       "    (1): Linear(in_features=9216, out_features=128, bias=True)\n",
       "    (2): ReLU()\n",
       "    (3): Linear(in_features=128, out_features=10, bias=True)\n",
       "  )\n",
       ")"
      ]
     },
     "execution_count": 8,
     "metadata": {},
     "output_type": "execute_result"
    }
   ],
   "source": [
    "classy = TinyCNN()\n",
    "classy.load_state_dict(torch.load('notebooks/mnist_classifier/mnist_tinycnn.pth'))\n",
    "classy.to('cuda')"
   ]
  },
  {
   "cell_type": "code",
   "execution_count": 9,
   "id": "84835938",
   "metadata": {},
   "outputs": [],
   "source": [
    "def simplex_grid(dim, points_per_dim):\n",
    "    lin = np.linspace(0, 1, points_per_dim)\n",
    "    grid = np.array(list(product(*([lin] * dim))))\n",
    "    grid = grid[np.isclose(grid.sum(axis=1), 1)]  # keep only rows that sum to 1\n",
    "    return grid\n",
    "\n",
    "points_per_dim = 2\n",
    "k = 3\n",
    "\n",
    "set_size = 100\n",
    "\n",
    "mix_probs_labels = simplex_grid(k, points_per_dim)\n",
    "\n",
    "# fr_dist = multinomial_fr(mix_probs)\n",
    "\n",
    "n_sets = len(mix_probs_labels)\n",
    "\n",
    "mix_probs = torch.tensor(np.repeat(mix_probs_labels, n_sets//k, axis=1))\n",
    "\n",
    "dataset = MNISTDataset(n_classes=k, n_sets=n_sets, set_size=5000)\n",
    "mixer = SetMixer(k=k, mixed_set_size=set_size, n_mixed_sets=n_sets)\n"
   ]
  },
  {
   "cell_type": "code",
   "execution_count": 10,
   "id": "6d9895ad",
   "metadata": {},
   "outputs": [],
   "source": [
    "mixed_sets = mixer.prescribed_mixing(dataset.data.flatten(start_dim=2), mix_probs)"
   ]
  },
  {
   "cell_type": "code",
   "execution_count": 11,
   "id": "482b2d10",
   "metadata": {},
   "outputs": [],
   "source": [
    "mixed_sets = mixed_sets.to(torch.float).to('cuda')"
   ]
  },
  {
   "cell_type": "code",
   "execution_count": 12,
   "id": "5b399c5d",
   "metadata": {},
   "outputs": [
    {
     "name": "stdout",
     "output_type": "stream",
     "text": [
      "[[0.03 0.01 0.93] 100\n",
      " [0.01 0.95 0.03]\n",
      " [0.99 0.   0.01]]\n",
      "[[0.03 0.01 0.93]\n",
      " [0.01 0.95 0.03]\n",
      " [0.99 0.   0.01]]\n",
      "{'Encoder': ['ConvDistributionEncoder'], 'Generation class error': [np.float64(0.0010666666666666663)]}\n",
      "[[0.15 0.46 0.27] 100\n",
      " [0.65 0.   0.31]\n",
      " [0.02 0.8  0.05]]\n",
      "[[0.15 0.46 0.27]\n",
      " [0.65 0.   0.31]\n",
      " [0.02 0.8  0.05]]\n",
      "{'Encoder': ['ConvDistributionEncoder', 'MNISTPCAEncoder'], 'Generation class error': [np.float64(0.0010666666666666663), np.float64(0.4320555555555556)]}\n",
      "[[0. 1. 0.]\n",
      " [0. 1. 0.]\n",
      " [0. 1. 0.]]\n",
      "[[0. 1. 0.]\n",
      " [0. 1. 0.]\n",
      " [0. 1. 0.]]\n",
      "{'Encoder': ['ConvDistributionEncoder', 'MNISTPCAEncoder', 'WormholeEncoder'], 'Generation class error': [np.float64(0.0010666666666666663), np.float64(0.4320555555555556), np.float64(0.4444444444444444)]}\n"
     ]
    }
   ],
   "source": [
    "d = {\n",
    "    \"Encoder\" : [],\n",
    "    \"Generation class error\" : []\n",
    "}\n",
    "\n",
    "with torch.no_grad():\n",
    "\n",
    "    for c in cfg:\n",
    "\n",
    "        if c['encoder'] != 'KMEEncoder':\n",
    "\n",
    "            encoder, generator = load_model(c['config'], c['dir'], 'cuda')\n",
    "            \n",
    "            rec = generator.sample(encoder(mixed_sets.reshape(n_sets, set_size, 1, 28, 28)), num_samples=100)\n",
    "\n",
    "            preds = classy(rec.reshape(set_size*n_sets, 1, 28, 28)).argmax(dim=1).reshape(n_sets, set_size)\n",
    "\n",
    "            compositions = torch.stack([(set_preds.bincount(minlength=10+1)) for set_preds in preds])\n",
    "\n",
    "            est = compositions[:, :3].cpu().numpy()/100\n",
    "\n",
    "            print(est)\n",
    "\n",
    "            error = est - mix_probs_labels\n",
    "\n",
    "            print(est)\n",
    "\n",
    "            d['Encoder'].append(c['encoder'])\n",
    "            d['Generation class error'].append((error**2).mean())\n",
    "            print(d)"
   ]
  },
  {
   "cell_type": "code",
   "execution_count": 23,
   "id": "828d6eda",
   "metadata": {},
   "outputs": [],
   "source": [
    "with torch.no_grad():\n",
    "    c = cfg[3]\n",
    "\n",
    "    encoder, generator = load_model(c['config'], c['dir'], 'cuda')\n",
    "\n",
    "    rec = generator.sample(encoder(mixed_sets.reshape(n_sets, set_size, 1, 28, 28)), num_samples=10)\n"
   ]
  },
  {
   "cell_type": "code",
   "execution_count": 24,
   "id": "732783db",
   "metadata": {},
   "outputs": [
    {
     "data": {
      "text/plain": [
       "<matplotlib.image.AxesImage at 0x1514bb5af010>"
      ]
     },
     "execution_count": 24,
     "metadata": {},
     "output_type": "execute_result"
    },
    {
     "data": {
      "image/png": "[encoded data removed]",
      "text/plain": [
       "<Figure size 640x480 with 1 Axes>"
      ]
     },
     "metadata": {},
     "output_type": "display_data"
    }
   ],
   "source": [
    "plt.imshow(rec.reshape(set_size*n_sets, 28, 28)[0].cpu())"
   ]
  },
  {
   "cell_type": "code",
   "execution_count": null,
   "id": "4a0d5cde",
   "metadata": {},
   "outputs": [
    {
     "data": {
      "text/plain": [
       "torch.Size([3, 100, 784])"
      ]
     },
     "execution_count": 20,
     "metadata": {},
     "output_type": "execute_result"
    }
   ],
   "source": [
    "plt.imshow(rec.)"
   ]
  },
  {
   "cell_type": "code",
   "execution_count": null,
   "id": "9cf39da5",
   "metadata": {},
   "outputs": [],
   "source": []
  }
 ],
 "metadata": {
  "kernelspec": {
   "display_name": "Python 3 (ipykernel)",
   "language": "python",
   "name": "python3"
  },
  "language_info": {
   "codemirror_mode": {
    "name": "ipython",
    "version": 3
   },
   "file_extension": ".py",
   "mimetype": "text/x-python",
   "name": "python",
   "nbconvert_exporter": "python",
   "pygments_lexer": "ipython3",
   "version": "3.11.12"
  }
 },
 "nbformat": 4,
 "nbformat_minor": 5
}
