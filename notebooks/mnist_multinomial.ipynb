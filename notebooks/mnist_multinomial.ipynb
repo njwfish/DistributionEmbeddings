{
 "cells": [
  {
   "cell_type": "code",
   "execution_count": 1,
   "id": "31c8b3ff",
   "metadata": {},
   "outputs": [],
   "source": [
    "from utils.experiment_utils import get_all_experiments_info, load_best_model\n",
    "import torch\n",
    "import os\n",
    "import hydra\n",
    "from omegaconf import DictConfig, OmegaConf\n",
    "\n",
    "import numpy as np\n",
    "import seaborn as sns\n",
    "import pandas as pd\n",
    "import matplotlib.pyplot as plt"
   ]
  },
  {
   "cell_type": "code",
   "execution_count": 2,
   "id": "cf5069b4",
   "metadata": {},
   "outputs": [],
   "source": [
    "device = 'cuda'\n",
    "configs = get_all_experiments_info('outputs/', False)\n",
    "cfg = [c for c in configs if 'mnist_multinomial' in c['name'] \n",
    "                    and c['config']['experiment']['batch_size'] == 8]"
   ]
  },
  {
   "cell_type": "code",
   "execution_count": 3,
   "id": "cde4c7ca",
   "metadata": {},
   "outputs": [],
   "source": [
    "# load + prep dataset\n",
    "def prepare_dataset(dataset_cfg):\n",
    "    # probs = np.column_stack((np.linspace(0, 1, num_probs), 1 - np.linspace(0, 1, num_probs)))\n",
    "    dataset = hydra.utils.instantiate(dataset_cfg)\n",
    "    # dataset.probs = probs\n",
    "    # dataset.data, _, _ = dataset.make_sets()\n",
    "    return dataset\n",
    "\n",
    "# load encoder and move to device\n",
    "def load_encoder(cfg, path, device):\n",
    "    enc = hydra.utils.instantiate(cfg)\n",
    "    state = load_best_model(path)\n",
    "    enc.load_state_dict(state['encoder_state_dict'])\n",
    "    enc.eval()\n",
    "    enc.to(device)\n",
    "    return enc"
   ]
  },
  {
   "cell_type": "code",
   "execution_count": 5,
   "id": "a5aa07c3",
   "metadata": {},
   "outputs": [],
   "source": [
    "dataset = prepare_dataset(cfg[0]['config']['dataset'])\n",
    "\n",
    "encoder = load_encoder(cfg[0]['config']['encoder'], \n",
    "                       cfg[0]['dir'], 'cuda')\n"
   ]
  },
  {
   "cell_type": "code",
   "execution_count": null,
   "id": "5b399c5d",
   "metadata": {},
   "outputs": [
    {
     "name": "stderr",
     "output_type": "stream",
     "text": [
      "/tmp/ipykernel_142095/1634358313.py:2: UserWarning: To copy construct from a tensor, it is recommended to use sourceTensor.clone().detach() or sourceTensor.clone().detach().requires_grad_(True), rather than torch.tensor(sourceTensor).\n",
      "  x = torch.tensor(dataset.data[:200], dtype=torch.float32).to(device)\n"
     ]
    },
    {
     "ename": "NameError",
     "evalue": "name 'd' is not defined",
     "output_type": "error",
     "traceback": [
      "\u001b[31m---------------------------------------------------------------------------\u001b[39m",
      "\u001b[31mNameError\u001b[39m                                 Traceback (most recent call last)",
      "\u001b[36mCell\u001b[39m\u001b[36m \u001b[39m\u001b[32mIn[6]\u001b[39m\u001b[32m, line 12\u001b[39m\n\u001b[32m      9\u001b[39m z = encoder(x)\n\u001b[32m     10\u001b[39m l2s = torch.cdist(z, z, p=\u001b[32m2\u001b[39m)\n\u001b[32m---> \u001b[39m\u001b[32m12\u001b[39m d[c[\u001b[33m'\u001b[39m\u001b[33mconfig\u001b[39m\u001b[33m'\u001b[39m][\u001b[33m'\u001b[39m\u001b[33mdataset\u001b[39m\u001b[33m'\u001b[39m][\u001b[33m'\u001b[39m\u001b[33malpha\u001b[39m\u001b[33m'\u001b[39m]] = l2s.cpu().ravel()\n",
      "\u001b[31mNameError\u001b[39m: name 'd' is not defined"
     ]
    }
   ],
   "source": [
    "d = []\n",
    "\n",
    "with torch.no_grad():\n",
    "    x = torch.tensor(dataset.data[:200], dtype=torch.float32).to(device)\n",
    "\n",
    "    for c in cfg:\n",
    "\n",
    "        encoder = load_encoder(c['config']['encoder'], \n",
    "                       c['dir'], 'cuda')\n",
    "        \n",
    "        z = encoder(x)\n",
    "        l2s = torch.cdist(z, z, p=2)\n",
    "        d[c['config']['encoder']]"
   ]
  },
  {
   "cell_type": "code",
   "execution_count": null,
   "id": "828d6eda",
   "metadata": {},
   "outputs": [],
   "source": []
  }
 ],
 "metadata": {
  "kernelspec": {
   "display_name": "Python 3 (ipykernel)",
   "language": "python",
   "name": "python3"
  },
  "language_info": {
   "codemirror_mode": {
    "name": "ipython",
    "version": 3
   },
   "file_extension": ".py",
   "mimetype": "text/x-python",
   "name": "python",
   "nbconvert_exporter": "python",
   "pygments_lexer": "ipython3",
   "version": "3.11.11"
  }
 },
 "nbformat": 4,
 "nbformat_minor": 5
}
