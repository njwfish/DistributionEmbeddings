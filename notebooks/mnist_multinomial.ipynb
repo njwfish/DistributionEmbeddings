{
 "cells": [
  {
   "cell_type": "code",
   "execution_count": 1,
   "id": "31c8b3ff",
   "metadata": {},
   "outputs": [],
   "source": [
    "from utils.experiment_utils import get_all_experiments_info, load_best_model\n",
    "import torch\n",
    "import os\n",
    "import hydra\n",
    "from omegaconf import DictConfig, OmegaConf\n",
    "\n",
    "import numpy as np\n",
    "import seaborn as sns\n",
    "import pandas as pd\n",
    "import matplotlib.pyplot as plt\n",
    "\n",
    "from notebooks.mnist_classifier.mnist_tiny_cnn import TinyCNN\n",
    "\n",
    "from mixer.mixer import SetMixer\n",
    "from datasets.mnist import MNISTDataset\n",
    "\n",
    "from torch.utils.data import DataLoader\n",
    "from itertools import product\n",
    "\n",
    "from scipy.linalg import sqrtm\n",
    "import ternary"
   ]
  },
  {
   "cell_type": "code",
   "execution_count": 2,
   "id": "cf5069b4",
   "metadata": {},
   "outputs": [],
   "source": [
    "device = 'cuda'\n",
    "configs = get_all_experiments_info('outputs/', False)\n",
    "cfg = [c for c in configs if 'mnist_multinomial' in c['name'] \n",
    "                    and c['config']['experiment']['batch_size'] == 8]"
   ]
  },
  {
   "cell_type": "code",
   "execution_count": 3,
   "id": "7d79c6f4",
   "metadata": {},
   "outputs": [],
   "source": [
    "def w2_multinom_pairwise(ps):\n",
    "    # build pop cov matrix\n",
    "    def pop_cov(x):\n",
    "        n = len(x)\n",
    "        c = np.zeros((n, n))\n",
    "        for i in range(n):\n",
    "            for j in range(n):\n",
    "                c[i, j] = x[i]*(1 - x[i]) if i == j else -x[i]*x[j]\n",
    "        return c\n",
    "\n",
    "    ps = np.array(ps)\n",
    "    n = len(ps)\n",
    "    dists = np.zeros((n, n))\n",
    "\n",
    "    sigs = [pop_cov(p) for p in ps]\n",
    "    roots = [sqrtm(s) for s in sigs]\n",
    "\n",
    "    for i in range(n):\n",
    "        for j in range(n):\n",
    "            mu_diff = np.sum((ps[i] - ps[j])**2)\n",
    "            mid = sqrtm(roots[i] @ sigs[j] @ roots[i])\n",
    "            if np.iscomplexobj(mid):\n",
    "                mid = mid.real\n",
    "            cov_diff = np.trace(sigs[i] + sigs[j] - 2*mid)\n",
    "            dists[i, j] = np.sqrt(mu_diff + cov_diff)\n",
    "\n",
    "    return dists  # boom! all pairwise :)"
   ]
  },
  {
   "cell_type": "code",
   "execution_count": 4,
   "id": "cde4c7ca",
   "metadata": {},
   "outputs": [],
   "source": [
    "# load + prep dataset\n",
    "def prepare_dataset(dataset_cfg):\n",
    "    # probs = np.column_stack((np.linspace(0, 1, num_probs), 1 - np.linspace(0, 1, num_probs)))\n",
    "    dataset = hydra.utils.instantiate(dataset_cfg)\n",
    "    # dataset.probs = probs\n",
    "    # dataset.data, _, _ = dataset.make_sets()\n",
    "    return dataset\n",
    "\n",
    "# load encoder and move to device\n",
    "def load_model(cfg, path, device):\n",
    "    enc = hydra.utils.instantiate(cfg['encoder'])\n",
    "    gen = hydra.utils.instantiate(cfg['generator'])\n",
    "    state = load_best_model(path)\n",
    "    enc.load_state_dict(state['encoder_state_dict'])\n",
    "    gen.model.load_state_dict(state['generator_state_dict'])\n",
    "    enc.eval()\n",
    "    gen.eval()\n",
    "    enc.to(device)\n",
    "    gen.to(device)\n",
    "    return enc, gen"
   ]
  },
  {
   "cell_type": "code",
   "execution_count": 5,
   "id": "49fbe58f",
   "metadata": {},
   "outputs": [
    {
     "data": {
      "text/plain": [
       "TinyCNN(\n",
       "  (conv): Sequential(\n",
       "    (0): Conv2d(1, 32, kernel_size=(3, 3), stride=(1, 1))\n",
       "    (1): ReLU()\n",
       "    (2): Conv2d(32, 64, kernel_size=(3, 3), stride=(1, 1))\n",
       "    (3): ReLU()\n",
       "    (4): MaxPool2d(kernel_size=2, stride=2, padding=0, dilation=1, ceil_mode=False)\n",
       "  )\n",
       "  (fc): Sequential(\n",
       "    (0): Flatten(start_dim=1, end_dim=-1)\n",
       "    (1): Linear(in_features=9216, out_features=128, bias=True)\n",
       "    (2): ReLU()\n",
       "    (3): Linear(in_features=128, out_features=10, bias=True)\n",
       "  )\n",
       ")"
      ]
     },
     "execution_count": 5,
     "metadata": {},
     "output_type": "execute_result"
    }
   ],
   "source": [
    "classy = TinyCNN()\n",
    "classy.load_state_dict(torch.load('notebooks/mnist_classifier/mnist_tinycnn.pth'))\n",
    "classy.to('cuda')"
   ]
  },
  {
   "cell_type": "code",
   "execution_count": 6,
   "id": "84835938",
   "metadata": {},
   "outputs": [],
   "source": [
    "def simplex_grid(dim, points_per_dim):\n",
    "    lin = np.linspace(0, 1, points_per_dim)\n",
    "    grid = np.array(list(product(*([lin] * dim))))\n",
    "    grid = grid[np.isclose(grid.sum(axis=1), 1)]  # keep only rows that sum to 1\n",
    "    return grid\n",
    "\n",
    "points_per_dim = 3\n",
    "k = 3\n",
    "\n",
    "set_size = 100\n",
    "\n",
    "mix_probs_labels = simplex_grid(k, points_per_dim)\n",
    "\n",
    "# fr_dist = multinomial_fr(mix_probs)\n",
    "\n",
    "n_sets = len(mix_probs_labels)\n",
    "\n",
    "mix_probs = torch.tensor(np.repeat(mix_probs_labels, n_sets//k, axis=1))\n",
    "\n",
    "dataset = MNISTDataset(n_classes=k, n_sets=n_sets, set_size=5000)\n",
    "mixer = SetMixer(k=k, mixed_set_size=set_size, n_mixed_sets=n_sets)\n",
    "mixed_sets = mixer.prescribed_mixing(dataset.data.flatten(start_dim=2), mix_probs)\n",
    "mixed_sets = mixed_sets.to(torch.float).to('cuda')\n"
   ]
  },
  {
   "cell_type": "code",
   "execution_count": 7,
   "id": "5b399c5d",
   "metadata": {},
   "outputs": [
    {
     "name": "stdout",
     "output_type": "stream",
     "text": [
      "[KeOps] Warning : CUDA libraries not found or could not be loaded; Switching to CPU only.\n",
      "                   Encoder  Generation class error\n",
      "0  ConvDistributionEncoder                0.017406\n",
      "1          MNISTPCAEncoder                0.036483\n",
      "2          WormholeEncoder                0.005122\n",
      "3               KMEEncoder                0.201928\n"
     ]
    }
   ],
   "source": [
    "d = {\n",
    "    \"Encoder\" : [],\n",
    "    \"Generation class error\" : []\n",
    "}\n",
    "\n",
    "with torch.no_grad():\n",
    "\n",
    "    for c in cfg:\n",
    "\n",
    "\n",
    "        encoder, generator = load_model(c['config'], c['dir'], 'cuda')\n",
    "        \n",
    "        rec = generator.sample(encoder(mixed_sets.reshape(n_sets, set_size, 1, 28, 28)), num_samples=100)\n",
    "\n",
    "        preds = classy(rec.reshape(set_size*n_sets, 1, 28, 28)).argmax(dim=1).reshape(n_sets, set_size)\n",
    "\n",
    "        compositions = torch.stack([(set_preds.bincount(minlength=10+1)) for set_preds in preds])\n",
    "\n",
    "        est = compositions[:, :3].cpu().numpy()/100\n",
    "\n",
    "\n",
    "        error = est - mix_probs_labels\n",
    "\n",
    "\n",
    "        d['Encoder'].append(c['encoder'])\n",
    "        d['Generation class error'].append((error**2).mean())\n",
    "print(pd.DataFrame(d))"
   ]
  },
  {
   "cell_type": "code",
   "execution_count": 8,
   "id": "d8e7f80b",
   "metadata": {},
   "outputs": [
    {
     "data": {
      "text/plain": [
       "array([[0. , 0. , 1. ],\n",
       "       [0. , 0.5, 0.5],\n",
       "       [0. , 1. , 0. ],\n",
       "       [0.5, 0. , 0.5],\n",
       "       [0.5, 0.5, 0. ],\n",
       "       [1. , 0. , 0. ]])"
      ]
     },
     "execution_count": 8,
     "metadata": {},
     "output_type": "execute_result"
    }
   ],
   "source": [
    "mix_probs_labels"
   ]
  },
  {
   "cell_type": "code",
   "execution_count": 9,
   "id": "70f89ccb",
   "metadata": {},
   "outputs": [],
   "source": [
    "def batched_dists(mixed_sets, mix_probs, encoder, batch_size=8, device='cuda'):\n",
    "\n",
    "    with torch.no_grad():\n",
    "        \n",
    "        zs = []\n",
    "        for i in range(0, mixed_sets.size(0), batch_size):\n",
    "            x_chunk = mixed_sets[i:i+batch_size].to(device)\n",
    "            z_chunk = encoder(x_chunk).cpu()  # offload!\n",
    "            zs.append(z_chunk)\n",
    "        z = torch.cat(zs, dim=0).to(device)  # full z back on gpu :)\n",
    "\n",
    "    return w2_multinom_pairwise(mix_probs), torch.cdist(z, z, p=2)"
   ]
  },
  {
   "cell_type": "code",
   "execution_count": 20,
   "id": "ff758ba0",
   "metadata": {},
   "outputs": [],
   "source": [
    "def plot_ternary(ax, dists, mix_probs, title=None, scale=99):\n",
    "\n",
    "    prob_tuples = [tuple(map(int, np.round(s * scale))) for s in mix_probs]\n",
    "    print(prob_tuples)\n",
    "    anchor_idx = prob_tuples.index((scale//3, scale//3, scale//3))\n",
    "    # anchor_idx = 0\n",
    "    colors = dists[anchor_idx]\n",
    "    simplex_d = {prob_tuples[i]: colors[i] for i in range(len(prob_tuples))}\n",
    "\n",
    "    tax = ternary.TernaryAxesSubplot(ax=ax, scale=scale)\n",
    "    tax.heatmap(simplex_d, style=\"h\")\n",
    "    tax.boundary()\n",
    "    tax.clear_matplotlib_ticks()\n",
    "    tax.get_axes().axis('off')\n",
    "    if title:\n",
    "        tax.set_title(title)\n",
    "\n",
    "    tax.scatter([prob_tuples[anchor_idx]], marker='*', color='pink', s=100, zorder=10)"
   ]
  },
  {
   "cell_type": "code",
   "execution_count": null,
   "id": "db25c7dd",
   "metadata": {},
   "outputs": [
    {
     "name": "stderr",
     "output_type": "stream",
     "text": [
      "/tmp/ipykernel_519512/1297066838.py:25: RuntimeWarning: invalid value encountered in sqrt\n",
      "  dists[i, j] = np.sqrt(mu_diff + cov_diff)\n"
     ]
    },
    {
     "name": "stdout",
     "output_type": "stream",
     "text": [
      "[(0, 0, 9), (0, 1, 8), (0, 2, 7), (0, 3, 6), (0, 4, 5), (0, 5, 4), (0, 6, 3), (0, 7, 2), (0, 8, 1), (0, 9, 0), (1, 0, 8), (1, 1, 7), (1, 2, 6), (1, 3, 5), (1, 4, 4), (1, 5, 3), (1, 6, 2), (1, 7, 1), (1, 8, 0), (2, 0, 7), (2, 1, 6), (2, 2, 5), (2, 3, 4), (2, 4, 3), (2, 5, 2), (2, 6, 1), (2, 7, 0), (3, 0, 6), (3, 1, 5), (3, 2, 4), (3, 3, 3), (3, 4, 2), (3, 5, 1), (3, 6, 0), (4, 0, 5), (4, 1, 4), (4, 2, 3), (4, 3, 2), (4, 4, 1), (4, 5, 0), (5, 0, 4), (5, 1, 3), (5, 2, 2), (5, 3, 1), (5, 4, 0), (6, 0, 3), (6, 1, 2), (6, 2, 1), (6, 3, 0), (7, 0, 2), (7, 1, 1), (7, 2, 0), (8, 0, 1), (8, 1, 0), (9, 0, 0)]\n",
      "[(0, 0, 9), (0, 1, 8), (0, 2, 7), (0, 3, 6), (0, 4, 5), (0, 5, 4), (0, 6, 3), (0, 7, 2), (0, 8, 1), (0, 9, 0), (1, 0, 8), (1, 1, 7), (1, 2, 6), (1, 3, 5), (1, 4, 4), (1, 5, 3), (1, 6, 2), (1, 7, 1), (1, 8, 0), (2, 0, 7), (2, 1, 6), (2, 2, 5), (2, 3, 4), (2, 4, 3), (2, 5, 2), (2, 6, 1), (2, 7, 0), (3, 0, 6), (3, 1, 5), (3, 2, 4), (3, 3, 3), (3, 4, 2), (3, 5, 1), (3, 6, 0), (4, 0, 5), (4, 1, 4), (4, 2, 3), (4, 3, 2), (4, 4, 1), (4, 5, 0), (5, 0, 4), (5, 1, 3), (5, 2, 2), (5, 3, 1), (5, 4, 0), (6, 0, 3), (6, 1, 2), (6, 2, 1), (6, 3, 0), (7, 0, 2), (7, 1, 1), (7, 2, 0), (8, 0, 1), (8, 1, 0), (9, 0, 0)]\n"
     ]
    },
    {
     "data": {
      "image/png": "[encoded data removed]",
      "text/plain": [
       "<Figure size 800x300 with 4 Axes>"
      ]
     },
     "metadata": {},
     "output_type": "display_data"
    }
   ],
   "source": [
    "idx = 0\n",
    "points_per_dim = 10\n",
    "k = 3\n",
    "set_size = 1000\n",
    "mix_probs_labels = simplex_grid(k, points_per_dim)\n",
    "n_sets = len(mix_probs_labels)\n",
    "mix_probs = torch.tensor(np.repeat(mix_probs_labels, n_sets//k, axis=1))\n",
    "dataset = MNISTDataset(n_classes=k, n_sets=n_sets, set_size=5000)\n",
    "mixer = SetMixer(k=k, mixed_set_size=set_size, n_mixed_sets=n_sets)\n",
    "mixed_sets = mixer.prescribed_mixing(dataset.data.flatten(start_dim=2), mix_probs)\n",
    "mixed_sets = mixed_sets.to(torch.float).to('cuda')\n",
    "\n",
    "encoder, _ = load_model(cfg[idx]['config'], cfg[idx]['dir'], 'cuda')\n",
    "w, l = batched_dists(mixed_sets.reshape(n_sets, set_size, 1, 28, 28), \n",
    "                        mix_probs_labels, encoder)\n",
    "\n",
    "fig, axs = plt.subplots(1, 2, figsize=(8, 3))\n",
    "\n",
    "plot_ternary(axs[0], w, mix_probs_labels, scale=9)\n",
    "plot_ternary(axs[1], l.cpu(), mix_probs_labels, scale=9)"
   ]
  },
  {
   "cell_type": "code",
   "execution_count": null,
   "id": "63a1ac6e",
   "metadata": {},
   "outputs": [],
   "source": []
  },
  {
   "cell_type": "code",
   "execution_count": null,
   "id": "a83fa87a",
   "metadata": {},
   "outputs": [],
   "source": []
  }
 ],
 "metadata": {
  "kernelspec": {
   "display_name": "Python 3 (ipykernel)",
   "language": "python",
   "name": "python3"
  },
  "language_info": {
   "codemirror_mode": {
    "name": "ipython",
    "version": 3
   },
   "file_extension": ".py",
   "mimetype": "text/x-python",
   "name": "python",
   "nbconvert_exporter": "python",
   "pygments_lexer": "ipython3",
   "version": "3.11.12"
  }
 },
 "nbformat": 4,
 "nbformat_minor": 5
}
