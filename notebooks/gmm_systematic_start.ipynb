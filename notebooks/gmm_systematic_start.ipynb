{
 "cells": [
  {
   "cell_type": "code",
   "execution_count": 1,
   "metadata": {},
   "outputs": [],
   "source": [
    "%load_ext autoreload\n",
    "%autoreload 2"
   ]
  },
  {
   "cell_type": "code",
   "execution_count": 2,
   "metadata": {},
   "outputs": [],
   "source": [
    "# imports\n",
    "from pathlib import Path\n",
    "import sys  \n",
    "\n",
    "# Get my_package directory path from Notebook\n",
    "parent_dir = str(Path().resolve().parents[0])\n",
    "\n",
    "# Add to sys.path\n",
    "sys.path.insert(0, parent_dir)\n"
   ]
  },
  {
   "cell_type": "code",
   "execution_count": 3,
   "metadata": {},
   "outputs": [],
   "source": [
    "from utils.experiment_utils import get_all_experiments_info, load_best_model\n",
    "\n",
    "device = 'cuda'\n",
    "configs = get_all_experiments_info('../outputs/', False)\n",
    "cfgs = [\n",
    "    c for c in configs if 'systematic' in c['name'] \n",
    "        and c['config']['dataset']['data_shape'][0] == 2\n",
    "] \n",
    "\n"
   ]
  },
  {
   "cell_type": "code",
   "execution_count": 4,
   "metadata": {},
   "outputs": [],
   "source": [
    "import hydra\n",
    "# load + prep dataset\n",
    "def prepare_dataset_and_mixer(cfg, set_size=None, n_sets=None, n_mixed_sets=None):\n",
    "    # probs = np.column_stack((np.linspace(0, 1, num_probs), 1 - np.linspace(0, 1, num_probs)))\n",
    "    if set_size is not None:\n",
    "        cfg['dataset']['set_size'] = set_size\n",
    "    if n_sets is not None:\n",
    "        cfg['dataset']['n_sets'] = n_sets\n",
    "    if n_mixed_sets is not None:\n",
    "        cfg['mixer']['n_mixed_sets'] = n_mixed_sets\n",
    "    dataset = hydra.utils.instantiate(cfg['dataset'])\n",
    "    mixer = hydra.utils.instantiate(cfg['mixer'])\n",
    "    return dataset, mixer\n",
    "\n",
    "\n",
    "# load encoder and move to device\n",
    "def load_model(cfg, path, device):\n",
    "    enc = hydra.utils.instantiate(cfg['encoder'])\n",
    "    gen = hydra.utils.instantiate(cfg['generator'])\n",
    "    state = load_best_model(path)\n",
    "    enc.load_state_dict(state['encoder_state_dict'])\n",
    "    gen.model.load_state_dict(state['generator_state_dict'])\n",
    "    enc.eval()\n",
    "    gen.eval()\n",
    "    enc.to(device)\n",
    "    gen.to(device)\n",
    "    return enc, gen\n",
    "\n",
    "enc, gen = load_model(cfgs[0]['config'], cfgs[0]['dir'], device)\n"
   ]
  },
  {
   "cell_type": "code",
   "execution_count": 10,
   "metadata": {},
   "outputs": [],
   "source": [
    "from torch.utils.data import DataLoader\n",
    "ds, mx = prepare_dataset_and_mixer(cfgs[0]['config'], set_size=1_000_000, n_sets=1000, n_mixed_sets=1)\n",
    "dl = DataLoader(ds, batch_size=3, shuffle=False, collate_fn=mx.collate_fn)\n",
    "\n",
    "dl_iter = iter(dl)\n",
    "# import standard collate_fn\n",
    "from torch.utils.data import default_collate\n",
    "gmm_s = default_collate([next(dl_iter) for _ in range(100)])"
   ]
  },
  {
   "cell_type": "code",
   "execution_count": null,
   "metadata": {},
   "outputs": [],
   "source": []
  }
 ],
 "metadata": {
  "kernelspec": {
   "display_name": "cell-types",
   "language": "python",
   "name": "python3"
  },
  "language_info": {
   "codemirror_mode": {
    "name": "ipython",
    "version": 3
   },
   "file_extension": ".py",
   "mimetype": "text/x-python",
   "name": "python",
   "nbconvert_exporter": "python",
   "pygments_lexer": "ipython3",
   "version": "3.10.16"
  }
 },
 "nbformat": 4,
 "nbformat_minor": 2
}
