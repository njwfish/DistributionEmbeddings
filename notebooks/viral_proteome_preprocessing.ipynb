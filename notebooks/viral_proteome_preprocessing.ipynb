{
 "cells": [
  {
   "cell_type": "code",
   "execution_count": 1,
   "metadata": {},
   "outputs": [],
   "source": [
    "import h5py\n",
    "from UniProtMapper import ProtMapper\n",
    "import seaborn as sns\n",
    "import matplotlib.pyplot as plt"
   ]
  },
  {
   "cell_type": "code",
   "execution_count": 2,
   "metadata": {},
   "outputs": [],
   "source": [
    "with h5py.File('data/viral_proteome', \"r\") as h5_file:\n",
    "    # Extract gene names and embeddings\n",
    "    k = list(h5_file.keys())\n",
    "    repr_list = [h5_file[gene_name][:] for gene_name in k]"
   ]
  },
  {
   "cell_type": "code",
   "execution_count": 3,
   "metadata": {},
   "outputs": [
    {
     "name": "stdout",
     "output_type": "stream",
     "text": [
      "Fetched: 500 / 500\n",
      "Fetched: 500 / 500\n",
      "Fetched: 500 / 500\n",
      "Fetched: 500 / 500\n",
      "Fetched: 500 / 500\n",
      "Fetched: 500 / 500\n",
      "Fetched: 500 / 500\n",
      "Fetched: 500 / 500\n",
      "Fetched: 500 / 500\n",
      "Fetched: 500 / 500\n",
      "Fetched: 500 / 500\n",
      "Fetched: 500 / 500\n",
      "Fetched: 500 / 500\n",
      "Fetched: 500 / 500\n",
      "Fetched: 500 / 500\n",
      "Fetched: 500 / 500\n",
      "Fetched: 500 / 500\n",
      "Fetched: 500 / 500\n",
      "Fetched: 286 / 286\n"
     ]
    }
   ],
   "source": [
    "mapper = ProtMapper()\n",
    "fields = [\"organism_name\"]\n",
    "result, failed = mapper.get(k, fields=fields)"
   ]
  },
  {
   "cell_type": "code",
   "execution_count": 4,
   "metadata": {},
   "outputs": [],
   "source": [
    "import pandas as pd\n",
    "\n",
    "df = pd.DataFrame({\"Uniprot_ID\": k, \"Embedding\": repr_list})\n",
    "df = df.merge(result, left_on=\"Uniprot_ID\", right_on=\"From\")[[\"Uniprot_ID\", \"Embedding\", \"Organism\"]]\n"
   ]
  },
  {
   "cell_type": "code",
   "execution_count": 5,
   "metadata": {},
   "outputs": [
    {
     "data": {
      "text/html": [
       "<div>\n",
       "<style scoped>\n",
       "    .dataframe tbody tr th:only-of-type {\n",
       "        vertical-align: middle;\n",
       "    }\n",
       "\n",
       "    .dataframe tbody tr th {\n",
       "        vertical-align: top;\n",
       "    }\n",
       "\n",
       "    .dataframe thead th {\n",
       "        text-align: right;\n",
       "    }\n",
       "</style>\n",
       "<table border=\"1\" class=\"dataframe\">\n",
       "  <thead>\n",
       "    <tr style=\"text-align: right;\">\n",
       "      <th></th>\n",
       "      <th>Uniprot_ID</th>\n",
       "      <th>Embedding</th>\n",
       "    </tr>\n",
       "    <tr>\n",
       "      <th>Organism</th>\n",
       "      <th></th>\n",
       "      <th></th>\n",
       "    </tr>\n",
       "  </thead>\n",
       "  <tbody>\n",
       "    <tr>\n",
       "      <th>Enterobacteria phage T6 (Bacteriophage T6)</th>\n",
       "      <td>1</td>\n",
       "      <td>1</td>\n",
       "    </tr>\n",
       "    <tr>\n",
       "      <th>Erwinia phage FBB1</th>\n",
       "      <td>1</td>\n",
       "      <td>1</td>\n",
       "    </tr>\n",
       "    <tr>\n",
       "      <th>Choristoneura fumiferana granulovirus (CfGV)</th>\n",
       "      <td>1</td>\n",
       "      <td>1</td>\n",
       "    </tr>\n",
       "    <tr>\n",
       "      <th>Citrus tristeza virus (isolate T36) (CTV)</th>\n",
       "      <td>1</td>\n",
       "      <td>1</td>\n",
       "    </tr>\n",
       "    <tr>\n",
       "      <th>Cosavirus A (isolate Human/Pakistan/0553/-) (HCoSV-A)</th>\n",
       "      <td>1</td>\n",
       "      <td>1</td>\n",
       "    </tr>\n",
       "    <tr>\n",
       "      <th>...</th>\n",
       "      <td>...</td>\n",
       "      <td>...</td>\n",
       "    </tr>\n",
       "    <tr>\n",
       "      <th>Invertebrate iridescent virus 6 (IIV-6) (Chilo iridescent virus)</th>\n",
       "      <td>215</td>\n",
       "      <td>215</td>\n",
       "    </tr>\n",
       "    <tr>\n",
       "      <th>Vaccinia virus (strain Western Reserve) (VACV) (Vaccinia virus (strain WR))</th>\n",
       "      <td>218</td>\n",
       "      <td>218</td>\n",
       "    </tr>\n",
       "    <tr>\n",
       "      <th>Vaccinia virus (strain Copenhagen) (VACV)</th>\n",
       "      <td>256</td>\n",
       "      <td>256</td>\n",
       "    </tr>\n",
       "    <tr>\n",
       "      <th>Enterobacteria phage T4 (Bacteriophage T4)</th>\n",
       "      <td>269</td>\n",
       "      <td>269</td>\n",
       "    </tr>\n",
       "    <tr>\n",
       "      <th>Acanthamoeba polyphaga mimivirus (APMV)</th>\n",
       "      <td>909</td>\n",
       "      <td>909</td>\n",
       "    </tr>\n",
       "  </tbody>\n",
       "</table>\n",
       "<p>711 rows × 2 columns</p>\n",
       "</div>"
      ],
      "text/plain": [
       "                                                    Uniprot_ID  Embedding\n",
       "Organism                                                                 \n",
       "Enterobacteria phage T6 (Bacteriophage T6)                   1          1\n",
       "Erwinia phage FBB1                                           1          1\n",
       "Choristoneura fumiferana granulovirus (CfGV)                 1          1\n",
       "Citrus tristeza virus (isolate T36) (CTV)                    1          1\n",
       "Cosavirus A (isolate Human/Pakistan/0553/-) (HC...           1          1\n",
       "...                                                        ...        ...\n",
       "Invertebrate iridescent virus 6 (IIV-6) (Chilo ...         215        215\n",
       "Vaccinia virus (strain Western Reserve) (VACV) ...         218        218\n",
       "Vaccinia virus (strain Copenhagen) (VACV)                  256        256\n",
       "Enterobacteria phage T4 (Bacteriophage T4)                 269        269\n",
       "Acanthamoeba polyphaga mimivirus (APMV)                    909        909\n",
       "\n",
       "[711 rows x 2 columns]"
      ]
     },
     "execution_count": 5,
     "metadata": {},
     "output_type": "execute_result"
    }
   ],
   "source": [
    "df.groupby('Organism').count().sort_values('Embedding')"
   ]
  },
  {
   "cell_type": "code",
   "execution_count": 6,
   "metadata": {},
   "outputs": [
    {
     "data": {
      "image/png": "[encoded data removed]",
      "text/plain": [
       "<Figure size 640x480 with 1 Axes>"
      ]
     },
     "metadata": {},
     "output_type": "display_data"
    }
   ],
   "source": [
    "sns.histplot(df.groupby('Organism').count()['Embedding'])\n",
    "plt.xscale('log')"
   ]
  },
  {
   "cell_type": "code",
   "execution_count": 7,
   "metadata": {},
   "outputs": [
    {
     "name": "stdout",
     "output_type": "stream",
     "text": [
      "Severe acute respiratory syndrome coronavirus 2 (2019-nCoV) (SARS-CoV-2)\n",
      "Bat coronavirus HKU4 (BtCoV) (BtCoV/HKU4/2004)\n",
      "Bat coronavirus HKU5 (BtCoV) (BtCoV/HKU5/2004)\n",
      "Bat coronavirus HKU9 (BtCoV) (BtCoV/HKU9)\n",
      "Beluga whale coronavirus (strain SW1) (BwCoV)\n",
      "Middle East respiratory syndrome-related coronavirus (isolate United Kingdom/H123990006/2012) (MERS-CoV) (Betacoronavirus England 1)\n",
      "Feline coronavirus (strain FIPV WSU-79/1146) (FCoV)\n",
      "Murine coronavirus (strain A59) (MHV-A59) (Murine hepatitis virus)\n",
      "Porcine transmissible gastroenteritis coronavirus (strain Purdue) (TGEV)\n",
      "Human coronavirus 229E (HCoV-229E)\n",
      "Human coronavirus HKU1 (isolate N5) (HCoV-HKU1)\n",
      "Human coronavirus NL63 (HCoV-NL63)\n",
      "Human coronavirus OC43 (HCoV-OC43)\n",
      "Severe acute respiratory syndrome coronavirus (SARS-CoV)\n",
      "Murine coronavirus (strain 2) (MHV-2) (Murine hepatitis virus)\n"
     ]
    }
   ],
   "source": [
    "for x in df['Organism'].unique():\n",
    "    if \"coronavirus\" in x.lower():\n",
    "        print(x)"
   ]
  },
  {
   "cell_type": "code",
   "execution_count": 8,
   "metadata": {},
   "outputs": [
    {
     "name": "stdout",
     "output_type": "stream",
     "text": [
      "Influenza A virus (strain A/Puerto Rico/8/1934 H1N1)\n",
      "Influenza A virus (strain A/Aichi/2/1968 H3N2)\n",
      "Influenza B virus (strain B/Lee/1940)\n",
      "Parainfluenza virus 5 (strain W3) (PIV5) (Simian virus 5)\n",
      "Influenza A virus (strain A/Goose/Guangdong/1/1996 H5N1 genotype Gs/Gd)\n",
      "Human parainfluenza 2 virus (strain Toshiba) (HPIV-2)\n",
      "Influenza C virus (strain C/Ann Arbor/1/1950)\n"
     ]
    }
   ],
   "source": [
    "for x in df['Organism'].unique():\n",
    "    if \"influenza\" in x.lower():\n",
    "        print(x)"
   ]
  },
  {
   "cell_type": "code",
   "execution_count": 9,
   "metadata": {},
   "outputs": [
    {
     "name": "stdout",
     "output_type": "stream",
     "text": [
      "Enterobacteria phage N4 (Bacteriophage N4)\n",
      "Escherichia phage T5 (Enterobacteria phage T5)\n",
      "Enterobacteria phage T4 (Bacteriophage T4)\n",
      "Enterobacteria phage phiX174 (Isolate Sanger) (Bacteriophage phi-X174)\n",
      "Enterobacteria phage M13 (Bacteriophage M13)\n",
      "Enterobacteria phage P4 (Bacteriophage P4)\n",
      "Enterobacteria phage GA (Bacteriophage GA)\n",
      "Enterobacteria phage T3 (Bacteriophage T3)\n",
      "Enterobacteria phage S13 (Bacteriophage S13)\n",
      "Enterobacteria phage PRD1 (Bacteriophage PRD1)\n",
      "Enterobacteria phage SP (Bacteriophage SP)\n",
      "Enterobacteria phage T6 (Bacteriophage T6)\n",
      "Enterobacteria phage VT1-Sakai\n",
      "Enterobacteria phage I2-2 (Bacteriophage I2-2)\n",
      "Enterobacteria phage HK97 (Bacteriophage HK97)\n",
      "Enterobacteria phage VT2-Sa (Bacteriophage VT2-Sa)\n",
      "Enterobacteria phage SP6 (Bacteriophage SP6)\n",
      "Enterobacteria phage HK620 (Bacteriophage HK620)\n"
     ]
    }
   ],
   "source": [
    "for x in df['Organism'].unique():\n",
    "    if \"enterobacteria\" in x.lower():\n",
    "        print(x)"
   ]
  },
  {
   "cell_type": "code",
   "execution_count": 10,
   "metadata": {},
   "outputs": [],
   "source": [
    "df[\"Embedding\"] = df[\"Embedding\"].apply(lambda x: x.tolist())  # convert numpy arrays to python lists\n",
    "\n",
    "df.to_csv('data/Preprocessed_viral_proteomes.csv')"
   ]
  },
  {
   "cell_type": "code",
   "execution_count": null,
   "metadata": {},
   "outputs": [],
   "source": []
  }
 ],
 "metadata": {
  "kernelspec": {
   "display_name": "Python 3 (ipykernel)",
   "language": "python",
   "name": "python3"
  },
  "language_info": {
   "codemirror_mode": {
    "name": "ipython",
    "version": 3
   },
   "file_extension": ".py",
   "mimetype": "text/x-python",
   "name": "python",
   "nbconvert_exporter": "python",
   "pygments_lexer": "ipython3",
   "version": "3.11.11"
  }
 },
 "nbformat": 4,
 "nbformat_minor": 2
}
