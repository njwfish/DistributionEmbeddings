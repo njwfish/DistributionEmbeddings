{
 "cells": [
  {
   "cell_type": "code",
   "execution_count": 1,
   "id": "d4fab8cb",
   "metadata": {},
   "outputs": [],
   "source": [
    "from utils.experiment_utils import get_all_experiments_info, load_best_model\n",
    "import torch\n",
    "import os\n",
    "import hydra\n",
    "from omegaconf import DictConfig, OmegaConf\n",
    "\n",
    "import numpy as np\n",
    "import seaborn as sns\n",
    "import pandas as pd\n",
    "import matplotlib.pyplot as plt\n",
    "\n",
    "from notebooks.mnist_classifier.mnist_tiny_cnn import TinyCNN\n",
    "\n",
    "from mixer.mixer import SetMixer\n",
    "from datasets.mnist import MNISTDataset\n",
    "\n",
    "from torch.utils.data import DataLoader\n",
    "from itertools import product\n",
    "\n",
    "from scipy.linalg import sqrtm\n",
    "import ternary"
   ]
  },
  {
   "cell_type": "code",
   "execution_count": 16,
   "id": "d63af6d5",
   "metadata": {},
   "outputs": [],
   "source": [
    "device = 'cuda'\n",
    "configs = get_all_experiments_info('outputs/', False)\n",
    "mnist_cfg = [c for c in configs if 'mnist_multinomial' in c['name'] \n",
    "                    and c['config']['experiment']['batch_size'] == 8]\n",
    "dna_cfg = [c for c in configs if 'dna_multinomial']\n",
    "base_cfg = [c for c in configs if 'multinomial' in c['name'] and 'dna' not in c['name']\n",
    "                    and 'mnist' not in c['name']]\n",
    "\n",
    "cfg_sets = [base_cfg, dna_cfg, mnist_cfg]"
   ]
  },
  {
   "cell_type": "code",
   "execution_count": null,
   "id": "392ab18e",
   "metadata": {},
   "outputs": [],
   "source": []
  },
  {
   "cell_type": "code",
   "execution_count": null,
   "id": "1e65d6f8",
   "metadata": {},
   "outputs": [
    {
     "name": "stdout",
     "output_type": "stream",
     "text": [
      "working on MultinomialDistributionDataset...\n",
      "(55, 1000, 3)\n"
     ]
    },
    {
     "name": "stderr",
     "output_type": "stream",
     "text": [
      "/tmp/ipykernel_677276/932101663.py:48: RuntimeWarning: invalid value encountered in sqrt\n",
      "  dists[i, j] = np.sqrt(mu_diff + cov_diff)\n"
     ]
    },
    {
     "name": "stdout",
     "output_type": "stream",
     "text": [
      "(55, 1000, 3)\n",
      "working on SyntheticDNADataset...\n"
     ]
    },
    {
     "ename": "AttributeError",
     "evalue": "'list' object has no attribute 'flatten'",
     "output_type": "error",
     "traceback": [
      "\u001b[31m---------------------------------------------------------------------------\u001b[39m",
      "\u001b[31mAttributeError\u001b[39m                            Traceback (most recent call last)",
      "\u001b[36mCell\u001b[39m\u001b[36m \u001b[39m\u001b[32mIn[27]\u001b[39m\u001b[32m, line 22\u001b[39m\n\u001b[32m     20\u001b[39m dataset, mixer = prepare_dataset_and_mixer(cfg[idx][\u001b[33m'\u001b[39m\u001b[33mconfig\u001b[39m\u001b[33m'\u001b[39m])\n\u001b[32m     21\u001b[39m \u001b[38;5;28;01mif\u001b[39;00m dataset_name != \u001b[33m'\u001b[39m\u001b[33mMultinomialDistributionDataset\u001b[39m\u001b[33m'\u001b[39m:\n\u001b[32m---> \u001b[39m\u001b[32m22\u001b[39m     mixed_sets = mixer.prescribed_mixing(\u001b[43mdataset\u001b[49m\u001b[43m.\u001b[49m\u001b[43mdata\u001b[49m\u001b[43m.\u001b[49m\u001b[43mflatten\u001b[49m(start_dim=\u001b[32m2\u001b[39m), mix_probs)\n\u001b[32m     23\u001b[39m     mixed_sets = mixed_sets.float().cuda()\n\u001b[32m     24\u001b[39m \u001b[38;5;28;01melse\u001b[39;00m:\n",
      "\u001b[31mAttributeError\u001b[39m: 'list' object has no attribute 'flatten'"
     ]
    }
   ],
   "source": []
  },
  {
   "cell_type": "code",
   "execution_count": null,
   "id": "5ddeacb5",
   "metadata": {},
   "outputs": [],
   "source": []
  }
 ],
 "metadata": {
  "kernelspec": {
   "display_name": "Python 3 (ipykernel)",
   "language": "python",
   "name": "python3"
  },
  "language_info": {
   "codemirror_mode": {
    "name": "ipython",
    "version": 3
   },
   "file_extension": ".py",
   "mimetype": "text/x-python",
   "name": "python",
   "nbconvert_exporter": "python",
   "pygments_lexer": "ipython3",
   "version": "3.11.12"
  }
 },
 "nbformat": 4,
 "nbformat_minor": 5
}
