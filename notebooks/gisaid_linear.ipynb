{
 "cells": [
  {
   "cell_type": "code",
   "execution_count": 1,
   "id": "91e4a8f4",
   "metadata": {},
   "outputs": [],
   "source": [
    "from Bio import SeqIO\n",
    "from tqdm.notebook import tqdm\n",
    "from collections import defaultdict\n",
    "\n",
    "from utils.experiment_utils import get_all_experiments_info, load_checkpoint#load_best_model\n",
    "import torch\n",
    "import os\n",
    "import hydra\n",
    "from omegaconf import DictConfig, OmegaConf\n",
    "from torch.utils.data import DataLoader\n",
    "\n",
    "import numpy as np\n",
    "import seaborn as sns\n",
    "import pandas as pd\n",
    "import matplotlib.pyplot as plt\n",
    "\n",
    "from datasets.virus import ViralDataset\n",
    "\n",
    "from collections import Counter"
   ]
  },
  {
   "cell_type": "code",
   "execution_count": 2,
   "id": "bbbb49c8",
   "metadata": {},
   "outputs": [],
   "source": [
    "def load_model(cfg, path, device, ckpt=None):\n",
    "    enc = hydra.utils.instantiate(cfg['encoder'])\n",
    "    gen = hydra.utils.instantiate(cfg['generator'])\n",
    "    if ckpt is not None:\n",
    "        state = load_checkpoint(path, ckpt)\n",
    "        enc.load_state_dict(state['encoder_state_dict'])\n",
    "        gen.model.load_state_dict(state['generator_state_dict'])\n",
    "    enc.eval()\n",
    "    gen.model.eval()\n",
    "    enc.to(device)\n",
    "    gen.model.to(device)\n",
    "    return enc, gen\n",
    "\n",
    "def recursive_collate(batch_part):\n",
    "            if isinstance(batch_part[0], torch.Tensor):\n",
    "                return torch.stack(batch_part)\n",
    "            elif isinstance(batch_part[0], dict):\n",
    "                return {key: recursive_collate([b[key] for b in batch_part]) for key in batch_part[0]}\n",
    "            else:\n",
    "                return batch_part  # for strings, lists, or other non-tensor data\n",
    "            \n"
   ]
  },
  {
   "cell_type": "code",
   "execution_count": 3,
   "id": "4a34613c",
   "metadata": {},
   "outputs": [
    {
     "name": "stderr",
     "output_type": "stream",
     "text": [
      "Some weights of EsmModel were not initialized from the model checkpoint at facebook/esm2_t6_8M_UR50D and are newly initialized: ['pooler.dense.bias', 'pooler.dense.weight']\n",
      "You should probably TRAIN this model on a down-stream task to be able to use it for predictions and inference.\n",
      "Some weights of EsmModel were not initialized from the model checkpoint at facebook/esm2_t6_8M_UR50D and are newly initialized: ['pooler.dense.bias', 'pooler.dense.weight']\n",
      "You should probably TRAIN this model on a down-stream task to be able to use it for predictions and inference.\n"
     ]
    }
   ],
   "source": [
    "device = 'cuda'\n",
    "configs = get_all_experiments_info('outputs/', False)\n",
    "cfg = [c for c in configs if 'virus' in c['name'] \n",
    "       and c['config']['training']['save_interval']==1]\n",
    "cfg = cfg[0]\n",
    "cfg\n",
    "\n",
    "cfg['config']['dataset']['tokenize'] = False\n",
    "dataset = hydra.utils.instantiate(cfg['config']['dataset'])\n",
    "enc, gen = load_model(cfg['config'], cfg['dir'], 'cuda', ckpt=3)\n",
    "base_esm, _ = load_model(cfg['config'], cfg['dir'], 'cuda', ckpt=None)\n",
    "# collated = recursive_collate([dataset.__getitem__(i) for i in range(3)])"
   ]
  },
  {
   "cell_type": "code",
   "execution_count": 4,
   "id": "a32c15e9",
   "metadata": {},
   "outputs": [
    {
     "data": {
      "application/vnd.jupyter.widget-view+json": {
       "model_id": "85437849e0d44fb799b8711981c95106",
       "version_major": 2,
       "version_minor": 0
      },
      "text/plain": [
       "0it [00:00, ?it/s]"
      ]
     },
     "metadata": {},
     "output_type": "display_data"
    },
    {
     "name": "stdout",
     "output_type": "stream",
     "text": [
      "1002\n",
      "1002\n",
      "1002\n"
     ]
    }
   ],
   "source": [
    "dataloader = DataLoader(dataset, batch_size=8, shuffle=True)\n",
    "\n",
    "dist_Zs = []\n",
    "esm_mean_Zs = []\n",
    "seq_Zs = []\n",
    "TLs = []\n",
    "\n",
    "break_after = 10**3\n",
    "\n",
    "for i, batch in tqdm(enumerate(dataloader)):\n",
    "    samples = batch['samples']\n",
    "    seq = {}\n",
    "    for k, v in samples.items():\n",
    "        if isinstance(v, torch.Tensor):\n",
    "            samples[k] = v.to('cuda')\n",
    "            # seq[k] = v[:, :1, :].to('cuda')\n",
    "\n",
    "    with torch.no_grad():\n",
    "        latent = enc(samples)\n",
    "        # seq_latent = base_esm(seq)\n",
    "\n",
    "        b, s = samples['esm_input_ids'].shape[:2]\n",
    "        ids = samples['esm_input_ids'].view(b * s, -1)\n",
    "        mask = samples['esm_attention_mask'].view(b * s, -1)\n",
    "        feats = base_esm.esm_extractor(ids, mask).view(b, s, -1)\n",
    "        esm_mean = feats.mean(dim=1)\n",
    "        seq_latent = feats[:, :1, :].squeeze(1)\n",
    "        # esm_mean = base_esm(samples)\n",
    "\n",
    "    dist_Zs.append(latent.cpu().numpy())\n",
    "    seq_Zs.append(seq_latent.cpu().numpy())\n",
    "    esm_mean_Zs.append(esm_mean.cpu().numpy())\n",
    "    TLs.append(batch['time-loc'])\n",
    "\n",
    "    if i > break_after:\n",
    "        break\n",
    "\n",
    "print(len(dist_Zs))\n",
    "print(len(seq_Zs))\n",
    "print(len(esm_mean_Zs))\n",
    "\n",
    "T = np.array([item for sub in TLs for item in sub])\n",
    "months = [t[:7] for t in T] # strings (yyyy-mm)\n",
    "locs = [t.split('-')[-1] for t in T] # strings (country name)"
   ]
  },
  {
   "cell_type": "code",
   "execution_count": 5,
   "id": "decb7825",
   "metadata": {},
   "outputs": [],
   "source": [
    "from datetime import datetime\n",
    "\n",
    "# try parsing months safely to datetime\n",
    "dates = []\n",
    "for m in months:\n",
    "    try:\n",
    "        d = datetime.strptime(m, \"%Y-%m\")\n",
    "        dates.append(d)\n",
    "    except ValueError:\n",
    "        dates.append(None)\n",
    "\n",
    "start_date = datetime(2019, 12, 1)\n",
    "# Convert dates to months since start_date\n",
    "dates = [(d - start_date).days // 30 if d is not None else None for d in dates]\n",
    "\n",
    "# drop None entries\n",
    "valid = [i for i, d in enumerate(dates) if d is not None]"
   ]
  },
  {
   "cell_type": "code",
   "execution_count": 24,
   "id": "cf32aa59",
   "metadata": {},
   "outputs": [
    {
     "name": "stdout",
     "output_type": "stream",
     "text": [
      "Months Regression MAE (dist_Zs, Ridge): 1.804907864759542\n",
      "Months Regression MAE (seq_Zs, Ridge): 2.8934537119011328\n",
      "Months Regression MAE (esm_mean_Zs, Ridge): 2.226662036629876\n"
     ]
    }
   ],
   "source": [
    "from sklearn.model_selection import train_test_split\n",
    "from sklearn.svm import LinearSVC\n",
    "from sklearn.linear_model import Ridge\n",
    "from sklearn.metrics import accuracy_score, mean_squared_error, mean_absolute_error\n",
    "from sklearn.preprocessing import LabelEncoder\n",
    "import numpy as np\n",
    "\n",
    "# Flatten dist_Zs and seq_Zs\n",
    "dist_Zs_flat = np.vstack(dist_Zs)\n",
    "seq_Zs_flat = np.vstack(seq_Zs)\n",
    "esm_mean_Zs_flat = np.vstack(esm_mean_Zs)\n",
    "\n",
    "# Encode months and locations\n",
    "le_locs = LabelEncoder()\n",
    "locs_encoded = le_locs.fit_transform(locs)\n",
    "\n",
    "# Generate train-test split indices\n",
    "train_inds, test_inds = train_test_split(np.arange(len(dist_Zs_flat)), test_size=0.5, random_state=42)\n",
    "\n",
    "# Use the same indices for all datasets\n",
    "X_train_dist, X_test_dist = dist_Zs_flat[train_inds], dist_Zs_flat[test_inds]\n",
    "X_train_seq, X_test_seq = seq_Zs_flat[train_inds], seq_Zs_flat[test_inds]\n",
    "X_train_esm, X_test_esm = esm_mean_Zs_flat[train_inds], esm_mean_Zs_flat[test_inds]\n",
    "\n",
    "y_train_locs, y_test_locs = locs_encoded[train_inds], locs_encoded[test_inds]\n",
    "\n",
    "# # Classification: Predict locations\n",
    "# clf_dist = LinearSVC(max_iter=10000)\n",
    "# clf_dist.fit(X_train_dist, y_train_locs)\n",
    "# locs_pred_dist = clf_dist.predict(X_test_dist)\n",
    "# accuracy_dist = accuracy_score(y_test_locs, locs_pred_dist)\n",
    "\n",
    "# clf_seq = LinearSVC(max_iter=10000)\n",
    "# clf_seq.fit(X_train_seq, y_train_locs)\n",
    "# locs_pred_seq = clf_seq.predict(X_test_seq)\n",
    "# accuracy_seq = accuracy_score(y_test_locs, locs_pred_seq)\n",
    "\n",
    "# clf_esm = LinearSVC(max_iter=10000)\n",
    "# clf_esm.fit(X_train_esm, y_train_locs)\n",
    "# locs_pred_esm = clf_esm.predict(X_test_esm)\n",
    "# accuracy_esm = accuracy_score(y_test_locs, locs_pred_esm)\n",
    "\n",
    "# print(f\"Location Classification Accuracy (dist_Zs): {accuracy_dist}\")\n",
    "# print(f\"Location Classification Accuracy (seq_Zs): {accuracy_seq}\")\n",
    "# print(f\"Location Classification Accuracy (esm_mean_Zs): {accuracy_esm}\")\n",
    "\n",
    "\n",
    "# Ensure valid indices for months\n",
    "valid_train_inds = [i for i in train_inds if i in valid]\n",
    "valid_test_inds = [i for i in test_inds if i in valid]\n",
    "\n",
    "X_train_dist_valid, X_test_dist_valid = dist_Zs_flat[valid_train_inds], dist_Zs_flat[valid_test_inds]\n",
    "X_train_seq_valid, X_test_seq_valid = seq_Zs_flat[valid_train_inds], seq_Zs_flat[valid_test_inds]\n",
    "X_train_esm_valid, X_test_esm_valid = esm_mean_Zs_flat[valid_train_inds], esm_mean_Zs_flat[valid_test_inds]\n",
    "\n",
    "y_train_months = [dates[i] for i in valid_train_inds]\n",
    "y_test_months = [dates[i] for i in valid_test_inds]\n",
    "\n",
    "# Regression\n",
    "ridge_dist = Ridge(alpha=0.1)  # Adjust alpha as needed\n",
    "ridge_dist.fit(X_train_dist_valid, y_train_months)\n",
    "y_pred_dist = ridge_dist.predict(X_test_dist_valid)\n",
    "mae_dist = mean_absolute_error(y_test_months, y_pred_dist)\n",
    "\n",
    "ridge_seq = Ridge(alpha=0.1)  # Adjust alpha as needed\n",
    "ridge_seq.fit(X_train_seq_valid, y_train_months)\n",
    "y_pred_seq = ridge_seq.predict(X_test_seq_valid)\n",
    "mae_seq = mean_absolute_error(y_test_months, y_pred_seq)\n",
    "\n",
    "ridge_esm = Ridge(alpha=0.1)  # Adjust alpha as needed\n",
    "ridge_esm.fit(X_train_esm_valid, y_train_months)\n",
    "y_pred_esm = ridge_esm.predict(X_test_esm_valid)\n",
    "mae_esm = mean_absolute_error(y_test_months, y_pred_esm)\n",
    "\n",
    "print(f\"Months Regression MAE (dist_Zs, Ridge): {mae_dist}\")\n",
    "print(f\"Months Regression MAE (seq_Zs, Ridge): {mae_seq}\")\n",
    "print(f\"Months Regression MAE (esm_mean_Zs, Ridge): {mae_esm}\")"
   ]
  },
  {
   "cell_type": "code",
   "execution_count": 29,
   "id": "d5ba1dae",
   "metadata": {},
   "outputs": [
    {
     "name": "stdout",
     "output_type": "stream",
     "text": [
      "Location Classification Accuracy (dist_Zs): Mean=0.2847, Std=0.0043\n",
      "Location Classification Accuracy (seq_Zs): Mean=0.2295, Std=0.0104\n",
      "Location Classification Accuracy (esm_mean_Zs): Mean=0.2524, Std=0.0109\n",
      "Months Regression MAE (dist_Zs, KernelRidge): Mean=1.8270, Std=0.0302\n",
      "Months Regression MAE (seq_Zs, KernelRidge): Mean=2.8930, Std=0.0409\n",
      "Months Regression MAE (esm_mean_Zs, KernelRidge): Mean=2.2405, Std=0.0414\n"
     ]
    }
   ],
   "source": [
    "# Number of splits\n",
    "n_splits = 10\n",
    "\n",
    "# Store results\n",
    "accuracy_dist_list = []\n",
    "accuracy_seq_list = []\n",
    "accuracy_esm_list = []\n",
    "\n",
    "mae_dist_list = []\n",
    "mae_seq_list = []\n",
    "mae_esm_list = []\n",
    "\n",
    "for _ in range(n_splits):\n",
    "    # Generate train-test split indices\n",
    "    train_inds, test_inds = train_test_split(np.arange(len(dist_Zs_flat)), test_size=0.5, random_state=None)\n",
    "\n",
    "    # Use the same indices for all datasets\n",
    "    X_train_dist, X_test_dist = dist_Zs_flat[train_inds], dist_Zs_flat[test_inds]\n",
    "    X_train_seq, X_test_seq = seq_Zs_flat[train_inds], seq_Zs_flat[test_inds]\n",
    "    X_train_esm, X_test_esm = esm_mean_Zs_flat[train_inds], esm_mean_Zs_flat[test_inds]\n",
    "\n",
    "    y_train_locs, y_test_locs = locs_encoded[train_inds], locs_encoded[test_inds]\n",
    "\n",
    "    # Classification: Predict locations\n",
    "    clf_dist = LinearSVC(max_iter=10000)\n",
    "    clf_dist.fit(X_train_dist, y_train_locs)\n",
    "    locs_pred_dist = clf_dist.predict(X_test_dist)\n",
    "    accuracy_dist_list.append(accuracy_score(y_test_locs, locs_pred_dist))\n",
    "\n",
    "    clf_seq = LinearSVC(max_iter=10000)\n",
    "    clf_seq.fit(X_train_seq, y_train_locs)\n",
    "    locs_pred_seq = clf_seq.predict(X_test_seq)\n",
    "    accuracy_seq_list.append(accuracy_score(y_test_locs, locs_pred_seq))\n",
    "\n",
    "    clf_esm = LinearSVC(max_iter=10000)\n",
    "    clf_esm.fit(X_train_esm, y_train_locs)\n",
    "    locs_pred_esm = clf_esm.predict(X_test_esm)\n",
    "    accuracy_esm_list.append(accuracy_score(y_test_locs, locs_pred_esm))\n",
    "\n",
    "    # Ensure valid indices for months\n",
    "    valid_train_inds = [i for i in train_inds if i in valid]\n",
    "    valid_test_inds = [i for i in test_inds if i in valid]\n",
    "\n",
    "    X_train_dist_valid, X_test_dist_valid = dist_Zs_flat[valid_train_inds], dist_Zs_flat[valid_test_inds]\n",
    "    X_train_seq_valid, X_test_seq_valid = seq_Zs_flat[valid_train_inds], seq_Zs_flat[valid_test_inds]\n",
    "    X_train_esm_valid, X_test_esm_valid = esm_mean_Zs_flat[valid_train_inds], esm_mean_Zs_flat[valid_test_inds]\n",
    "\n",
    "    y_train_months = [dates[i] for i in valid_train_inds]\n",
    "    y_test_months = [dates[i] for i in valid_test_inds]\n",
    "\n",
    "    # Regression: Predict months with Ridge\n",
    "    ridge_dist = Ridge(alpha=0.1)  # Adjust alpha as needed\n",
    "    ridge_dist.fit(X_train_dist_valid, y_train_months)\n",
    "    y_pred_dist = ridge_dist.predict(X_test_dist_valid)\n",
    "    mae_dist = mean_absolute_error(y_test_months, y_pred_dist)\n",
    "    mae_dist_list.append(mae_dist)\n",
    "\n",
    "    ridge_seq = Ridge(alpha=0.1)  # Adjust alpha as needed\n",
    "    ridge_seq.fit(X_train_seq_valid, y_train_months)\n",
    "    y_pred_seq = ridge_seq.predict(X_test_seq_valid)\n",
    "    mae_seq = mean_absolute_error(y_test_months, y_pred_seq)\n",
    "    mae_seq_list.append(mae_seq)\n",
    "\n",
    "    ridge_esm = Ridge(alpha=0.1)  # Adjust alpha as needed\n",
    "    ridge_esm.fit(X_train_esm_valid, y_train_months)\n",
    "    y_pred_esm = ridge_esm.predict(X_test_esm_valid)\n",
    "    mae_esm = mean_absolute_error(y_test_months, y_pred_esm)\n",
    "    mae_esm_list.append(mae_esm)\n",
    "\n",
    "# Calculate mean and std for classification accuracies\n",
    "print(f\"Location Classification Accuracy (dist_Zs): Mean={np.mean(accuracy_dist_list):.4f}, Std={np.std(accuracy_dist_list):.4f}\")\n",
    "print(f\"Location Classification Accuracy (seq_Zs): Mean={np.mean(accuracy_seq_list):.4f}, Std={np.std(accuracy_seq_list):.4f}\")\n",
    "print(f\"Location Classification Accuracy (esm_mean_Zs): Mean={np.mean(accuracy_esm_list):.4f}, Std={np.std(accuracy_esm_list):.4f}\")\n",
    "\n",
    "# Calculate mean and std for regression MAEs\n",
    "print(f\"Months Regression MAE (dist_Zs, KernelRidge): Mean={np.mean(mae_dist_list):.4f}, Std={np.std(mae_dist_list):.4f}\")\n",
    "print(f\"Months Regression MAE (seq_Zs, KernelRidge): Mean={np.mean(mae_seq_list):.4f}, Std={np.std(mae_seq_list):.4f}\")\n",
    "print(f\"Months Regression MAE (esm_mean_Zs, KernelRidge): Mean={np.mean(mae_esm_list):.4f}, Std={np.std(mae_esm_list):.4f}\")"
   ]
  },
  {
   "cell_type": "code",
   "execution_count": 30,
   "id": "43d87e83",
   "metadata": {},
   "outputs": [
    {
     "name": "stdout",
     "output_type": "stream",
     "text": [
      "Train samples: 4008\n",
      "Test samples: 4008\n",
      "Train samples (valid): 4005\n",
      "Test samples (valid): 4005\n",
      "N splits: 10\n"
     ]
    }
   ],
   "source": [
    "print(\"Train samples: %d\" % len(X_train_dist))\n",
    "print(\"Test samples: %d\" % len(X_test_dist))\n",
    "print(\"Train samples (valid): %d\" % len(X_train_dist_valid))\n",
    "print(\"Test samples (valid): %d\" % len(X_test_dist_valid))\n",
    "print(\"N splits: %d\" % n_splits)"
   ]
  },
  {
   "cell_type": "code",
   "execution_count": 34,
   "id": "a642e559",
   "metadata": {},
   "outputs": [
    {
     "name": "stdout",
     "output_type": "stream",
     "text": [
      "Location Classification Accuracy (dist_Zs): Mean = 0.2847 ± 0.0014\n",
      "Location Classification Accuracy (seq_Zs): Mean = 0.2295 ± 0.0035\n",
      "Location Classification Accuracy (esm_mean_Zs): Mean = 0.2524 ± 0.0036\n",
      "Months Regression MAE (dist_Zs, Ridge): Mean = 1.8270 ± 0.0101\n",
      "Months Regression MAE (seq_Zs, Ridge): Mean = 2.8930 ± 0.0136\n",
      "Months Regression MAE (esm_mean_Zs, Ridge): Mean = 2.2405 ± 0.0138\n"
     ]
    }
   ],
   "source": [
    "from scipy.stats import sem\n",
    "print(f\"Location Classification Accuracy (dist_Zs): Mean = {np.mean(accuracy_dist_list):.4f} ± {sem(accuracy_dist_list):.4f}\")\n",
    "print(f\"Location Classification Accuracy (seq_Zs): Mean = {np.mean(accuracy_seq_list):.4f} ± {sem(accuracy_seq_list):.4f}\")\n",
    "print(f\"Location Classification Accuracy (esm_mean_Zs): Mean = {np.mean(accuracy_esm_list):.4f} ± {sem(accuracy_esm_list):.4f}\")\n",
    "print(f\"Months Regression MAE (dist_Zs, Ridge): Mean = {np.mean(mae_dist_list):.4f} ± {sem(mae_dist_list):.4f}\")\n",
    "print(f\"Months Regression MAE (seq_Zs, Ridge): Mean = {np.mean(mae_seq_list):.4f} ± {sem(mae_seq_list):.4f}\")\n",
    "print(f\"Months Regression MAE (esm_mean_Zs, Ridge): Mean = {np.mean(mae_esm_list):.4f} ± {sem(mae_esm_list):.4f}\")"
   ]
  },
  {
   "cell_type": "code",
   "execution_count": 33,
   "id": "ff834720",
   "metadata": {},
   "outputs": [
    {
     "data": {
      "image/png": "[encoded data removed]",
      "text/plain": [
       "<Figure size 600x300 with 1 Axes>"
      ]
     },
     "metadata": {},
     "output_type": "display_data"
    }
   ],
   "source": [
    "plt.figure(figsize=(6, 3))\n",
    "sns.scatterplot(x=y_pred_seq, y=y_test_months, label='seq_Zs', color='green')\n",
    "sns.scatterplot(x=y_pred_esm, y=y_test_months, label='esm_mean_Zs', color='red')\n",
    "sns.scatterplot(x=y_pred_dist, y=y_test_months, label='dist_Zs', color='blue')\n",
    "\n",
    "# Add labels, legend, and title\n",
    "plt.xlabel('Predicted Months')\n",
    "plt.ylabel('True Months')\n",
    "plt.legend()\n",
    "plt.grid(True)\n",
    "plt.show()"
   ]
  },
  {
   "cell_type": "code",
   "execution_count": 38,
   "id": "25c7b8eb",
   "metadata": {},
   "outputs": [
    {
     "data": {
      "text/plain": [
       "np.float64(0.21007984031936128)"
      ]
     },
     "execution_count": 38,
     "metadata": {},
     "output_type": "execute_result"
    }
   ],
   "source": [
    "np.unique(y_train_locs, return_counts=True)[1].max()/len(y_train_locs)"
   ]
  },
  {
   "cell_type": "code",
   "execution_count": null,
   "id": "58e3ab51",
   "metadata": {},
   "outputs": [],
   "source": []
  }
 ],
 "metadata": {
  "kernelspec": {
   "display_name": "Python 3 (ipykernel)",
   "language": "python",
   "name": "python3"
  },
  "language_info": {
   "codemirror_mode": {
    "name": "ipython",
    "version": 3
   },
   "file_extension": ".py",
   "mimetype": "text/x-python",
   "name": "python",
   "nbconvert_exporter": "python",
   "pygments_lexer": "ipython3",
   "version": "3.11.12"
  }
 },
 "nbformat": 4,
 "nbformat_minor": 5
}
