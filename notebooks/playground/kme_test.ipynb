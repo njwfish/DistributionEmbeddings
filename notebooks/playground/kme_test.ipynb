{
 "cells": [
  {
   "cell_type": "code",
   "execution_count": 1,
   "id": "cd0a763c",
   "metadata": {},
   "outputs": [
    {
     "name": "stdout",
     "output_type": "stream",
     "text": [
      "[KeOps] Warning : CUDA libraries not found or could not be loaded; Switching to CPU only.\n"
     ]
    }
   ],
   "source": [
    "import torch\n",
    "# from encoder.encoders import DistributionEncoderTx\n",
    "from encoder.kernel_mean import KMEEncoder\n",
    "from generator.wormhole import WormholeGenerator\n",
    "from datasets.mnist import MNISTDataset\n",
    "from torch.utils.data import DataLoader\n",
    "import matplotlib.pyplot as plt\n",
    "import seaborn as sns\n",
    "import numpy as np\n",
    "\n",
    "from mixer.mixer import SetMixer"
   ]
  },
  {
   "cell_type": "code",
   "execution_count": 2,
   "id": "c5026301",
   "metadata": {},
   "outputs": [],
   "source": [
    "dataset = MNISTDataset(set_size=100, n_sets=10**3, n_classes=3)\n",
    "mixer = SetMixer(k=3)"
   ]
  },
  {
   "cell_type": "code",
   "execution_count": 3,
   "id": "ac569650",
   "metadata": {},
   "outputs": [],
   "source": [
    "dataloader = DataLoader(\n",
    "    dataset,\n",
    "    batch_size=8,\n",
    "    shuffle=True,\n",
    "    collate_fn=mixer.collate_fn\n",
    ")"
   ]
  },
  {
   "cell_type": "code",
   "execution_count": 4,
   "id": "1f1fd59d",
   "metadata": {},
   "outputs": [],
   "source": [
    "enc = KMEEncoder(dataset.data[0][0].shape, d=64)"
   ]
  },
  {
   "cell_type": "code",
   "execution_count": 5,
   "id": "ca41c98e",
   "metadata": {},
   "outputs": [
    {
     "data": {
      "text/plain": [
       "WormholeGenerator(\n",
       "  (model): DistributionDecoderTx(\n",
       "    (decoder): Sequential(\n",
       "      (0): Linear(in_features=64, out_features=128, bias=True)\n",
       "      (1): SELU()\n",
       "      (2): SelfAttention(\n",
       "        (attn): MultiheadAttention(\n",
       "          (out_proj): NonDynamicallyQuantizableLinear(in_features=128, out_features=128, bias=True)\n",
       "        )\n",
       "        (norm): LayerNorm((128,), eps=1e-05, elementwise_affine=True)\n",
       "      )\n",
       "      (3): Linear(in_features=128, out_features=784, bias=True)\n",
       "    )\n",
       "    (multiplier): Linear(in_features=64, out_features=6400, bias=True)\n",
       "  )\n",
       "  (sinkhorn): SamplesLoss()\n",
       ")"
      ]
     },
     "execution_count": 5,
     "metadata": {},
     "output_type": "execute_result"
    }
   ],
   "source": [
    "in_dim = 28*28\n",
    "latent_dim = 64\n",
    "hidden_dim = 128\n",
    "set_size = dataset.set_size\n",
    "device = 'cuda'\n",
    "\n",
    "gen = WormholeGenerator(latent_dim, in_dim, hidden_dim, set_size)\n",
    "optimizer = torch.optim.Adam(list(enc.parameters()) + list(gen.parameters()), lr=1e-4)\n",
    "enc.to(device)\n",
    "gen.to(device)"
   ]
  },
  {
   "cell_type": "code",
   "execution_count": 6,
   "id": "1d118737",
   "metadata": {},
   "outputs": [
    {
     "name": "stdout",
     "output_type": "stream",
     "text": [
      "epoch 0 batch 0: loss 563.6004638671875\n",
      "epoch 0 batch 100: loss 573.16845703125\n",
      "epoch 1 batch 0: loss 451.1878662109375\n",
      "epoch 1 batch 100: loss 458.6114807128906\n",
      "epoch 2 batch 0: loss 257.95587158203125\n",
      "epoch 2 batch 100: loss 478.4242858886719\n",
      "epoch 3 batch 0: loss 662.6100463867188\n",
      "epoch 3 batch 100: loss 513.3933715820312\n",
      "epoch 4 batch 0: loss 548.0031127929688\n",
      "epoch 4 batch 100: loss 538.5498657226562\n",
      "epoch 5 batch 0: loss 252.2388458251953\n",
      "epoch 5 batch 100: loss 668.57080078125\n",
      "epoch 6 batch 0: loss 542.3963012695312\n",
      "epoch 6 batch 100: loss 332.9349365234375\n",
      "epoch 7 batch 0: loss 640.2449340820312\n",
      "epoch 7 batch 100: loss 578.8745727539062\n",
      "epoch 8 batch 0: loss 581.9644165039062\n",
      "epoch 8 batch 100: loss 594.6200561523438\n",
      "epoch 9 batch 0: loss 295.52691650390625\n",
      "epoch 9 batch 100: loss 470.7505187988281\n"
     ]
    }
   ],
   "source": [
    "for epoch in range(10):\n",
    "    for idx,batch in enumerate(dataloader):\n",
    "        \n",
    "        samples = batch['samples'].to(device)\n",
    "        latent = enc(samples)\n",
    "        loss = gen.loss(samples.view(-1, *samples.shape[2:]), latent)\n",
    "        optimizer.zero_grad()\n",
    "        loss.backward()\n",
    "        optimizer.step()\n",
    "        if idx % 100 == 0:\n",
    "            print(f\"epoch {epoch} batch {idx}: loss {loss.item()}\")"
   ]
  },
  {
   "cell_type": "code",
   "execution_count": 14,
   "id": "1b4f2ea1",
   "metadata": {},
   "outputs": [
    {
     "name": "stdout",
     "output_type": "stream",
     "text": [
      "[2, 2, 1, 0, 1, 2, 2, 1, 1, 1, 0, 1, 0, 0, 2, 1, 1, 0, 0, 1, 0, 2, 0, 1, 0, 1, 0, 1, 0, 1, 2, 0]\n"
     ]
    },
    {
     "data": {
      "image/png": "[encoded data removed]",
      "text/plain": [
       "<Figure size 640x480 with 1 Axes>"
      ]
     },
     "metadata": {},
     "output_type": "display_data"
    },
    {
     "data": {
      "image/png": "[encoded data removed]",
      "text/plain": [
       "<Figure size 640x480 with 1 Axes>"
      ]
     },
     "metadata": {},
     "output_type": "display_data"
    }
   ],
   "source": [
    "enc.eval()\n",
    "gen.eval()\n",
    "\n",
    "dataloader = DataLoader(\n",
    "    dataset,\n",
    "    batch_size=32,\n",
    "    shuffle=True,\n",
    ") # default collate now!!\n",
    "\n",
    "with torch.no_grad():\n",
    "    for idx,batch in enumerate(dataloader):\n",
    "        samples = batch['samples'].to(device)\n",
    "        latent = enc(samples)\n",
    "        img = gen(latent).reshape(32, set_size, 28, 28)\n",
    "        metadata = [b.item() for b in batch['metadata'].cpu()]\n",
    "\n",
    "        print(metadata)\n",
    "\n",
    "        plt.imshow(samples[1][0].cpu().reshape(28, 28))\n",
    "        plt.show()\n",
    "\n",
    "        plt.imshow(img[1][0].cpu())\n",
    "        break\n"
   ]
  },
  {
   "cell_type": "code",
   "execution_count": null,
   "id": "6f96226c",
   "metadata": {},
   "outputs": [],
   "source": []
  }
 ],
 "metadata": {
  "kernelspec": {
   "display_name": "Python 3 (ipykernel)",
   "language": "python",
   "name": "python3"
  },
  "language_info": {
   "codemirror_mode": {
    "name": "ipython",
    "version": 3
   },
   "file_extension": ".py",
   "mimetype": "text/x-python",
   "name": "python",
   "nbconvert_exporter": "python",
   "pygments_lexer": "ipython3",
   "version": "3.11.12"
  }
 },
 "nbformat": 4,
 "nbformat_minor": 5
}
