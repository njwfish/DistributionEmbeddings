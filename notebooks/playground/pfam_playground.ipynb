{
 "cells": [
  {
   "cell_type": "code",
   "execution_count": 72,
   "id": "83db7851",
   "metadata": {},
   "outputs": [],
   "source": [
    "import os\n",
    "import subprocess\n",
    "import gzip\n",
    "import pandas as pd\n",
    "from tqdm.notebook import tqdm\n",
    "import numpy as np\n",
    "import random"
   ]
  },
  {
   "cell_type": "code",
   "execution_count": 43,
   "id": "78ca27fb",
   "metadata": {},
   "outputs": [],
   "source": [
    "# data_dir = \"data/pfam\"\n",
    "# os.makedirs(data_dir, exist_ok=True)\n",
    "\n",
    "# # download regions.tsv.gz files\n",
    "# url = \"ftp://ftp.ebi.ac.uk/pub/databases/Pfam/current_release/\"\n",
    "# wget_cmd = f\"wget -nd -r -A '*.fasta.gz' -P {data_dir} {url}\"\n",
    "# subprocess.run(wget_cmd, shell=True)"
   ]
  },
  {
   "cell_type": "code",
   "execution_count": null,
   "id": "7ea28b22",
   "metadata": {},
   "outputs": [],
   "source": []
  },
  {
   "cell_type": "code",
   "execution_count": 68,
   "id": "2567d1e2",
   "metadata": {},
   "outputs": [
    {
     "data": {
      "application/vnd.jupyter.widget-view+json": {
       "model_id": "f131dcf497dd4a21b9e838e4b898d2cb",
       "version_major": 2,
       "version_minor": 0
      },
      "text/plain": [
       "0it [00:00, ?it/s]"
      ]
     },
     "metadata": {},
     "output_type": "display_data"
    }
   ],
   "source": [
    "f = gzip.open('data/pfam/Pfam-A.fasta.gz', 'rt')\n",
    "\n",
    "d = {}\n",
    "\n",
    "lines_to_read = 10**7\n",
    "\n",
    "i = 0\n",
    "for line in tqdm(f):\n",
    "    if line.startswith('>'):\n",
    "        fam = line.split()[-1].split(';')[0]\n",
    "        if fam not in d.keys():\n",
    "            d[fam] = []\n",
    "    else:\n",
    "        d[fam].append(line.strip())\n",
    "\n",
    "    i+= 1\n",
    "    if i > lines_to_read:\n",
    "        break\n"
   ]
  },
  {
   "cell_type": "code",
   "execution_count": 2,
   "id": "7be3537e",
   "metadata": {},
   "outputs": [],
   "source": [
    "from datasets.protein import PfamDataset\n",
    "from encoder.protein_encoders import ProteinSetEncoder\n",
    "from generator.protein_generator import Progen2Generator"
   ]
  },
  {
   "cell_type": "code",
   "execution_count": 3,
   "id": "f0671339",
   "metadata": {},
   "outputs": [],
   "source": [
    "pf = PfamDataset(tokenize=False, lines_to_read=10**4)"
   ]
  },
  {
   "cell_type": "code",
   "execution_count": 9,
   "id": "0314b73d",
   "metadata": {},
   "outputs": [],
   "source": [
    "from torch.utils.data import DataLoader\n",
    "import torch"
   ]
  },
  {
   "cell_type": "code",
   "execution_count": 16,
   "id": "56cf324d",
   "metadata": {},
   "outputs": [
    {
     "name": "stderr",
     "output_type": "stream",
     "text": [
      "Some weights of EsmModel were not initialized from the model checkpoint at facebook/esm2_t6_8M_UR50D and are newly initialized: ['pooler.dense.bias', 'pooler.dense.weight']\n",
      "You should probably TRAIN this model on a down-stream task to be able to use it for predictions and inference.\n"
     ]
    }
   ],
   "source": [
    "dataloader = DataLoader(pf, batch_size=1)\n",
    "encoder = ProteinSetEncoder(latent_dim=16).to(device='cuda')\n",
    "generator = Progen2Generator(latent_dim=16, max_length=128).to(device='cuda')"
   ]
  },
  {
   "cell_type": "code",
   "execution_count": 18,
   "id": "d946e917",
   "metadata": {},
   "outputs": [
    {
     "name": "stdout",
     "output_type": "stream",
     "text": [
      "(tensor([[[ 3,  2,  4, 14, 21, 11,  7, 15,  8,  7, 17, 17, 20, 13, 13,  9, 26,\n",
      "          13, 21, 14, 15, 14, 15,  5,  9, 14, 22, 14,  8,  9,  9, 19,  9,  8,\n",
      "           9, 12, 17,  9,  9, 11, 11, 13,  8, 22, 22, 13, 10, 19, 20, 22,  9,\n",
      "          19, 15, 11, 10, 21, 12, 19, 12, 28,  8,  8, 10, 14, 12, 21, 25,  5,\n",
      "          14, 10, 21,  8,  7, 15, 11,  7,  5, 10, 21, 26,  8,  9,  5, 14, 12,\n",
      "          14, 23, 10,  9, 20, 20, 17, 13, 13, 17,  7, 12, 10, 17, 17, 14,  9,\n",
      "          15, 14, 14, 21, 23, 13, 11,  7,  8, 15, 10, 13,  9, 21, 10, 14,  5,\n",
      "           8,  9, 11,  4,  2,  4, 12, 26]]], device='cuda:0'), [['12KRGCLDCNNQIIEWIRKLKLAEKSKDEEPEDEHNEEGGIDSSIFPQSEPLGFRHPHYDDFKHRVAKFRDCLGCAFRWDEAKHKTFEQQNIINCHFNNKELKKRTIGCDLFIERFKADEG22HW']])\n"
     ]
    }
   ],
   "source": [
    "for batch in dataloader:\n",
    "    samples = {}\n",
    "    for key, value in batch['samples'].items():\n",
    "        if isinstance(value, torch.Tensor):\n",
    "            samples[key] = value.to('cuda')\n",
    "        else:\n",
    "            samples[key] = value\n",
    "    print(generator.sample(encoder(samples), return_seq=True))\n",
    "    break"
   ]
  },
  {
   "cell_type": "code",
   "execution_count": null,
   "id": "464aff2c",
   "metadata": {},
   "outputs": [],
   "source": []
  }
 ],
 "metadata": {
  "kernelspec": {
   "display_name": "Python 3 (ipykernel)",
   "language": "python",
   "name": "python3"
  },
  "language_info": {
   "codemirror_mode": {
    "name": "ipython",
    "version": 3
   },
   "file_extension": ".py",
   "mimetype": "text/x-python",
   "name": "python",
   "nbconvert_exporter": "python",
   "pygments_lexer": "ipython3",
   "version": "3.11.11"
  }
 },
 "nbformat": 4,
 "nbformat_minor": 5
}
