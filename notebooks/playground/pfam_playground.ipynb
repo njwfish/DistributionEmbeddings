{
 "cells": [
  {
   "cell_type": "code",
   "execution_count": 1,
   "id": "83db7851",
   "metadata": {},
   "outputs": [],
   "source": [
    "import os\n",
    "import subprocess\n",
    "import gzip\n",
    "import pandas as pd\n",
    "from tqdm.notebook import tqdm\n",
    "import numpy as np\n",
    "import random\n",
    "\n",
    "from datasets.protein import PfamDataset\n",
    "from encoder.protein_encoders import ProteinSetEncoder\n",
    "from generator.protein_generator import Progen2Generator\n",
    "\n",
    "from torch.utils.data import DataLoader\n",
    "import torch"
   ]
  },
  {
   "cell_type": "code",
   "execution_count": 2,
   "id": "78ca27fb",
   "metadata": {},
   "outputs": [],
   "source": [
    "# data_dir = \"data/pfam\"\n",
    "# os.makedirs(data_dir, exist_ok=True)\n",
    "\n",
    "# # download regions.tsv.gz files\n",
    "# url = \"ftp://ftp.ebi.ac.uk/pub/databases/Pfam/current_release/\"\n",
    "# wget_cmd = f\"wget -nd -r -A '*.fasta.gz' -P {data_dir} {url}\"\n",
    "# subprocess.run(wget_cmd, shell=True)"
   ]
  },
  {
   "cell_type": "code",
   "execution_count": 3,
   "id": "7ea28b22",
   "metadata": {},
   "outputs": [],
   "source": [
    "pf = PfamDataset(tokenize=False)"
   ]
  },
  {
   "cell_type": "code",
   "execution_count": 4,
   "id": "56cf324d",
   "metadata": {},
   "outputs": [
    {
     "name": "stderr",
     "output_type": "stream",
     "text": [
      "Some weights of EsmModel were not initialized from the model checkpoint at facebook/esm2_t6_8M_UR50D and are newly initialized: ['pooler.dense.bias', 'pooler.dense.weight']\n",
      "You should probably TRAIN this model on a down-stream task to be able to use it for predictions and inference.\n"
     ]
    }
   ],
   "source": [
    "dataloader = DataLoader(pf, batch_size=2)\n",
    "encoder = ProteinSetEncoder(latent_dim=16).to(device='cuda')\n",
    "generator = Progen2Generator(latent_dim=16, max_length=512, \n",
    "                                progen2_name='hugohrban/progen2-small').to(device='cuda')"
   ]
  },
  {
   "cell_type": "code",
   "execution_count": 5,
   "id": "d946e917",
   "metadata": {},
   "outputs": [
    {
     "name": "stdout",
     "output_type": "stream",
     "text": [
      "torch.Size([2, 16, 256])\n",
      "torch.Size([2, 16, 256])\n",
      "[('SLQLTAQYTVATPADWKDGEDVIVAPALSDDEARERFPKG', 'AFQFTDKYGEVCPANWNPGDEGIKATPEGNKEYVSK'), ('AFQFVEQHGEVCPANWKPGEKTINTKDSSEYFGS', 'LHVEKFGEVCPANWEEGGTAMVATSKGVADYFSA'), ('AFQYTDKHGEVCPAGWKPGQDTIIPDPVEKQKYFKN', 'SLQLGDKHRITTPANWKKGDDVIIHPGVTNEDAEKLFPG'), ('ALQAVDEGPVLAPANWLPGQNLLRQPTAKLDDVFAAK', 'GLQTAAKYTVATPANWQVGQDVVIPATVSAEDAKEKFGE'), ('AYSHVQTHGEVCPANWEEGKDAMNATREGVATYLSA', 'ALQKADAEHCSTPANWRPGDDVLIPSPTTCDEAKERMEHT'), ('AYTHVQKNGEVCPANWEEGKEAMNANRDGVASYLSS', 'AIKHHQVHGEVCPAGWMKGDPAMEASQHGIEDYLKS'), ('GYQYTAKHGEVCPAGWNNGADTMKPDPTGSQEYFNK', 'AIQHVQSHPDEVCPAGWQPGDATMNPDPVKSKEFFAT'), ('ALQLTEKRGVVTPIDWTEGKDVIIPPSVTDEAAKEKFGD', 'AAQYVASHPGEVCPAKWKEGEKTLAPSLDLVGRI'), ('ASKYKVATPANWKQGDPVVISPNVSNEEAKQMFPHG', 'AFQLVRETKGAEATPSGWRPGKVTLKPGPGLVGNVWK'), ('AFQYTDEHGEVCPANWKPGAKTMVPSPHDSKEYFKS', 'AAQFTAANPGQVCPAKWQEGAKTITPSLDLVGK'), ('AMQTADKFAVATPADWNPGDDVIISPAGSCGVAEERMTTK', 'ALSFHEEHGEVCPAGWTEGKSGMDASPAGVAKYLSE'), ('ALQFHEEHGEVCPAGWNKGDAGMNANPAGVAEYLSK', 'AAQFVREHGDRVCPANWKPGQDSIKPSLDLVGKL'), ('SLQLTAEHKVATPANWNDGEDVIISTAVSDAEAREKYPEG', 'ALQYFEAKGEVCPANWEEGKEAMQATREGVAAYLGN'), ('ALQFHEEHGEVCPAQWEKGKQGMDASPDGVARFLSE', 'ALQFTDVHGEVCPINWKKGDKTIIPSTTESKDFFQK'), ('SLQTGDKHTIATPINWVPGDDVVIPVSVSDEKAKTLFPK', 'ALKTSDEFGIATPADWRPGDDVIMSPAGSCNAAKSRVEGK'), ('AYQLVRESKGTQATPSGWKPGKKVLKPGIDLVGNVWK', 'ALQFHEEHGEVCPAQWEKGQEGMGASPEGVAKYLSE')]\n",
      "{'samples': {'esm_input_ids': tensor([[[ 0,  8,  4,  ...,  1,  1,  1],\n",
      "         [ 0,  5, 18,  ...,  1,  1,  1],\n",
      "         [ 0,  5, 18,  ...,  1,  1,  1],\n",
      "         ...,\n",
      "         [ 0,  5,  4,  ...,  1,  1,  1],\n",
      "         [ 0,  8,  4,  ...,  1,  1,  1],\n",
      "         [ 0,  5, 19,  ...,  1,  1,  1]],\n",
      "\n",
      "        [[ 0,  5, 18,  ...,  1,  1,  1],\n",
      "         [ 0,  4, 21,  ...,  1,  1,  1],\n",
      "         [ 0,  8,  4,  ...,  1,  1,  1],\n",
      "         ...,\n",
      "         [ 0,  5,  4,  ...,  1,  1,  1],\n",
      "         [ 0,  5,  4,  ...,  1,  1,  1],\n",
      "         [ 0,  5,  4,  ...,  1,  1,  1]]]), 'esm_attention_mask': tensor([[[1, 1, 1,  ..., 0, 0, 0],\n",
      "         [1, 1, 1,  ..., 0, 0, 0],\n",
      "         [1, 1, 1,  ..., 0, 0, 0],\n",
      "         ...,\n",
      "         [1, 1, 1,  ..., 0, 0, 0],\n",
      "         [1, 1, 1,  ..., 0, 0, 0],\n",
      "         [1, 1, 1,  ..., 0, 0, 0]],\n",
      "\n",
      "        [[1, 1, 1,  ..., 0, 0, 0],\n",
      "         [1, 1, 1,  ..., 0, 0, 0],\n",
      "         [1, 1, 1,  ..., 0, 0, 0],\n",
      "         ...,\n",
      "         [1, 1, 1,  ..., 0, 0, 0],\n",
      "         [1, 1, 1,  ..., 0, 0, 0],\n",
      "         [1, 1, 1,  ..., 0, 0, 0]]]), 'progen_input_ids': tensor([[[22, 15, 20,  ...,  0,  0,  0],\n",
      "         [ 5, 10, 20,  ...,  0,  0,  0],\n",
      "         [ 5, 10, 20,  ...,  0,  0,  0],\n",
      "         ...,\n",
      "         [ 5, 15, 20,  ...,  0,  0,  0],\n",
      "         [22, 15, 20,  ...,  0,  0,  0],\n",
      "         [ 5, 28, 20,  ...,  0,  0,  0]],\n",
      "\n",
      "        [[ 5, 10, 20,  ...,  0,  0,  0],\n",
      "         [15, 12, 25,  ...,  0,  0,  0],\n",
      "         [22, 15, 20,  ...,  0,  0,  0],\n",
      "         ...,\n",
      "         [ 5, 15, 20,  ...,  0,  0,  0],\n",
      "         [ 5, 15, 14,  ...,  0,  0,  0],\n",
      "         [ 5, 15, 20,  ...,  0,  0,  0]]]), 'progen_attention_mask': tensor([[[1, 1, 1,  ..., 0, 0, 0],\n",
      "         [1, 1, 1,  ..., 0, 0, 0],\n",
      "         [1, 1, 1,  ..., 0, 0, 0],\n",
      "         ...,\n",
      "         [1, 1, 1,  ..., 0, 0, 0],\n",
      "         [1, 1, 1,  ..., 0, 0, 0],\n",
      "         [1, 1, 1,  ..., 0, 0, 0]],\n",
      "\n",
      "        [[1, 1, 1,  ..., 0, 0, 0],\n",
      "         [1, 1, 1,  ..., 0, 0, 0],\n",
      "         [1, 1, 1,  ..., 0, 0, 0],\n",
      "         ...,\n",
      "         [1, 1, 1,  ..., 0, 0, 0],\n",
      "         [1, 1, 1,  ..., 0, 0, 0],\n",
      "         [1, 1, 1,  ..., 0, 0, 0]]])}, 'pfam': ['PF10417.14', 'PF10417.14'], 'raw_texts': [('SLQLTAQYTVATPADWKDGEDVIVAPALSDDEARERFPKG', 'AFQFTDKYGEVCPANWNPGDEGIKATPEGNKEYVSK'), ('AFQFVEQHGEVCPANWKPGEKTINTKDSSEYFGS', 'LHVEKFGEVCPANWEEGGTAMVATSKGVADYFSA'), ('AFQYTDKHGEVCPAGWKPGQDTIIPDPVEKQKYFKN', 'SLQLGDKHRITTPANWKKGDDVIIHPGVTNEDAEKLFPG'), ('ALQAVDEGPVLAPANWLPGQNLLRQPTAKLDDVFAAK', 'GLQTAAKYTVATPANWQVGQDVVIPATVSAEDAKEKFGE'), ('AYSHVQTHGEVCPANWEEGKDAMNATREGVATYLSA', 'ALQKADAEHCSTPANWRPGDDVLIPSPTTCDEAKERMEHT'), ('AYTHVQKNGEVCPANWEEGKEAMNANRDGVASYLSS', 'AIKHHQVHGEVCPAGWMKGDPAMEASQHGIEDYLKS'), ('GYQYTAKHGEVCPAGWNNGADTMKPDPTGSQEYFNK', 'AIQHVQSHPDEVCPAGWQPGDATMNPDPVKSKEFFAT'), ('ALQLTEKRGVVTPIDWTEGKDVIIPPSVTDEAAKEKFGD', 'AAQYVASHPGEVCPAKWKEGEKTLAPSLDLVGRI'), ('ASKYKVATPANWKQGDPVVISPNVSNEEAKQMFPHG', 'AFQLVRETKGAEATPSGWRPGKVTLKPGPGLVGNVWK'), ('AFQYTDEHGEVCPANWKPGAKTMVPSPHDSKEYFKS', 'AAQFTAANPGQVCPAKWQEGAKTITPSLDLVGK'), ('AMQTADKFAVATPADWNPGDDVIISPAGSCGVAEERMTTK', 'ALSFHEEHGEVCPAGWTEGKSGMDASPAGVAKYLSE'), ('ALQFHEEHGEVCPAGWNKGDAGMNANPAGVAEYLSK', 'AAQFVREHGDRVCPANWKPGQDSIKPSLDLVGKL'), ('SLQLTAEHKVATPANWNDGEDVIISTAVSDAEAREKYPEG', 'ALQYFEAKGEVCPANWEEGKEAMQATREGVAAYLGN'), ('ALQFHEEHGEVCPAQWEKGKQGMDASPDGVARFLSE', 'ALQFTDVHGEVCPINWKKGDKTIIPSTTESKDFFQK'), ('SLQTGDKHTIATPINWVPGDDVVIPVSVSDEKAKTLFPK', 'ALKTSDEFGIATPADWRPGDDVIMSPAGSCNAAKSRVEGK'), ('AYQLVRESKGTQATPSGWKPGKKVLKPGIDLVGNVWK', 'ALQFHEEHGEVCPAQWEKGQEGMGASPEGVAKYLSE')]}\n",
      "2\n",
      "16\n"
     ]
    }
   ],
   "source": [
    "for batch in dataloader:\n",
    "    samples = {}\n",
    "    for key, value in batch['samples'].items():\n",
    "        if isinstance(value, torch.Tensor):\n",
    "            samples[key] = value.to('cuda')\n",
    "        else:\n",
    "            samples[key] = value\n",
    "\n",
    "    print(samples['esm_input_ids'].shape)\n",
    "    print(samples['progen_input_ids'].shape)\n",
    "\n",
    "    print(batch.get('raw_texts', None))\n",
    "    print(batch)\n",
    "    print(len(samples['esm_input_ids']))\n",
    "    print(len(batch.get('raw_texts', [])))\n",
    "    break\n",
    "    "
   ]
  },
  {
   "cell_type": "code",
   "execution_count": 6,
   "id": "f698bdb9",
   "metadata": {},
   "outputs": [
    {
     "ename": "NameError",
     "evalue": "name 'shift_logits' is not defined",
     "output_type": "error",
     "traceback": [
      "\u001b[31m---------------------------------------------------------------------------\u001b[39m",
      "\u001b[31mNameError\u001b[39m                                 Traceback (most recent call last)",
      "\u001b[36mCell\u001b[39m\u001b[36m \u001b[39m\u001b[32mIn[6]\u001b[39m\u001b[32m, line 1\u001b[39m\n\u001b[32m----> \u001b[39m\u001b[32m1\u001b[39m shift_logits.shape\n",
      "\u001b[31mNameError\u001b[39m: name 'shift_logits' is not defined"
     ]
    }
   ],
   "source": [
    "shift_logits.shape"
   ]
  },
  {
   "cell_type": "code",
   "execution_count": null,
   "id": "f9ba9fee",
   "metadata": {},
   "outputs": [
    {
     "ename": "RuntimeError",
     "evalue": "shape '[16, 512]' is invalid for input of size 16384",
     "output_type": "error",
     "traceback": [
      "\u001b[31m---------------------------------------------------------------------------\u001b[39m",
      "\u001b[31mRuntimeError\u001b[39m                              Traceback (most recent call last)",
      "\u001b[36mCell\u001b[39m\u001b[36m \u001b[39m\u001b[32mIn[7]\u001b[39m\u001b[32m, line 1\u001b[39m\n\u001b[32m----> \u001b[39m\u001b[32m1\u001b[39m input_ids.view(\u001b[32m1\u001b[39m*\u001b[32m16\u001b[39m, \u001b[32m512\u001b[39m)[:, \u001b[32m1\u001b[39m:].shape\n",
      "\u001b[31mRuntimeError\u001b[39m: shape '[16, 512]' is invalid for input of size 16384"
     ]
    }
   ],
   "source": [
    "input_ids.view(1*16, 512)[:, 1:].shape"
   ]
  },
  {
   "cell_type": "code",
   "execution_count": null,
   "id": "d51c9085",
   "metadata": {},
   "outputs": [
    {
     "data": {
      "text/plain": [
       "torch.Size([16, 510, 32])"
      ]
     },
     "execution_count": 9,
     "metadata": {},
     "output_type": "execute_result"
    }
   ],
   "source": [
    "shift_logits.shape"
   ]
  },
  {
   "cell_type": "code",
   "execution_count": null,
   "id": "19bcfc8e",
   "metadata": {},
   "outputs": [],
   "source": []
  }
 ],
 "metadata": {
  "kernelspec": {
   "display_name": "Python 3 (ipykernel)",
   "language": "python",
   "name": "python3"
  },
  "language_info": {
   "codemirror_mode": {
    "name": "ipython",
    "version": 3
   },
   "file_extension": ".py",
   "mimetype": "text/x-python",
   "name": "python",
   "nbconvert_exporter": "python",
   "pygments_lexer": "ipython3",
   "version": "3.11.11"
  }
 },
 "nbformat": 4,
 "nbformat_minor": 5
}
