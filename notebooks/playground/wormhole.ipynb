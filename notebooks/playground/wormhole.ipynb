{
 "cells": [
  {
   "cell_type": "code",
   "execution_count": 8,
   "id": "7c6e1a8b",
   "metadata": {},
   "outputs": [],
   "source": [
    "import torch\n",
    "# from encoder.encoders import DistributionEncoderTx\n",
    "from encoder.wormhole_encoder import WormholeEncoder\n",
    "from generator.wormhole import WormholeGenerator\n",
    "from datasets.mnist import MNISTDataset\n",
    "from torch.utils.data import DataLoader\n",
    "from sklearn.manifold import TSNE\n",
    "import matplotlib.pyplot as plt\n",
    "import seaborn as sns\n",
    "import numpy as np"
   ]
  },
  {
   "cell_type": "code",
   "execution_count": 9,
   "id": "1aa19669",
   "metadata": {},
   "outputs": [],
   "source": [
    "dataset = MNISTDataset(set_size=10, n_sets=10**4)"
   ]
  },
  {
   "cell_type": "code",
   "execution_count": 10,
   "id": "a1c7c549",
   "metadata": {},
   "outputs": [],
   "source": [
    "dataloader = DataLoader(\n",
    "    dataset,\n",
    "    batch_size=32,\n",
    "    shuffle=True,\n",
    ")"
   ]
  },
  {
   "cell_type": "code",
   "execution_count": 11,
   "id": "55d7df14",
   "metadata": {},
   "outputs": [
    {
     "name": "stdout",
     "output_type": "stream",
     "text": [
      "hi!\n",
      "data shape  784\n",
      "out_dim 784\n"
     ]
    },
    {
     "data": {
      "text/plain": [
       "WormholeGenerator(\n",
       "  (model): DistributionDecoderTx(\n",
       "    (decoder): Sequential(\n",
       "      (0): Linear(in_features=64, out_features=128, bias=True)\n",
       "      (1): SELU()\n",
       "      (2): SelfAttention(\n",
       "        (attn): MultiheadAttention(\n",
       "          (out_proj): NonDynamicallyQuantizableLinear(in_features=128, out_features=128, bias=True)\n",
       "        )\n",
       "        (norm): LayerNorm((128,), eps=1e-05, elementwise_affine=True)\n",
       "      )\n",
       "      (3): Linear(in_features=128, out_features=784, bias=True)\n",
       "    )\n",
       "    (multiplier): Linear(in_features=64, out_features=640, bias=True)\n",
       "  )\n",
       ")"
      ]
     },
     "execution_count": 11,
     "metadata": {},
     "output_type": "execute_result"
    }
   ],
   "source": [
    "in_dim = 28*28\n",
    "latent_dim = 64\n",
    "hidden_dim = 128\n",
    "set_size = dataset.set_size\n",
    "device = 'cuda'\n",
    "\n",
    "enc = WormholeEncoder(dataset.data[0][0].shape, latent_dim, hidden_dim, set_size)\n",
    "gen = WormholeGenerator(latent_dim, in_dim, hidden_dim, set_size)\n",
    "optimizer = torch.optim.Adam(list(enc.parameters()) + list(gen.parameters()), lr=1e-4)\n",
    "enc.to(device)\n",
    "gen.to(device)"
   ]
  },
  {
   "cell_type": "code",
   "execution_count": 12,
   "id": "5d132082",
   "metadata": {},
   "outputs": [
    {
     "name": "stdout",
     "output_type": "stream",
     "text": [
      "epoch 0 batch 0: loss 37.72522735595703\n",
      "epoch 0 batch 100: loss 10.195656776428223\n",
      "epoch 0 batch 200: loss 8.096602439880371\n",
      "epoch 0 batch 300: loss 8.265509605407715\n",
      "epoch 1 batch 0: loss 7.811254024505615\n",
      "epoch 1 batch 100: loss 7.867467880249023\n",
      "epoch 1 batch 200: loss 6.954484462738037\n",
      "epoch 1 batch 300: loss 6.9185309410095215\n",
      "epoch 2 batch 0: loss 7.035782337188721\n",
      "epoch 2 batch 100: loss 7.096721649169922\n",
      "epoch 2 batch 200: loss 7.091353416442871\n",
      "epoch 2 batch 300: loss 6.745758533477783\n",
      "epoch 3 batch 0: loss 6.8786301612854\n",
      "epoch 3 batch 100: loss 6.456361770629883\n",
      "epoch 3 batch 200: loss 6.674504280090332\n",
      "epoch 3 batch 300: loss 6.630125522613525\n",
      "epoch 4 batch 0: loss 6.412708759307861\n",
      "epoch 4 batch 100: loss 6.647007942199707\n",
      "epoch 4 batch 200: loss 6.655275821685791\n",
      "epoch 4 batch 300: loss 6.5052056312561035\n",
      "epoch 5 batch 0: loss 6.1971940994262695\n",
      "epoch 5 batch 100: loss 6.589249610900879\n",
      "epoch 5 batch 200: loss 6.424038887023926\n",
      "epoch 5 batch 300: loss 6.474335193634033\n",
      "epoch 6 batch 0: loss 6.466895580291748\n",
      "epoch 6 batch 100: loss 6.52802848815918\n",
      "epoch 6 batch 200: loss 6.291930198669434\n",
      "epoch 6 batch 300: loss 6.113414287567139\n",
      "epoch 7 batch 0: loss 6.483377456665039\n",
      "epoch 7 batch 100: loss 6.24714994430542\n",
      "epoch 7 batch 200: loss 6.289538383483887\n",
      "epoch 7 batch 300: loss 6.341144561767578\n",
      "epoch 8 batch 0: loss 6.500670909881592\n",
      "epoch 8 batch 100: loss 6.020066738128662\n",
      "epoch 8 batch 200: loss 6.190788269042969\n",
      "epoch 8 batch 300: loss 6.1835126876831055\n",
      "epoch 9 batch 0: loss 6.220882892608643\n",
      "epoch 9 batch 100: loss 5.996039390563965\n",
      "epoch 9 batch 200: loss 6.411821365356445\n",
      "epoch 9 batch 300: loss 6.331211566925049\n"
     ]
    }
   ],
   "source": [
    "for epoch in range(10):\n",
    "    for idx,batch in enumerate(dataloader):\n",
    "        \n",
    "        samples = batch['samples'].to(device)\n",
    "        latent = enc(samples)\n",
    "        loss = gen.loss(samples.view(-1, *samples.shape[2:]), latent)\n",
    "        optimizer.zero_grad()\n",
    "        loss.backward()\n",
    "        optimizer.step()\n",
    "        if idx % 100 == 0:\n",
    "            print(f\"epoch {epoch} batch {idx}: loss {loss.item()}\")"
   ]
  },
  {
   "cell_type": "code",
   "execution_count": 6,
   "id": "6bbd27cd",
   "metadata": {},
   "outputs": [],
   "source": [
    "enc.eval()\n",
    "gen.eval()\n",
    "\n",
    "\n",
    "Zs = []\n",
    "labels = []\n",
    "with torch.no_grad():\n",
    "    for idx,batch in enumerate(dataloader):\n",
    "        samples = batch['samples'].flatten(start_dim=2).to(device)\n",
    "        latent = enc(samples)\n",
    "        Zs += latent.cpu().tolist()\n",
    "        labels += [b.item() for b in batch['metadata'].cpu()]\n",
    "        "
   ]
  },
  {
   "cell_type": "code",
   "execution_count": 7,
   "id": "7f37acbb",
   "metadata": {},
   "outputs": [
    {
     "ename": "KeyboardInterrupt",
     "evalue": "",
     "output_type": "error",
     "traceback": [
      "\u001b[31m---------------------------------------------------------------------------\u001b[39m",
      "\u001b[31mKeyboardInterrupt\u001b[39m                         Traceback (most recent call last)",
      "\u001b[36mCell\u001b[39m\u001b[36m \u001b[39m\u001b[32mIn[7]\u001b[39m\u001b[32m, line 3\u001b[39m\n\u001b[32m      1\u001b[39m t = TSNE(n_components=\u001b[32m2\u001b[39m, random_state=\u001b[32m0\u001b[39m)\n\u001b[32m      2\u001b[39m Zs = np.array(Zs)\n\u001b[32m----> \u001b[39m\u001b[32m3\u001b[39m Zs = t.fit_transform(Zs)\n",
      "\u001b[36mFile \u001b[39m\u001b[32m~/.conda/envs/metaMI/lib/python3.11/site-packages/sklearn/utils/_set_output.py:319\u001b[39m, in \u001b[36m_wrap_method_output.<locals>.wrapped\u001b[39m\u001b[34m(self, X, *args, **kwargs)\u001b[39m\n\u001b[32m    317\u001b[39m \u001b[38;5;129m@wraps\u001b[39m(f)\n\u001b[32m    318\u001b[39m \u001b[38;5;28;01mdef\u001b[39;00m\u001b[38;5;250m \u001b[39m\u001b[34mwrapped\u001b[39m(\u001b[38;5;28mself\u001b[39m, X, *args, **kwargs):\n\u001b[32m--> \u001b[39m\u001b[32m319\u001b[39m     data_to_wrap = f(\u001b[38;5;28mself\u001b[39m, X, *args, **kwargs)\n\u001b[32m    320\u001b[39m     \u001b[38;5;28;01mif\u001b[39;00m \u001b[38;5;28misinstance\u001b[39m(data_to_wrap, \u001b[38;5;28mtuple\u001b[39m):\n\u001b[32m    321\u001b[39m         \u001b[38;5;66;03m# only wrap the first output for cross decomposition\u001b[39;00m\n\u001b[32m    322\u001b[39m         return_tuple = (\n\u001b[32m    323\u001b[39m             _wrap_data_with_container(method, data_to_wrap[\u001b[32m0\u001b[39m], X, \u001b[38;5;28mself\u001b[39m),\n\u001b[32m    324\u001b[39m             *data_to_wrap[\u001b[32m1\u001b[39m:],\n\u001b[32m    325\u001b[39m         )\n",
      "\u001b[36mFile \u001b[39m\u001b[32m~/.conda/envs/metaMI/lib/python3.11/site-packages/sklearn/base.py:1389\u001b[39m, in \u001b[36m_fit_context.<locals>.decorator.<locals>.wrapper\u001b[39m\u001b[34m(estimator, *args, **kwargs)\u001b[39m\n\u001b[32m   1382\u001b[39m     estimator._validate_params()\n\u001b[32m   1384\u001b[39m \u001b[38;5;28;01mwith\u001b[39;00m config_context(\n\u001b[32m   1385\u001b[39m     skip_parameter_validation=(\n\u001b[32m   1386\u001b[39m         prefer_skip_nested_validation \u001b[38;5;129;01mor\u001b[39;00m global_skip_validation\n\u001b[32m   1387\u001b[39m     )\n\u001b[32m   1388\u001b[39m ):\n\u001b[32m-> \u001b[39m\u001b[32m1389\u001b[39m     \u001b[38;5;28;01mreturn\u001b[39;00m fit_method(estimator, *args, **kwargs)\n",
      "\u001b[36mFile \u001b[39m\u001b[32m~/.conda/envs/metaMI/lib/python3.11/site-packages/sklearn/manifold/_t_sne.py:1178\u001b[39m, in \u001b[36mTSNE.fit_transform\u001b[39m\u001b[34m(self, X, y)\u001b[39m\n\u001b[32m   1175\u001b[39m     \u001b[38;5;28mself\u001b[39m._max_iter = \u001b[38;5;28mself\u001b[39m.max_iter\n\u001b[32m   1177\u001b[39m \u001b[38;5;28mself\u001b[39m._check_params_vs_input(X)\n\u001b[32m-> \u001b[39m\u001b[32m1178\u001b[39m embedding = \u001b[38;5;28mself\u001b[39m._fit(X)\n\u001b[32m   1179\u001b[39m \u001b[38;5;28mself\u001b[39m.embedding_ = embedding\n\u001b[32m   1180\u001b[39m \u001b[38;5;28;01mreturn\u001b[39;00m \u001b[38;5;28mself\u001b[39m.embedding_\n",
      "\u001b[36mFile \u001b[39m\u001b[32m~/.conda/envs/metaMI/lib/python3.11/site-packages/sklearn/manifold/_t_sne.py:1046\u001b[39m, in \u001b[36mTSNE._fit\u001b[39m\u001b[34m(self, X, skip_num_points)\u001b[39m\n\u001b[32m   1040\u001b[39m \u001b[38;5;66;03m# Degrees of freedom of the Student's t-distribution. The suggestion\u001b[39;00m\n\u001b[32m   1041\u001b[39m \u001b[38;5;66;03m# degrees_of_freedom = n_components - 1 comes from\u001b[39;00m\n\u001b[32m   1042\u001b[39m \u001b[38;5;66;03m# \"Learning a Parametric Embedding by Preserving Local Structure\"\u001b[39;00m\n\u001b[32m   1043\u001b[39m \u001b[38;5;66;03m# Laurens van der Maaten, 2009.\u001b[39;00m\n\u001b[32m   1044\u001b[39m degrees_of_freedom = \u001b[38;5;28mmax\u001b[39m(\u001b[38;5;28mself\u001b[39m.n_components - \u001b[32m1\u001b[39m, \u001b[32m1\u001b[39m)\n\u001b[32m-> \u001b[39m\u001b[32m1046\u001b[39m \u001b[38;5;28;01mreturn\u001b[39;00m \u001b[38;5;28mself\u001b[39m._tsne(\n\u001b[32m   1047\u001b[39m     P,\n\u001b[32m   1048\u001b[39m     degrees_of_freedom,\n\u001b[32m   1049\u001b[39m     n_samples,\n\u001b[32m   1050\u001b[39m     X_embedded=X_embedded,\n\u001b[32m   1051\u001b[39m     neighbors=neighbors_nn,\n\u001b[32m   1052\u001b[39m     skip_num_points=skip_num_points,\n\u001b[32m   1053\u001b[39m )\n",
      "\u001b[36mFile \u001b[39m\u001b[32m~/.conda/envs/metaMI/lib/python3.11/site-packages/sklearn/manifold/_t_sne.py:1114\u001b[39m, in \u001b[36mTSNE._tsne\u001b[39m\u001b[34m(self, P, degrees_of_freedom, n_samples, X_embedded, neighbors, skip_num_points)\u001b[39m\n\u001b[32m   1112\u001b[39m     opt_args[\u001b[33m\"\u001b[39m\u001b[33mmomentum\u001b[39m\u001b[33m\"\u001b[39m] = \u001b[32m0.8\u001b[39m\n\u001b[32m   1113\u001b[39m     opt_args[\u001b[33m\"\u001b[39m\u001b[33mn_iter_without_progress\u001b[39m\u001b[33m\"\u001b[39m] = \u001b[38;5;28mself\u001b[39m.n_iter_without_progress\n\u001b[32m-> \u001b[39m\u001b[32m1114\u001b[39m     params, kl_divergence, it = _gradient_descent(obj_func, params, **opt_args)\n\u001b[32m   1116\u001b[39m \u001b[38;5;66;03m# Save the final number of iterations\u001b[39;00m\n\u001b[32m   1117\u001b[39m \u001b[38;5;28mself\u001b[39m.n_iter_ = it\n",
      "\u001b[36mFile \u001b[39m\u001b[32m~/.conda/envs/metaMI/lib/python3.11/site-packages/sklearn/manifold/_t_sne.py:401\u001b[39m, in \u001b[36m_gradient_descent\u001b[39m\u001b[34m(objective, p0, it, max_iter, n_iter_check, n_iter_without_progress, momentum, learning_rate, min_gain, min_grad_norm, verbose, args, kwargs)\u001b[39m\n\u001b[32m    398\u001b[39m \u001b[38;5;66;03m# only compute the error when needed\u001b[39;00m\n\u001b[32m    399\u001b[39m kwargs[\u001b[33m\"\u001b[39m\u001b[33mcompute_error\u001b[39m\u001b[33m\"\u001b[39m] = check_convergence \u001b[38;5;129;01mor\u001b[39;00m i == max_iter - \u001b[32m1\u001b[39m\n\u001b[32m--> \u001b[39m\u001b[32m401\u001b[39m error, grad = objective(p, *args, **kwargs)\n\u001b[32m    403\u001b[39m inc = update * grad < \u001b[32m0.0\u001b[39m\n\u001b[32m    404\u001b[39m dec = np.invert(inc)\n",
      "\u001b[36mFile \u001b[39m\u001b[32m~/.conda/envs/metaMI/lib/python3.11/site-packages/sklearn/manifold/_t_sne.py:282\u001b[39m, in \u001b[36m_kl_divergence_bh\u001b[39m\u001b[34m(params, P, degrees_of_freedom, n_samples, n_components, angle, skip_num_points, verbose, compute_error, num_threads)\u001b[39m\n\u001b[32m    279\u001b[39m indptr = P.indptr.astype(np.int64, copy=\u001b[38;5;28;01mFalse\u001b[39;00m)\n\u001b[32m    281\u001b[39m grad = np.zeros(X_embedded.shape, dtype=np.float32)\n\u001b[32m--> \u001b[39m\u001b[32m282\u001b[39m error = _barnes_hut_tsne.gradient(\n\u001b[32m    283\u001b[39m     val_P,\n\u001b[32m    284\u001b[39m     X_embedded,\n\u001b[32m    285\u001b[39m     neighbors,\n\u001b[32m    286\u001b[39m     indptr,\n\u001b[32m    287\u001b[39m     grad,\n\u001b[32m    288\u001b[39m     angle,\n\u001b[32m    289\u001b[39m     n_components,\n\u001b[32m    290\u001b[39m     verbose,\n\u001b[32m    291\u001b[39m     dof=degrees_of_freedom,\n\u001b[32m    292\u001b[39m     compute_error=compute_error,\n\u001b[32m    293\u001b[39m     num_threads=num_threads,\n\u001b[32m    294\u001b[39m )\n\u001b[32m    295\u001b[39m c = \u001b[32m2.0\u001b[39m * (degrees_of_freedom + \u001b[32m1.0\u001b[39m) / degrees_of_freedom\n\u001b[32m    296\u001b[39m grad = grad.ravel()\n",
      "\u001b[36mFile \u001b[39m\u001b[32m_barnes_hut_tsne.pyx:275\u001b[39m, in \u001b[36msklearn.manifold._barnes_hut_tsne.gradient\u001b[39m\u001b[34m()\u001b[39m\n",
      "\u001b[36mFile \u001b[39m\u001b[32m_quad_tree.pyx:91\u001b[39m, in \u001b[36msklearn.neighbors._quad_tree._QuadTree.build_tree\u001b[39m\u001b[34m()\u001b[39m\n",
      "\u001b[36mFile \u001b[39m\u001b[32m~/.conda/envs/metaMI/lib/python3.11/site-packages/numpy/_core/fromnumeric.py:3164\u001b[39m, in \u001b[36mmax\u001b[39m\u001b[34m(a, axis, out, keepdims, initial, where)\u001b[39m\n\u001b[32m   3052\u001b[39m \u001b[38;5;129m@array_function_dispatch\u001b[39m(_max_dispatcher)\n\u001b[32m   3053\u001b[39m \u001b[38;5;129m@set_module\u001b[39m(\u001b[33m'\u001b[39m\u001b[33mnumpy\u001b[39m\u001b[33m'\u001b[39m)\n\u001b[32m   3054\u001b[39m \u001b[38;5;28;01mdef\u001b[39;00m\u001b[38;5;250m \u001b[39m\u001b[34mmax\u001b[39m(a, axis=\u001b[38;5;28;01mNone\u001b[39;00m, out=\u001b[38;5;28;01mNone\u001b[39;00m, keepdims=np._NoValue, initial=np._NoValue,\n\u001b[32m   3055\u001b[39m          where=np._NoValue):\n\u001b[32m   3056\u001b[39m \u001b[38;5;250m    \u001b[39m\u001b[33;03m\"\"\"\u001b[39;00m\n\u001b[32m   3057\u001b[39m \u001b[33;03m    Return the maximum of an array or maximum along an axis.\u001b[39;00m\n\u001b[32m   3058\u001b[39m \n\u001b[32m   (...)\u001b[39m\u001b[32m   3162\u001b[39m \u001b[33;03m    5\u001b[39;00m\n\u001b[32m   3163\u001b[39m \u001b[33;03m    \"\"\"\u001b[39;00m\n\u001b[32m-> \u001b[39m\u001b[32m3164\u001b[39m     \u001b[38;5;28;01mreturn\u001b[39;00m _wrapreduction(a, np.maximum, \u001b[33m'\u001b[39m\u001b[33mmax\u001b[39m\u001b[33m'\u001b[39m, axis, \u001b[38;5;28;01mNone\u001b[39;00m, out,\n\u001b[32m   3165\u001b[39m                           keepdims=keepdims, initial=initial, where=where)\n",
      "\u001b[36mFile \u001b[39m\u001b[32m~/.conda/envs/metaMI/lib/python3.11/site-packages/numpy/_core/fromnumeric.py:86\u001b[39m, in \u001b[36m_wrapreduction\u001b[39m\u001b[34m(obj, ufunc, method, axis, dtype, out, **kwargs)\u001b[39m\n\u001b[32m     83\u001b[39m         \u001b[38;5;28;01melse\u001b[39;00m:\n\u001b[32m     84\u001b[39m             \u001b[38;5;28;01mreturn\u001b[39;00m reduction(axis=axis, out=out, **passkwargs)\n\u001b[32m---> \u001b[39m\u001b[32m86\u001b[39m \u001b[38;5;28;01mreturn\u001b[39;00m ufunc.reduce(obj, axis, dtype, out, **passkwargs)\n",
      "\u001b[31mKeyboardInterrupt\u001b[39m: "
     ]
    }
   ],
   "source": [
    "t = TSNE(n_components=2, random_state=0)\n",
    "Zs = np.array(Zs)\n",
    "Zs = t.fit_transform(Zs)"
   ]
  },
  {
   "cell_type": "code",
   "execution_count": null,
   "id": "38627078",
   "metadata": {},
   "outputs": [
    {
     "data": {
      "text/plain": [
       "(1000, 2)"
      ]
     },
     "execution_count": 12,
     "metadata": {},
     "output_type": "execute_result"
    }
   ],
   "source": [
    "Zs.shape"
   ]
  },
  {
   "cell_type": "code",
   "execution_count": null,
   "id": "95091cb6",
   "metadata": {},
   "outputs": [
    {
     "data": {
      "text/plain": [
       "<Axes: >"
      ]
     },
     "execution_count": 13,
     "metadata": {},
     "output_type": "execute_result"
    },
    {
     "data": {
      "image/png": "[encoded data removed]",
      "text/plain": [
       "<Figure size 640x480 with 1 Axes>"
      ]
     },
     "metadata": {},
     "output_type": "display_data"
    }
   ],
   "source": [
    "sns.scatterplot(x=Zs[:, 0], y=Zs[:, 1], hue=labels, \n",
    "                palette=sns.color_palette(\"hsv\", 10))"
   ]
  },
  {
   "cell_type": "code",
   "execution_count": 1,
   "id": "709726e3",
   "metadata": {},
   "outputs": [
    {
     "ename": "NameError",
     "evalue": "name 'torch' is not defined",
     "output_type": "error",
     "traceback": [
      "\u001b[31m---------------------------------------------------------------------------\u001b[39m",
      "\u001b[31mNameError\u001b[39m                                 Traceback (most recent call last)",
      "\u001b[36mCell\u001b[39m\u001b[36m \u001b[39m\u001b[32mIn[1]\u001b[39m\u001b[32m, line 1\u001b[39m\n\u001b[32m----> \u001b[39m\u001b[32m1\u001b[39m \u001b[38;5;28;01mwith\u001b[39;00m torch.no_grad():\n\u001b[32m      2\u001b[39m     \u001b[38;5;28;01mfor\u001b[39;00m idx,batch \u001b[38;5;129;01min\u001b[39;00m \u001b[38;5;28menumerate\u001b[39m(dataloader):\n\u001b[32m      3\u001b[39m         samples = batch[\u001b[33m'\u001b[39m\u001b[33msamples\u001b[39m\u001b[33m'\u001b[39m].flatten(start_dim=\u001b[32m2\u001b[39m).to(device)\n",
      "\u001b[31mNameError\u001b[39m: name 'torch' is not defined"
     ]
    }
   ],
   "source": [
    "with torch.no_grad():\n",
    "    for idx,batch in enumerate(dataloader):\n",
    "        samples = batch['samples'].flatten(start_dim=2).to(device)\n",
    "        latent = enc(samples)\n",
    "        img = gen(latent).reshape(32, set_size, 28, 28)\n",
    "        metadata = [b.item() for b in batch['metadata'].cpu()]\n",
    "\n",
    "        print(metadata)\n",
    "\n",
    "        plt.imshow(samples[1][0].cpu().reshape(28, 28))\n",
    "        plt.show()\n",
    "\n",
    "        plt.imshow(img[1][0].cpu())\n",
    "        break"
   ]
  },
  {
   "cell_type": "code",
   "execution_count": 1,
   "id": "38dc0b86",
   "metadata": {},
   "outputs": [],
   "source": [
    "import sys\n",
    "import os\n",
    "import hydra\n",
    "from omegaconf import OmegaConf\n",
    "\n",
    "# add parent directory to path\n",
    "sys.path.append(os.path.abspath(os.path.join('..')))\n",
    "\n",
    "# initialize hydra"
   ]
  },
  {
   "cell_type": "code",
   "execution_count": 2,
   "id": "681355fb",
   "metadata": {},
   "outputs": [
    {
     "data": {
      "text/plain": [
       "hydra.initialize()"
      ]
     },
     "execution_count": 2,
     "metadata": {},
     "output_type": "execute_result"
    }
   ],
   "source": [
    "hydra.initialize(config_path=\"config\", version_base=\"1.1\")"
   ]
  },
  {
   "cell_type": "code",
   "execution_count": 3,
   "id": "166d931c",
   "metadata": {},
   "outputs": [],
   "source": [
    "cfg = hydra.compose(\n",
    "    config_name='config',\n",
    "    overrides=[\"experiment=mnist_multinomial\",\n",
    "                \"encoder=wormhole_encoder\",\n",
    "                \"generator=ddpm\"]\n",
    ")"
   ]
  },
  {
   "cell_type": "code",
   "execution_count": 4,
   "id": "e09bf986",
   "metadata": {},
   "outputs": [],
   "source": [
    "encoder = hydra.utils.instantiate(cfg.encoder)\n",
    "generator = hydra.utils.instantiate(cfg.generator)"
   ]
  },
  {
   "cell_type": "code",
   "execution_count": 6,
   "id": "363a7e16",
   "metadata": {},
   "outputs": [
    {
     "data": {
      "text/plain": [
       "{'_target_': 'generator.ddpm.DDPM', 'model': '${model}', 'betas': [0.0001, 0.02], 'n_T': 400, 'drop_prob': 0.1, 'noise_shape': '${dataset.data_shape}'}"
      ]
     },
     "execution_count": 6,
     "metadata": {},
     "output_type": "execute_result"
    }
   ],
   "source": [
    "cfg.generator"
   ]
  },
  {
   "cell_type": "code",
   "execution_count": null,
   "id": "36947379",
   "metadata": {},
   "outputs": [],
   "source": []
  },
  {
   "cell_type": "code",
   "execution_count": null,
   "id": "e74fe750",
   "metadata": {},
   "outputs": [],
   "source": []
  }
 ],
 "metadata": {
  "kernelspec": {
   "display_name": "Python 3 (ipykernel)",
   "language": "python",
   "name": "python3"
  },
  "language_info": {
   "codemirror_mode": {
    "name": "ipython",
    "version": 3
   },
   "file_extension": ".py",
   "mimetype": "text/x-python",
   "name": "python",
   "nbconvert_exporter": "python",
   "pygments_lexer": "ipython3",
   "version": "3.11.11"
  }
 },
 "nbformat": 4,
 "nbformat_minor": 5
}
