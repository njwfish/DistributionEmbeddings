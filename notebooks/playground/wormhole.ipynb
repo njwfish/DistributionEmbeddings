{
 "cells": [
  {
   "cell_type": "code",
   "execution_count": 2,
   "id": "7c6e1a8b",
   "metadata": {},
   "outputs": [],
   "source": [
    "import torch\n",
    "from encoder.encoders import DistributionEncoderTx\n",
    "from generator.wormhole import WormholeGenerator"
   ]
  },
  {
   "cell_type": "code",
   "execution_count": 3,
   "id": "55d7df14",
   "metadata": {},
   "outputs": [],
   "source": [
    "in_dim = 5\n",
    "latent_dim = 16\n",
    "hidden_dim = 32\n",
    "set_size = 128\n",
    "\n",
    "enc = DistributionEncoderTx(in_dim, latent_dim, hidden_dim, set_size)\n",
    "gen = WormholeGenerator(latent_dim, in_dim, hidden_dim, set_size)"
   ]
  },
  {
   "cell_type": "code",
   "execution_count": 5,
   "id": "bd56793c",
   "metadata": {},
   "outputs": [],
   "source": [
    "batch_size = 16\n",
    "\n",
    "in_tensor = torch.randn(batch_size, set_size, in_dim)\n",
    "x = in_tensor.view(-1, *in_tensor.shape[2:])"
   ]
  },
  {
   "cell_type": "code",
   "execution_count": 7,
   "id": "9ae0c2d2",
   "metadata": {},
   "outputs": [
    {
     "data": {
      "text/plain": [
       "torch.Size([16, 16])"
      ]
     },
     "execution_count": 7,
     "metadata": {},
     "output_type": "execute_result"
    }
   ],
   "source": [
    "x_enc = enc(in_tensor)\n",
    "x_enc.shape"
   ]
  },
  {
   "cell_type": "code",
   "execution_count": 10,
   "id": "d27436b5",
   "metadata": {},
   "outputs": [
    {
     "data": {
      "text/plain": [
       "torch.Size([16, 128, 5])"
      ]
     },
     "execution_count": 10,
     "metadata": {},
     "output_type": "execute_result"
    }
   ],
   "source": [
    "gen(x_enc).shape"
   ]
  },
  {
   "cell_type": "code",
   "execution_count": 8,
   "id": "676a80a4",
   "metadata": {},
   "outputs": [
    {
     "data": {
      "text/plain": [
       "tensor(619191.3125, grad_fn=<AddBackward0>)"
      ]
     },
     "execution_count": 8,
     "metadata": {},
     "output_type": "execute_result"
    }
   ],
   "source": [
    "gen.loss(x, x_enc)"
   ]
  },
  {
   "cell_type": "code",
   "execution_count": null,
   "id": "5d132082",
   "metadata": {},
   "outputs": [],
   "source": []
  }
 ],
 "metadata": {
  "kernelspec": {
   "display_name": "Python 3 (ipykernel)",
   "language": "python",
   "name": "python3"
  },
  "language_info": {
   "codemirror_mode": {
    "name": "ipython",
    "version": 3
   },
   "file_extension": ".py",
   "mimetype": "text/x-python",
   "name": "python",
   "nbconvert_exporter": "python",
   "pygments_lexer": "ipython3",
   "version": "3.11.11"
  }
 },
 "nbformat": 4,
 "nbformat_minor": 5
}
