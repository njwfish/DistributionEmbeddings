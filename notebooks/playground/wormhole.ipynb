{
 "cells": [
  {
   "cell_type": "code",
   "execution_count": 1,
   "id": "7c6e1a8b",
   "metadata": {},
   "outputs": [],
   "source": [
    "import torch\n",
    "# from encoder.encoders import DistributionEncoderTx\n",
    "from encoder.wormhole_encoder import WormholeEncoder\n",
    "from generator.wormhole import WormholeGenerator\n",
    "from datasets.mnist import MNISTDataset\n",
    "from torch.utils.data import DataLoader\n",
    "from sklearn.manifold import TSNE\n",
    "import matplotlib.pyplot as plt\n",
    "import seaborn as sns\n",
    "import numpy as np\n",
    "\n",
    "from mixer.mixer import SetMixer"
   ]
  },
  {
   "cell_type": "code",
   "execution_count": 2,
   "id": "1aa19669",
   "metadata": {},
   "outputs": [],
   "source": [
    "dataset = MNISTDataset(set_size=10, n_sets=10**4, n_classes=3)\n",
    "mixer = SetMixer(k=3)"
   ]
  },
  {
   "cell_type": "code",
   "execution_count": 3,
   "id": "a1c7c549",
   "metadata": {},
   "outputs": [],
   "source": [
    "dataloader = DataLoader(\n",
    "    dataset,\n",
    "    batch_size=8,\n",
    "    shuffle=True,\n",
    "    collate_fn=mixer.collate_fn\n",
    ")"
   ]
  },
  {
   "cell_type": "code",
   "execution_count": 4,
   "id": "55d7df14",
   "metadata": {},
   "outputs": [
    {
     "data": {
      "text/plain": [
       "WormholeGenerator(\n",
       "  (model): DistributionDecoderTx(\n",
       "    (decoder): Sequential(\n",
       "      (0): Linear(in_features=64, out_features=128, bias=True)\n",
       "      (1): SELU()\n",
       "      (2): SelfAttention(\n",
       "        (attn): MultiheadAttention(\n",
       "          (out_proj): NonDynamicallyQuantizableLinear(in_features=128, out_features=128, bias=True)\n",
       "        )\n",
       "        (norm): LayerNorm((128,), eps=1e-05, elementwise_affine=True)\n",
       "      )\n",
       "      (3): Linear(in_features=128, out_features=784, bias=True)\n",
       "    )\n",
       "    (multiplier): Linear(in_features=64, out_features=640, bias=True)\n",
       "  )\n",
       ")"
      ]
     },
     "execution_count": 4,
     "metadata": {},
     "output_type": "execute_result"
    }
   ],
   "source": [
    "in_dim = 28*28\n",
    "latent_dim = 64\n",
    "hidden_dim = 128\n",
    "set_size = dataset.set_size\n",
    "device = 'cuda'\n",
    "\n",
    "enc = WormholeEncoder(dataset.data[0][0].shape, latent_dim, hidden_dim, set_size)\n",
    "gen = WormholeGenerator(latent_dim, in_dim, hidden_dim, set_size)\n",
    "optimizer = torch.optim.Adam(list(enc.parameters()) + list(gen.parameters()), lr=1e-4)\n",
    "enc.to(device)\n",
    "gen.to(device)"
   ]
  },
  {
   "cell_type": "code",
   "execution_count": 5,
   "id": "5d132082",
   "metadata": {},
   "outputs": [
    {
     "name": "stdout",
     "output_type": "stream",
     "text": [
      "epoch 0 batch 0: loss 31.068130493164062\n",
      "epoch 0 batch 100: loss 10.65255069732666\n",
      "epoch 0 batch 200: loss 8.343475341796875\n",
      "epoch 0 batch 300: loss 8.727774620056152\n",
      "epoch 0 batch 400: loss 7.184228897094727\n",
      "epoch 0 batch 500: loss 8.754758834838867\n",
      "epoch 0 batch 600: loss 6.858822345733643\n",
      "epoch 0 batch 700: loss 8.007253646850586\n",
      "epoch 0 batch 800: loss 6.781978607177734\n",
      "epoch 0 batch 900: loss 6.7803239822387695\n",
      "epoch 0 batch 1000: loss 6.128269195556641\n",
      "epoch 0 batch 1100: loss 7.840409278869629\n",
      "epoch 0 batch 1200: loss 7.712311744689941\n",
      "epoch 1 batch 0: loss 7.060292720794678\n",
      "epoch 1 batch 100: loss 6.127636432647705\n",
      "epoch 1 batch 200: loss 6.922793865203857\n",
      "epoch 1 batch 300: loss 7.146474838256836\n",
      "epoch 1 batch 400: loss 8.169416427612305\n",
      "epoch 1 batch 500: loss 6.421046257019043\n",
      "epoch 1 batch 600: loss 6.399644374847412\n",
      "epoch 1 batch 700: loss 6.584914207458496\n",
      "epoch 1 batch 800: loss 6.912233352661133\n",
      "epoch 1 batch 900: loss 5.93086051940918\n",
      "epoch 1 batch 1000: loss 6.860093116760254\n",
      "epoch 1 batch 1100: loss 7.283319473266602\n",
      "epoch 1 batch 1200: loss 7.1454758644104\n",
      "epoch 2 batch 0: loss 5.769262313842773\n",
      "epoch 2 batch 100: loss 7.167402267456055\n",
      "epoch 2 batch 200: loss 5.190737724304199\n",
      "epoch 2 batch 300: loss 5.316320419311523\n",
      "epoch 2 batch 400: loss 5.96548318862915\n",
      "epoch 2 batch 500: loss 6.682651519775391\n",
      "epoch 2 batch 600: loss 5.519678115844727\n",
      "epoch 2 batch 700: loss 6.949236869812012\n",
      "epoch 2 batch 800: loss 6.015722274780273\n",
      "epoch 2 batch 900: loss 7.472702503204346\n",
      "epoch 2 batch 1000: loss 5.517757415771484\n",
      "epoch 2 batch 1100: loss 4.890482425689697\n",
      "epoch 2 batch 1200: loss 5.969364166259766\n",
      "epoch 3 batch 0: loss 4.997072219848633\n",
      "epoch 3 batch 100: loss 6.21164608001709\n",
      "epoch 3 batch 200: loss 6.852598190307617\n",
      "epoch 3 batch 300: loss 6.518590927124023\n",
      "epoch 3 batch 400: loss 6.3547587394714355\n",
      "epoch 3 batch 500: loss 6.609387397766113\n",
      "epoch 3 batch 600: loss 5.866545677185059\n",
      "epoch 3 batch 700: loss 6.549186706542969\n",
      "epoch 3 batch 800: loss 7.152429103851318\n",
      "epoch 3 batch 900: loss 5.527949810028076\n",
      "epoch 3 batch 1000: loss 5.177163124084473\n",
      "epoch 3 batch 1100: loss 4.204681396484375\n",
      "epoch 3 batch 1200: loss 6.404145240783691\n",
      "epoch 4 batch 0: loss 6.803369045257568\n",
      "epoch 4 batch 100: loss 5.938104629516602\n",
      "epoch 4 batch 200: loss 5.40716552734375\n",
      "epoch 4 batch 300: loss 6.8872880935668945\n",
      "epoch 4 batch 400: loss 7.012254238128662\n",
      "epoch 4 batch 500: loss 7.118295192718506\n",
      "epoch 4 batch 600: loss 6.7016072273254395\n",
      "epoch 4 batch 700: loss 7.312730312347412\n",
      "epoch 4 batch 800: loss 5.527185916900635\n",
      "epoch 4 batch 900: loss 5.9346232414245605\n",
      "epoch 4 batch 1000: loss 5.678491592407227\n",
      "epoch 4 batch 1100: loss 5.239368915557861\n",
      "epoch 4 batch 1200: loss 6.5068559646606445\n",
      "epoch 5 batch 0: loss 4.979400157928467\n",
      "epoch 5 batch 100: loss 5.428664207458496\n",
      "epoch 5 batch 200: loss 5.803303241729736\n",
      "epoch 5 batch 300: loss 5.172438621520996\n",
      "epoch 5 batch 400: loss 6.55793571472168\n",
      "epoch 5 batch 500: loss 6.210249423980713\n",
      "epoch 5 batch 600: loss 5.07206916809082\n",
      "epoch 5 batch 700: loss 5.920932292938232\n",
      "epoch 5 batch 800: loss 4.130129814147949\n",
      "epoch 5 batch 900: loss 5.269609451293945\n",
      "epoch 5 batch 1000: loss 5.5726189613342285\n",
      "epoch 5 batch 1100: loss 5.788046360015869\n",
      "epoch 5 batch 1200: loss 6.702620983123779\n",
      "epoch 6 batch 0: loss 5.900966167449951\n",
      "epoch 6 batch 100: loss 6.368068695068359\n",
      "epoch 6 batch 200: loss 6.634016036987305\n",
      "epoch 6 batch 300: loss 5.714966297149658\n",
      "epoch 6 batch 400: loss 6.120631217956543\n",
      "epoch 6 batch 500: loss 6.149613380432129\n",
      "epoch 6 batch 600: loss 6.410876274108887\n",
      "epoch 6 batch 700: loss 6.146312713623047\n",
      "epoch 6 batch 800: loss 5.873337268829346\n",
      "epoch 6 batch 900: loss 5.666722774505615\n",
      "epoch 6 batch 1000: loss 6.390926361083984\n",
      "epoch 6 batch 1100: loss 4.895195484161377\n",
      "epoch 6 batch 1200: loss 5.920639991760254\n",
      "epoch 7 batch 0: loss 6.701630592346191\n",
      "epoch 7 batch 100: loss 5.690274715423584\n",
      "epoch 7 batch 200: loss 5.351490497589111\n",
      "epoch 7 batch 300: loss 6.015716075897217\n",
      "epoch 7 batch 400: loss 7.603581428527832\n",
      "epoch 7 batch 500: loss 5.852072238922119\n",
      "epoch 7 batch 600: loss 6.152884483337402\n",
      "epoch 7 batch 700: loss 6.06667423248291\n",
      "epoch 7 batch 800: loss 6.35522985458374\n",
      "epoch 7 batch 900: loss 4.418926239013672\n",
      "epoch 7 batch 1000: loss 6.70918607711792\n",
      "epoch 7 batch 1100: loss 5.742444038391113\n"
     ]
    },
    {
     "ename": "KeyboardInterrupt",
     "evalue": "",
     "output_type": "error",
     "traceback": [
      "\u001b[31m---------------------------------------------------------------------------\u001b[39m",
      "\u001b[31mKeyboardInterrupt\u001b[39m                         Traceback (most recent call last)",
      "\u001b[36mCell\u001b[39m\u001b[36m \u001b[39m\u001b[32mIn[5]\u001b[39m\u001b[32m, line 6\u001b[39m\n\u001b[32m      4\u001b[39m samples = batch[\u001b[33m'\u001b[39m\u001b[33msamples\u001b[39m\u001b[33m'\u001b[39m].to(device)\n\u001b[32m      5\u001b[39m latent = enc(samples)\n\u001b[32m----> \u001b[39m\u001b[32m6\u001b[39m loss = \u001b[43mgen\u001b[49m\u001b[43m.\u001b[49m\u001b[43mloss\u001b[49m\u001b[43m(\u001b[49m\u001b[43msamples\u001b[49m\u001b[43m.\u001b[49m\u001b[43mview\u001b[49m\u001b[43m(\u001b[49m\u001b[43m-\u001b[49m\u001b[32;43m1\u001b[39;49m\u001b[43m,\u001b[49m\u001b[43m \u001b[49m\u001b[43m*\u001b[49m\u001b[43msamples\u001b[49m\u001b[43m.\u001b[49m\u001b[43mshape\u001b[49m\u001b[43m[\u001b[49m\u001b[32;43m2\u001b[39;49m\u001b[43m:\u001b[49m\u001b[43m]\u001b[49m\u001b[43m)\u001b[49m\u001b[43m,\u001b[49m\u001b[43m \u001b[49m\u001b[43mlatent\u001b[49m\u001b[43m)\u001b[49m\n\u001b[32m      7\u001b[39m optimizer.zero_grad()\n\u001b[32m      8\u001b[39m loss.backward()\n",
      "\u001b[36mFile \u001b[39m\u001b[32m/orcd/data/omarabu/001/gokul/DistributionEmbeddings/generator/wormhole.py:46\u001b[39m, in \u001b[36mWormholeGenerator.loss\u001b[39m\u001b[34m(self, x, latent)\u001b[39m\n\u001b[32m     37\u001b[39m \u001b[38;5;66;03m# x_min = x.amin(dim=(0,1), keepdim=True)\u001b[39;00m\n\u001b[32m     38\u001b[39m \u001b[38;5;66;03m# x_max = x.amax(dim=(0,1), keepdim=True)\u001b[39;00m\n\u001b[32m     39\u001b[39m \u001b[38;5;66;03m# x_scaled = 2 * (x - x_min) / (x_max - x_min) - 1\u001b[39;00m\n\u001b[32m   (...)\u001b[39m\u001b[32m     42\u001b[39m \u001b[38;5;66;03m# rec_max = rec.amax(dim=(0,1), keepdim=True)\u001b[39;00m\n\u001b[32m     43\u001b[39m \u001b[38;5;66;03m# rec_scaled = 2 * (rec - rec_min) / (rec_max - rec_min) - 1\u001b[39;00m\n\u001b[32m     45\u001b[39m rec_loss = sink_D_batched(rec, x)\n\u001b[32m---> \u001b[39m\u001b[32m46\u001b[39m input_w2 = \u001b[43mpairwise_sinkhorn\u001b[49m\u001b[43m(\u001b[49m\u001b[43mx\u001b[49m\u001b[43m)\u001b[49m\n\u001b[32m     47\u001b[39m latent_d = torch.cdist(latent, latent)\n\u001b[32m     49\u001b[39m \u001b[38;5;28;01mreturn\u001b[39;00m rec_loss.mean() + ((input_w2 - latent_d)**\u001b[32m2\u001b[39m).mean()/\u001b[32m2\u001b[39m\n",
      "\u001b[36mFile \u001b[39m\u001b[32m/orcd/data/omarabu/001/gokul/DistributionEmbeddings/generator/losses.py:199\u001b[39m, in \u001b[36mpairwise_sinkhorn\u001b[39m\u001b[34m(X, reg, max_iter, eps, p, device)\u001b[39m\n\u001b[32m    196\u001b[39m X2_flat = X2.reshape(-\u001b[32m1\u001b[39m, *X.shape[\u001b[32m1\u001b[39m:])\n\u001b[32m    198\u001b[39m \u001b[38;5;66;03m# compute all pairs\u001b[39;00m\n\u001b[32m--> \u001b[39m\u001b[32m199\u001b[39m all_pairs = \u001b[43msink_D_batched\u001b[49m\u001b[43m(\u001b[49m\u001b[43mX1_flat\u001b[49m\u001b[43m,\u001b[49m\u001b[43m \u001b[49m\u001b[43mX2_flat\u001b[49m\u001b[43m,\u001b[49m\u001b[43m \u001b[49m\u001b[43mreg\u001b[49m\u001b[43m=\u001b[49m\u001b[43mreg\u001b[49m\u001b[43m,\u001b[49m\u001b[43m \u001b[49m\u001b[43mmaxiter\u001b[49m\u001b[43m=\u001b[49m\u001b[43mmax_iter\u001b[49m\u001b[43m,\u001b[49m\u001b[43m \u001b[49m\u001b[43meps\u001b[49m\u001b[43m=\u001b[49m\u001b[43meps\u001b[49m\u001b[43m,\u001b[49m\u001b[43m \u001b[49m\u001b[43mp\u001b[49m\u001b[43m=\u001b[49m\u001b[43mp\u001b[49m\u001b[43m,\u001b[49m\u001b[43m \u001b[49m\u001b[43mdevice\u001b[49m\u001b[43m=\u001b[49m\u001b[43mdevice\u001b[49m\u001b[43m)\u001b[49m\n\u001b[32m    201\u001b[39m \u001b[38;5;66;03m# reshape back\u001b[39;00m\n\u001b[32m    202\u001b[39m loss_matrix = all_pairs.reshape(b, b)\n",
      "\u001b[36mFile \u001b[39m\u001b[32m/orcd/data/omarabu/001/gokul/DistributionEmbeddings/generator/losses.py:178\u001b[39m, in \u001b[36msink_D_batched\u001b[39m\u001b[34m(X, Y, reg, maxiter, tau, eps, warm, pstep, device, p)\u001b[39m\n\u001b[32m    175\u001b[39m XY = torch.cdist(X, Y, p=p)  \n\u001b[32m    177\u001b[39m sink_XX = sink_stab_batched(XX, reg, maxiter, tau, eps, warm, pstep, device)\n\u001b[32m--> \u001b[39m\u001b[32m178\u001b[39m sink_YY = \u001b[43msink_stab_batched\u001b[49m\u001b[43m(\u001b[49m\u001b[43mYY\u001b[49m\u001b[43m,\u001b[49m\u001b[43m \u001b[49m\u001b[43mreg\u001b[49m\u001b[43m,\u001b[49m\u001b[43m \u001b[49m\u001b[43mmaxiter\u001b[49m\u001b[43m,\u001b[49m\u001b[43m \u001b[49m\u001b[43mtau\u001b[49m\u001b[43m,\u001b[49m\u001b[43m \u001b[49m\u001b[43meps\u001b[49m\u001b[43m,\u001b[49m\u001b[43m \u001b[49m\u001b[43mwarm\u001b[49m\u001b[43m,\u001b[49m\u001b[43m \u001b[49m\u001b[43mpstep\u001b[49m\u001b[43m,\u001b[49m\u001b[43m \u001b[49m\u001b[43mdevice\u001b[49m\u001b[43m)\u001b[49m\n\u001b[32m    179\u001b[39m sink_XY = sink_stab_batched(XY, reg, maxiter, tau, eps, warm, pstep, device)\n\u001b[32m    181\u001b[39m \u001b[38;5;28;01mreturn\u001b[39;00m sink_XY - \u001b[32m0.5\u001b[39m * (sink_XX + sink_YY)\n",
      "\u001b[36mFile \u001b[39m\u001b[32m/orcd/data/omarabu/001/gokul/DistributionEmbeddings/generator/losses.py:122\u001b[39m, in \u001b[36msink_stab_batched\u001b[39m\u001b[34m(m, reg, maxiter, tau, eps, warm, pstep, device)\u001b[39m\n\u001b[32m    119\u001b[39m \u001b[38;5;28;01melse\u001b[39;00m:\n\u001b[32m    120\u001b[39m     alpha, beta = warm\n\u001b[32m--> \u001b[39m\u001b[32m122\u001b[39m u = \u001b[43mVariable\u001b[49m\u001b[43m(\u001b[49m\u001b[43mtorch\u001b[49m\u001b[43m.\u001b[49m\u001b[43mones\u001b[49m\u001b[43m(\u001b[49m\u001b[43mb\u001b[49m\u001b[43m,\u001b[49m\u001b[43m \u001b[49m\u001b[43mna\u001b[49m\u001b[43m,\u001b[49m\u001b[43m \u001b[49m\u001b[43mdevice\u001b[49m\u001b[43m=\u001b[49m\u001b[43mdevice\u001b[49m\u001b[43m)\u001b[49m\u001b[43m \u001b[49m\u001b[43m/\u001b[49m\u001b[43m \u001b[49m\u001b[43mna\u001b[49m\u001b[43m)\u001b[49m\n\u001b[32m    123\u001b[39m v = Variable(torch.ones(b, nb, device=device) / nb)\n\u001b[32m    125\u001b[39m \u001b[38;5;28;01mdef\u001b[39;00m\u001b[38;5;250m \u001b[39m\u001b[34mget_k\u001b[39m(alpha, beta, M):\n",
      "\u001b[31mKeyboardInterrupt\u001b[39m: "
     ]
    }
   ],
   "source": [
    "for epoch in range(10):\n",
    "    for idx,batch in enumerate(dataloader):\n",
    "        \n",
    "        samples = batch['samples'].to(device)\n",
    "        latent = enc(samples)\n",
    "        loss = gen.loss(samples.view(-1, *samples.shape[2:]), latent)\n",
    "        optimizer.zero_grad()\n",
    "        loss.backward()\n",
    "        optimizer.step()\n",
    "        if idx % 100 == 0:\n",
    "            print(f\"epoch {epoch} batch {idx}: loss {loss.item()}\")"
   ]
  },
  {
   "cell_type": "code",
   "execution_count": 7,
   "id": "6bbd27cd",
   "metadata": {},
   "outputs": [],
   "source": [
    "enc.eval()\n",
    "gen.eval()\n",
    "\n",
    "dataloader = DataLoader(\n",
    "    dataset,\n",
    "    batch_size=32,\n",
    "    shuffle=True,\n",
    ") # default collate now!!\n",
    "\n",
    "Zs = []\n",
    "labels = []\n",
    "with torch.no_grad():\n",
    "    for idx,batch in enumerate(dataloader):\n",
    "        samples = batch['samples'].flatten(start_dim=2).to(device)\n",
    "        latent = enc(samples)\n",
    "        Zs += latent.cpu().tolist()\n",
    "        labels += [b.item() for b in batch['metadata'].cpu()]\n",
    "        "
   ]
  },
  {
   "cell_type": "code",
   "execution_count": 8,
   "id": "7f37acbb",
   "metadata": {},
   "outputs": [],
   "source": [
    "# t = TSNE(n_components=2, random_state=0)\n",
    "# Zs = np.array(Zs)\n",
    "# Zs = t.fit_transform(Zs)"
   ]
  },
  {
   "cell_type": "code",
   "execution_count": 9,
   "id": "95091cb6",
   "metadata": {},
   "outputs": [],
   "source": [
    "# sns.scatterplot(x=Zs[:, 0], y=Zs[:, 1], hue=labels, \n",
    "#                 palette=sns.color_palette(\"hsv\", 10))"
   ]
  },
  {
   "cell_type": "code",
   "execution_count": 10,
   "id": "709726e3",
   "metadata": {},
   "outputs": [
    {
     "name": "stdout",
     "output_type": "stream",
     "text": [
      "[0, 2, 2, 1, 0, 2, 1, 2, 0, 1, 2, 1, 2, 2, 2, 1, 1, 1, 1, 2, 1, 2, 2, 0, 0, 1, 2, 0, 2, 0, 2, 0]\n"
     ]
    },
    {
     "data": {
      "image/png": "[encoded data removed]",
      "text/plain": [
       "<Figure size 640x480 with 1 Axes>"
      ]
     },
     "metadata": {},
     "output_type": "display_data"
    },
    {
     "data": {
      "image/png": "[encoded data removed]",
      "text/plain": [
       "<Figure size 640x480 with 1 Axes>"
      ]
     },
     "metadata": {},
     "output_type": "display_data"
    }
   ],
   "source": [
    "with torch.no_grad():\n",
    "    for idx,batch in enumerate(dataloader):\n",
    "        samples = batch['samples'].to(device)\n",
    "        latent = enc(samples)\n",
    "        img = gen(latent).reshape(32, set_size, 28, 28)\n",
    "        metadata = [b.item() for b in batch['metadata'].cpu()]\n",
    "\n",
    "        print(metadata)\n",
    "\n",
    "        plt.imshow(samples[1][0].cpu().reshape(28, 28))\n",
    "        plt.show()\n",
    "\n",
    "        plt.imshow(img[1][0].cpu())\n",
    "        break"
   ]
  },
  {
   "cell_type": "code",
   "execution_count": null,
   "id": "38dc0b86",
   "metadata": {},
   "outputs": [],
   "source": [
    "import sys\n",
    "import os\n",
    "import hydra\n",
    "from omegaconf import OmegaConf\n",
    "\n",
    "# add parent directory to path\n",
    "sys.path.append(os.path.abspath(os.path.join('..')))\n",
    "\n",
    "# initialize hydra"
   ]
  },
  {
   "cell_type": "code",
   "execution_count": null,
   "id": "681355fb",
   "metadata": {},
   "outputs": [
    {
     "data": {
      "text/plain": [
       "hydra.initialize()"
      ]
     },
     "execution_count": 2,
     "metadata": {},
     "output_type": "execute_result"
    }
   ],
   "source": [
    "hydra.initialize(config_path=\"config\", version_base=\"1.1\")"
   ]
  },
  {
   "cell_type": "code",
   "execution_count": null,
   "id": "166d931c",
   "metadata": {},
   "outputs": [],
   "source": [
    "cfg = hydra.compose(\n",
    "    config_name='config',\n",
    "    overrides=[\"experiment=mnist_multinomial\",\n",
    "                \"encoder=wormhole_encoder\",\n",
    "                \"generator=ddpm\"]\n",
    ")"
   ]
  },
  {
   "cell_type": "code",
   "execution_count": null,
   "id": "e09bf986",
   "metadata": {},
   "outputs": [],
   "source": [
    "encoder = hydra.utils.instantiate(cfg.encoder)\n",
    "generator = hydra.utils.instantiate(cfg.generator)"
   ]
  },
  {
   "cell_type": "code",
   "execution_count": null,
   "id": "363a7e16",
   "metadata": {},
   "outputs": [
    {
     "data": {
      "text/plain": [
       "{'_target_': 'generator.ddpm.DDPM', 'model': '${model}', 'betas': [0.0001, 0.02], 'n_T': 400, 'drop_prob': 0.1, 'noise_shape': '${dataset.data_shape}'}"
      ]
     },
     "execution_count": 6,
     "metadata": {},
     "output_type": "execute_result"
    }
   ],
   "source": [
    "cfg.generator"
   ]
  },
  {
   "cell_type": "code",
   "execution_count": null,
   "id": "36947379",
   "metadata": {},
   "outputs": [],
   "source": []
  },
  {
   "cell_type": "code",
   "execution_count": null,
   "id": "e74fe750",
   "metadata": {},
   "outputs": [],
   "source": []
  }
 ],
 "metadata": {
  "kernelspec": {
   "display_name": "Python 3 (ipykernel)",
   "language": "python",
   "name": "python3"
  },
  "language_info": {
   "codemirror_mode": {
    "name": "ipython",
    "version": 3
   },
   "file_extension": ".py",
   "mimetype": "text/x-python",
   "name": "python",
   "nbconvert_exporter": "python",
   "pygments_lexer": "ipython3",
   "version": "3.11.12"
  }
 },
 "nbformat": 4,
 "nbformat_minor": 5
}
