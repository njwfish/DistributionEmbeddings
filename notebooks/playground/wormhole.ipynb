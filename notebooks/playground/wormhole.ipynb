{
 "cells": [
  {
   "cell_type": "code",
   "execution_count": 1,
   "id": "7c6e1a8b",
   "metadata": {},
   "outputs": [
    {
     "name": "stdout",
     "output_type": "stream",
     "text": [
      "[KeOps] Warning : CUDA libraries not found or could not be loaded; Switching to CPU only.\n"
     ]
    }
   ],
   "source": [
    "import torch\n",
    "# from encoder.encoders import DistributionEncoderTx\n",
    "from encoder.wormhole_encoder import WormholeEncoder\n",
    "from generator.wormhole import WormholeGenerator\n",
    "from datasets.mnist import MNISTDataset\n",
    "from torch.utils.data import DataLoader\n",
    "from sklearn.manifold import TSNE\n",
    "import matplotlib.pyplot as plt\n",
    "import seaborn as sns\n",
    "import numpy as np\n",
    "\n",
    "from mixer.mixer import SetMixer\n",
    "\n",
    "from geomloss import SamplesLoss"
   ]
  },
  {
   "cell_type": "code",
   "execution_count": 15,
   "id": "1aa19669",
   "metadata": {},
   "outputs": [],
   "source": [
    "dataset = MNISTDataset(set_size=100, n_sets=10**3, n_classes=3)\n",
    "mixer = SetMixer(k=3)"
   ]
  },
  {
   "cell_type": "code",
   "execution_count": 16,
   "id": "a1c7c549",
   "metadata": {},
   "outputs": [],
   "source": [
    "dataloader = DataLoader(\n",
    "    dataset,\n",
    "    batch_size=8,\n",
    "    shuffle=True,\n",
    "    collate_fn=mixer.collate_fn\n",
    ")"
   ]
  },
  {
   "cell_type": "code",
   "execution_count": 17,
   "id": "55d7df14",
   "metadata": {},
   "outputs": [
    {
     "data": {
      "text/plain": [
       "WormholeGenerator(\n",
       "  (model): DistributionDecoderTx(\n",
       "    (decoder): Sequential(\n",
       "      (0): Linear(in_features=64, out_features=128, bias=True)\n",
       "      (1): SELU()\n",
       "      (2): SelfAttention(\n",
       "        (attn): MultiheadAttention(\n",
       "          (out_proj): NonDynamicallyQuantizableLinear(in_features=128, out_features=128, bias=True)\n",
       "        )\n",
       "        (norm): LayerNorm((128,), eps=1e-05, elementwise_affine=True)\n",
       "      )\n",
       "      (3): Linear(in_features=128, out_features=784, bias=True)\n",
       "    )\n",
       "    (multiplier): Linear(in_features=64, out_features=6400, bias=True)\n",
       "  )\n",
       "  (sinkhorn): SamplesLoss()\n",
       ")"
      ]
     },
     "execution_count": 17,
     "metadata": {},
     "output_type": "execute_result"
    }
   ],
   "source": [
    "in_dim = 28*28\n",
    "latent_dim = 64\n",
    "hidden_dim = 128\n",
    "set_size = dataset.set_size\n",
    "device = 'cuda'\n",
    "\n",
    "enc = WormholeEncoder(dataset.data[0][0].shape, latent_dim, hidden_dim, set_size)\n",
    "gen = WormholeGenerator(latent_dim, in_dim, hidden_dim, set_size)\n",
    "optimizer = torch.optim.Adam(list(enc.parameters()) + list(gen.parameters()), lr=1e-4)\n",
    "enc.to(device)\n",
    "gen.to(device)"
   ]
  },
  {
   "cell_type": "code",
   "execution_count": 18,
   "id": "5d132082",
   "metadata": {},
   "outputs": [
    {
     "name": "stdout",
     "output_type": "stream",
     "text": [
      "epoch 0 batch 0: loss 566.4932250976562\n",
      "epoch 0 batch 100: loss 271.1984558105469\n",
      "epoch 1 batch 0: loss 261.41619873046875\n",
      "epoch 1 batch 100: loss 70.91371154785156\n",
      "epoch 2 batch 0: loss 77.25043487548828\n",
      "epoch 2 batch 100: loss 68.92066955566406\n",
      "epoch 3 batch 0: loss 60.862884521484375\n",
      "epoch 3 batch 100: loss 38.98191833496094\n",
      "epoch 4 batch 0: loss 39.306739807128906\n",
      "epoch 4 batch 100: loss 87.89033508300781\n",
      "epoch 5 batch 0: loss 42.05760192871094\n",
      "epoch 5 batch 100: loss 119.08309936523438\n",
      "epoch 6 batch 0: loss 105.60018920898438\n",
      "epoch 6 batch 100: loss 32.51258087158203\n",
      "epoch 7 batch 0: loss 57.598365783691406\n",
      "epoch 7 batch 100: loss 44.79024124145508\n",
      "epoch 8 batch 0: loss 60.9937858581543\n",
      "epoch 8 batch 100: loss 64.81698608398438\n",
      "epoch 9 batch 0: loss 32.75112533569336\n",
      "epoch 9 batch 100: loss 29.05989646911621\n"
     ]
    }
   ],
   "source": [
    "for epoch in range(10):\n",
    "    for idx,batch in enumerate(dataloader):\n",
    "        \n",
    "        samples = batch['samples'].to(device)\n",
    "        latent = enc(samples)\n",
    "        loss = gen.loss(samples.view(-1, *samples.shape[2:]), latent)\n",
    "        optimizer.zero_grad()\n",
    "        loss.backward()\n",
    "        optimizer.step()\n",
    "        if idx % 100 == 0:\n",
    "            print(f\"epoch {epoch} batch {idx}: loss {loss.item()}\")"
   ]
  },
  {
   "cell_type": "code",
   "execution_count": 13,
   "id": "6bbd27cd",
   "metadata": {},
   "outputs": [],
   "source": [
    "enc.eval()\n",
    "gen.eval()\n",
    "\n",
    "dataloader = DataLoader(\n",
    "    dataset,\n",
    "    batch_size=32,\n",
    "    shuffle=True,\n",
    ") # default collate now!!\n",
    "\n",
    "Zs = []\n",
    "labels = []\n",
    "with torch.no_grad():\n",
    "    for idx,batch in enumerate(dataloader):\n",
    "        samples = batch['samples'].flatten(start_dim=2).to(device)\n",
    "        latent = enc(samples)\n",
    "        Zs += latent.cpu().tolist()\n",
    "        labels += [b.item() for b in batch['metadata'].cpu()]\n",
    "        "
   ]
  },
  {
   "cell_type": "code",
   "execution_count": 8,
   "id": "7f37acbb",
   "metadata": {},
   "outputs": [],
   "source": [
    "# t = TSNE(n_components=2, random_state=0)\n",
    "# Zs = np.array(Zs)\n",
    "# Zs = t.fit_transform(Zs)"
   ]
  },
  {
   "cell_type": "code",
   "execution_count": 9,
   "id": "95091cb6",
   "metadata": {},
   "outputs": [],
   "source": [
    "# sns.scatterplot(x=Zs[:, 0], y=Zs[:, 1], hue=labels, \n",
    "#                 palette=sns.color_palette(\"hsv\", 10))"
   ]
  },
  {
   "cell_type": "code",
   "execution_count": 20,
   "id": "709726e3",
   "metadata": {},
   "outputs": [
    {
     "name": "stdout",
     "output_type": "stream",
     "text": [
      "[1, 1, 2, 2, 1, 0, 2, 0]\n"
     ]
    },
    {
     "data": {
      "image/png": "[encoded data removed]",
      "text/plain": [
       "<Figure size 640x480 with 1 Axes>"
      ]
     },
     "metadata": {},
     "output_type": "display_data"
    },
    {
     "data": {
      "image/png": "[encoded data removed]",
      "text/plain": [
       "<Figure size 640x480 with 1 Axes>"
      ]
     },
     "metadata": {},
     "output_type": "display_data"
    }
   ],
   "source": [
    "with torch.no_grad():\n",
    "    for idx,batch in enumerate(dataloader):\n",
    "        samples = batch['samples'].to(device)\n",
    "        latent = enc(samples)\n",
    "        img = gen(latent).reshape(8, set_size, 28, 28)\n",
    "        metadata = [b.item() for b in batch['metadata'].cpu()]\n",
    "\n",
    "        print(metadata)\n",
    "\n",
    "        plt.imshow(samples[1][0].cpu().reshape(28, 28))\n",
    "        plt.show()\n",
    "\n",
    "        plt.imshow(img[1][0].cpu())\n",
    "        break"
   ]
  },
  {
   "cell_type": "code",
   "execution_count": null,
   "id": "38dc0b86",
   "metadata": {},
   "outputs": [],
   "source": [
    "import sys\n",
    "import os\n",
    "import hydra\n",
    "from omegaconf import OmegaConf\n",
    "\n",
    "# add parent directory to path\n",
    "sys.path.append(os.path.abspath(os.path.join('..')))\n",
    "\n",
    "# initialize hydra"
   ]
  },
  {
   "cell_type": "code",
   "execution_count": null,
   "id": "681355fb",
   "metadata": {},
   "outputs": [
    {
     "data": {
      "text/plain": [
       "hydra.initialize()"
      ]
     },
     "execution_count": 2,
     "metadata": {},
     "output_type": "execute_result"
    }
   ],
   "source": [
    "hydra.initialize(config_path=\"config\", version_base=\"1.1\")"
   ]
  },
  {
   "cell_type": "code",
   "execution_count": null,
   "id": "166d931c",
   "metadata": {},
   "outputs": [],
   "source": [
    "cfg = hydra.compose(\n",
    "    config_name='config',\n",
    "    overrides=[\"experiment=mnist_multinomial\",\n",
    "                \"encoder=wormhole_encoder\",\n",
    "                \"generator=ddpm\"]\n",
    ")"
   ]
  },
  {
   "cell_type": "code",
   "execution_count": null,
   "id": "e09bf986",
   "metadata": {},
   "outputs": [],
   "source": [
    "encoder = hydra.utils.instantiate(cfg.encoder)\n",
    "generator = hydra.utils.instantiate(cfg.generator)"
   ]
  },
  {
   "cell_type": "code",
   "execution_count": null,
   "id": "363a7e16",
   "metadata": {},
   "outputs": [
    {
     "data": {
      "text/plain": [
       "{'_target_': 'generator.ddpm.DDPM', 'model': '${model}', 'betas': [0.0001, 0.02], 'n_T': 400, 'drop_prob': 0.1, 'noise_shape': '${dataset.data_shape}'}"
      ]
     },
     "execution_count": 6,
     "metadata": {},
     "output_type": "execute_result"
    }
   ],
   "source": [
    "cfg.generator"
   ]
  },
  {
   "cell_type": "code",
   "execution_count": null,
   "id": "36947379",
   "metadata": {},
   "outputs": [],
   "source": []
  },
  {
   "cell_type": "code",
   "execution_count": null,
   "id": "e74fe750",
   "metadata": {},
   "outputs": [],
   "source": []
  }
 ],
 "metadata": {
  "kernelspec": {
   "display_name": "Python 3 (ipykernel)",
   "language": "python",
   "name": "python3"
  }
 },
 "nbformat": 4,
 "nbformat_minor": 5
}
