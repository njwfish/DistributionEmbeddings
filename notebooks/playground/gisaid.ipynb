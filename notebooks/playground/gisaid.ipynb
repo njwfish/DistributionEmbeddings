{
 "cells": [
  {
   "cell_type": "code",
   "execution_count": 3,
   "id": "2b413adb",
   "metadata": {},
   "outputs": [],
   "source": [
    "from Bio import SeqIO\n",
    "from tqdm.notebook import tqdm\n",
    "from collections import defaultdict\n",
    "\n",
    "from utils.experiment_utils import get_all_experiments_info, load_checkpoint#load_best_model\n",
    "import torch\n",
    "import os\n",
    "import hydra\n",
    "from omegaconf import DictConfig, OmegaConf\n",
    "from torch.utils.data import DataLoader\n",
    "\n",
    "import numpy as np\n",
    "import seaborn as sns\n",
    "import pandas as pd\n",
    "import matplotlib.pyplot as plt\n",
    "\n",
    "from datasets.virus import ViralDataset\n",
    "\n",
    "from transformers import AutoTokenizer, AutoModel"
   ]
  },
  {
   "cell_type": "code",
   "execution_count": 4,
   "id": "336b6c41",
   "metadata": {},
   "outputs": [
    {
     "data": {
      "text/plain": [
       "{'name': 'virus_da886fbe257e4684d43aa62ef4383e11',\n",
       " 'dir': 'outputs/virus_da886fbe257e4684d43aa62ef4383e11',\n",
       " 'config': {'dataset': {'_target_': 'datasets.virus.ViralDataset', 'data_dir': '/orcd/data/omarabu/001/gokul/DistributionEmbeddings/data/spikeprot0430', 'set_size': 16, 'max_length': '${experiment.max_length}', 'esm_name': '${experiment.esm_model_name}', 'progen_name': '${experiment.progen2_model_name}', 'lines_to_read': 100000000, 'max_sets_per_fam': 100, 'tokenize': '${experiment.tokenize}', 'seed': '${seed}'}, 'encoder': {'_target_': 'encoder.protein_encoders.ProteinSetEncoder', 'esm_model_name': '${experiment.esm_model_name}', 'latent_dim': '${experiment.latent_dim}', 'hidden_dim': '${experiment.hidden_dim}', 'pooling': 'mean', 'freeze': False, 'dist_type': 'tx', 'layers': 2, 'heads': 4}, 'model': {'_target_': 'types.NoneType'}, 'generator': {'_target_': 'generator.protein_generator.Progen2Generator', 'progen2_name': '${experiment.progen2_model_name}', 'latent_dim': '${experiment.latent_dim}', 'condition_dim': '${experiment.condition_dim}', 'freeze_progen2': '${experiment.freeze_progen2}', 'condition_method': '${experiment.condition_method}', 'temperature': '${experiment.temperature}', 'max_length': '${experiment.max_length}'}, 'optimizer': {'_target_': 'torch.optim.Adam', '_partial_': True, 'lr': '${experiment.lr}', 'betas': [0.9, 0.999], 'eps': 1e-08, 'weight_decay': 0}, 'scheduler': {'_target_': 'torch.optim.lr_scheduler.CosineAnnealingLR', '_partial_': True, 'T_max': 250, 'eta_min': 1e-05}, 'training': {'_target_': 'training.Trainer', 'num_epochs': 50, 'log_interval': 5, 'save_interval': 1, 'eval_interval': 5, 'early_stopping': True, 'patience': 5, 'use_tqdm': False, 'mask_context_prob': 0.0}, 'mixer': {'_target_': 'types.NoneType'}, 'wandb': {'_target_': 'wandb_utils.setup_wandb', 'project': 'distribution-embeddings', 'entity': None, 'name': None, 'mode': 'online', 'tags': [], 'notes': None, 'group': None, 'save_code': True}, 'experiment': {'name': 'virus', 'description': 'Spike protein distribution using ESM embeddings and ProGen2 for generation', 'latent_dim': 128, 'hidden_dim': 256, 'batch_size': 1, 'lr': 2e-05, 'esm_model_name': 'facebook/esm2_t6_8M_UR50D', 'progen2_model_name': 'hugohrban/progen2-small', 'max_length': 1000, 'tokenize': False, 'condition_dim': 32, 'freeze_progen2': False, 'condition_method': 'prefix', 'temperature': 1.0}, 'experiment_name': '${experiment.name}', 'seed': 42, 'device': 'cuda'},\n",
       " 'config_hash': 'da886fbe257e4684d43aa62ef4383e11',\n",
       " 'encoder': 'ProteinSetEncoder',\n",
       " 'generator': 'Progen2Generator',\n",
       " 'model': 'NoneType',\n",
       " 'dataset': 'ViralDataset',\n",
       " 'latent_dim': 'N/A',\n",
       " 'training_epochs': 'N/A',\n",
       " 'batch_size': 'N/A',\n",
       " 'checkpoints': [],\n",
       " 'best_model': None,\n",
       " 'best_loss': 'N/A',\n",
       " 'best_epoch': 'N/A'}"
      ]
     },
     "execution_count": 4,
     "metadata": {},
     "output_type": "execute_result"
    }
   ],
   "source": [
    "device = 'cuda'\n",
    "configs = get_all_experiments_info('outputs/', False)\n",
    "cfg = [c for c in configs if 'virus' in c['name'] \n",
    "       and c['config']['training']['save_interval']==1]\n",
    "cfg = cfg[0]\n",
    "cfg"
   ]
  },
  {
   "cell_type": "code",
   "execution_count": 5,
   "id": "6b837f45",
   "metadata": {},
   "outputs": [],
   "source": [
    "def load_model(cfg, path, device):\n",
    "    enc = hydra.utils.instantiate(cfg['encoder'])\n",
    "    gen = hydra.utils.instantiate(cfg['generator'])\n",
    "    state = load_checkpoint(path, 5)\n",
    "    enc.load_state_dict(state['encoder_state_dict'])\n",
    "    gen.model.load_state_dict(state['generator_state_dict'])\n",
    "    enc.eval()\n",
    "    gen.model.eval()\n",
    "    enc.to(device)\n",
    "    gen.model.to(device)\n",
    "    return enc, gen"
   ]
  },
  {
   "cell_type": "code",
   "execution_count": 16,
   "id": "741a0edd",
   "metadata": {},
   "outputs": [
    {
     "name": "stderr",
     "output_type": "stream",
     "text": [
      "Some weights of EsmModel were not initialized from the model checkpoint at facebook/esm2_t6_8M_UR50D and are newly initialized: ['pooler.dense.bias', 'pooler.dense.weight']\n",
      "You should probably TRAIN this model on a down-stream task to be able to use it for predictions and inference.\n"
     ]
    }
   ],
   "source": [
    "dataset = hydra.utils.instantiate(cfg['config']['dataset'])\n",
    "enc, gen = load_model(cfg['config'], cfg['dir'], 'cuda')\n",
    "# collated = recursive_collate([dataset.__getitem__(i) for i in range(3)])"
   ]
  },
  {
   "cell_type": "code",
   "execution_count": 17,
   "id": "7556deac",
   "metadata": {},
   "outputs": [],
   "source": [
    "dataloader = DataLoader(dataset, batch_size=1)"
   ]
  },
  {
   "cell_type": "code",
   "execution_count": 47,
   "id": "322af9e3",
   "metadata": {},
   "outputs": [
    {
     "name": "stdout",
     "output_type": "stream",
     "text": [
      "['2019-12-China']\n"
     ]
    }
   ],
   "source": [
    "for i, batch in enumerate(dataloader):\n",
    "    samples = batch['samples']\n",
    "    for k, v in samples.items():\n",
    "        if isinstance(v, torch.Tensor):\n",
    "            samples[k] = v.to('cuda')\n",
    "\n",
    "    with torch.no_grad():\n",
    "        latent = enc(samples)\n",
    "        generated = gen.sample(latent, num_samples=5, return_texts=True)\n",
    "\n",
    "        print(batch['time-loc'])\n",
    "        break"
   ]
  },
  {
   "cell_type": "code",
   "execution_count": 45,
   "id": "9e62a944",
   "metadata": {},
   "outputs": [
    {
     "data": {
      "text/plain": [
       "[['MFVFLVLLPLVSSQCVNLTTRTQLPPAYTNSFTRGVYYPDKVFRSSVLHSTQDLFLPFFSNVTWFHAIHVSGTNGTKRFDNPVLPFNDGVYFASTEKSNIIRGWIFGTTLDSKTQSLLIVNNATNVVIKVCEFQFCNDPFLGVYYHKNNKSWMESEFRVYSSANNCTFEYVSQPFLMDLEGKQGNFKNLREFVFKNIDGYFKIYSKHTPINLVRDLPQGFSALEPLVDLPIGINITRFQTLLALHRSYLTPGDSSSGWTAGAAAYYVGYLQPRTFLLKYNENGTITDAVDCALDPLSETKCTLKSFTVEKGIYQTSNFRVQPTESIVRFPNITNLCPFGEVFNATRFASVYAWNRKRISNCVADYSVLYNSASFSTFKCYGVSPTKLNDLCFTNVYADSFVIRGDEVRQIAPGQTGKIADYNYKLPDDFTGCVIAWNSNNLDSKVGGNYNYLYRLFRKSNLKPFERDISTEIYQAGSTPCNGVKGFNCYFPLQSYGFQPTTGVGYQPYRVVVLSFELLHAPATVCGPKKSTNLVKNKCVNFNFNGLTGTGVLTESNKKFLPFQQFGRDIADTTDAVRDPQTLEILDITPCSFGGVSVITPGTNTSNQVAVLYQGVNCTEVPVAIHADQLTPTWRVYSTGSNVFQTRAGCLIGAEHVNNSYECDIPIGAGICASYQTQTNSPRRARSVASQSIIAYTMSLGAENSVAYSNNSIAIPTNFTISVTTEILPVSMTKTSVDCTMYICGDSTECSNLLLQYGSFCTQLNRALTGIAVEQDKNTQEVFAQVKQIYKTPPIKDFGGFNFSQILPDPSKPSKRSFIEDLLFNKVTLADAGFIKQYGDCLGDIAARDLICAQKFNGLTVLPPLLTDEMIAQYTSALLAGTITSGWTFGAGAALQIPFAMQMAYRFNGIGVTQNVLYENQKLIANQFNSAIGKIQDSLSSTASALGKLQDVVNQNAQALNTLVKQLSSNFGAISSVLNDILSRLDKVEAEVQIDRLITG',\n",
       "  'MFVFLVLLPLVSSQCVNLITRTQLPPAYTNSFTRGVYYPDKVFRSSVLHSTQDLFLPFFSNVTWFHAIHVSGTNGTKRFDNPVLPFNDGVYFASTEKSNIIRGWIFGTTLDSKTQSLLIVNNATNVVIKVCEFQFCNDPFLGVYYHKNNKSWMESEFRVYSSANNCTFEYVSQPFLMDLEGKQGNFKNLREFVFKNIDGYFKIYSKHTPINLVRHLPQGFSALEPLVDLPIGINITRFQTLLALHRSYLTPGDSSSGWTAGAAAYYVGYLQPRTFLLKYNENGTITDAVDCALDPLSETKCTLKSFTVEKGIYQTSNFRVQPTESIVRFPNITNLCPFGEVFNATRFASVYAWNRKRISNCVADYSVLYNSASFSTFKCYGVSPTKLNDLCFTNVYADSFVIRGDEVRQIAPGQTGKIADYNYKLPDDFTGCVIAWNSKNLDSKVGGNYNYLYRLFRKSNLKPFERDISTEIYQAGSTPCNGVEGFNCYFPLQSYGFQPTNGVGYQPYRVVVLSFELLHAPATVCGPKKSTNLVKNKCVNFNFNGLTGTGVLTESNKKFLPFQQFGRDIADTTDAVRDPQTLEILDITPCSFGGVSVITPGTNTSNQVAVLYQGVNCTEVPVAIHADQLTPTWRVYSTGSNVFQTRAGCLIGAEHVNNSYECDIPIGAGICASYQTQTNSPRRARSVASQSIIAYTMSLGAENSVAYSNNSIAIPTNFTISVTTEILPVSMTKTSVDCTMYICGDSTECSNLLLQYGSFCTQLNRALTGIAVEQDKNTQEVFAQVKQIYKTPPIKDFGGFNFSQILPDPSKPSKRSFIEDLLFNKVTLADAGFIKQYGDCLGDIAARDLICAQKFNGLNVLPPLLTDEMIAQYTSALLAGTITSGWTFGAGAALQIPFAMQMAYRFNGIGVTQNVLYENQKLIANQFNSAIGKIQDSLSSTASALGKLQDVVNQNAQALNTLVKQLSSNFGAISSVLNDILSRLDKVEAEVQIDRLITG',\n",
       "  'MFVFLVLLPLVSSQCVNLTTRTQLPPAYTNSFTRGVYYPDKVFRSSVLHSTQDLFLPFFSNVTWFHAIHVSGTNGTKRFDNPVLPFNDGVYFASTEKSNIIRGWIFGTTLDSKTQSLLIVNNATNVVIKVCEFQFCNDPFLGVYYHKNNKSWMESEFRVYSSANNCTFEYVSQPFLMDLEGKQGNFKNLREFVFKNIDGYFKIYSKHTPINLVRDLPQGFSALEPLVDLPIGINITRFQTLLALHRSYLTPGDSSSGWTAGAAAYYVGYLQPRTFLLKYNENGTITDAVDCALDPLSETKCTLKSFTVEKGIYQTSNFRVQPTESIVRFPNITNLCPFGEVFNATRFASVYAWNRKRISNCVADYSVLYNSASFSTFKCYGVSPTKLNDLCFTNVYADSFVIRGDEVRQIAPGQTGKIADYNYKLPDDFTGCVIAWNSNNLDSKVGGNYNYLYRLFRKSNLKPFERDISTEIYQAGNTPCNGVEGFNCYFPLQSYGFQPTNGVGYQPYRVVVLSFELLHAPATVCGPKKSTNLVKNKCVNFNFNGLTGTGVLTESNKKFLPFQQFGRDIADTTDAVRDPQTLEILDITPCSFGGVSVITPGTNTSNQVAVLYQGVNCTEVPVAIHADQLTPTWRVYSTGSNVFQTRAGCLIGAEHVNNSYECDIPIGAGICASYQTQTNSPRRARSVASQSIIAYTMSLGAENSVAYSNNSIAIPTNFTISVTTEILPVSMTKTSVDCTMYICGDSTECSNLLLQYGSFCTQLNRALTGIAVEQDKNTQEVFAQVKQIYKTPPIKDFGGFNFSQILPDPSKPSKRSFIEDLLFNKVTLADAGFIKQYGDCLGDIAARDLICAQKFNGLTVLPPLLTDEMIAQYTSALLAGTITSGWTFGAGAALQIPFAMQMAYRFNGIGVTQNVLYENQKLIANQFNSAIGKIQDSLSSTASALGKLQDVVNQNAQALNTLVKQLSSNFGAISSVLNDILSRLDKVEAEVQIDRLITG',\n",
       "  'MFVFLVLLPLVSSQCVNLTTRTQLPPAYTNSFTRGVYYPDKVFRSSVLHSTQDLFLPFFSNVTWFHAIHVSGTNGTKRFDNPVLPFNDGVYFASTEKSNIIRGWIFGTTLDSKTQSLLIVNNATNVVIKVCEFQFCNDPFLGVYYHKNNKSWMESEFRVYSSANNCTFEYVSQPFLMDLEGKQGNFKNLREFVFKNIDGYFKIYSKHTPINLVRDLPQGFSALEPLVDLPIGINITRFQTLLALHRSYLTPGDSSSGWTAGAAAYYVGYLQPRTFLLKYNENGTITDAVDCALDPLSETKCTLKSFTVEKGIYQTSNFRVQPTESIVRFPNITNLCPFGEVFNATRFASVYAWNRKRISNCVADYSVLYNSASFSTFKCYGVSPTKLNDLCFTNVYADSFVIRGDEVRQIAPGQTGKIADYNYKLPDDFTGCVIAWNSNNLDSKVGGNYNYLYRLFRKSNLKPFERDISTEIYQAGSTPCNGVEGFNCYFPLQSYGFQPTNGVGYQPYRVVVLSFELLHAPATVCGPKKSTNLVKNKCVNFNFNGLTGTGVLTESNKKFLPFQQFGRDIADTTDAVRDPQTLEILDITPCSFGGVSVITPGTNTSNQVAVLYQGVNCTEVPVAIHADQLTPTWRVYSTGSNVFQTRAGCLIGAEHVNNSYECDIPIGAGICASYQTQTNSPRRARSVASQSIIAYTMSLGAENSVAYSNNSIAIPTNFTISVTTEILPVSMTKTSVDCTMYICGDSTECSNLLLQYGSFCTQLNRALTGIAVEQDKNTQEVFAQVKQIYKTPPIKDFGGFNFSQILPDPSKPSKRSFIEDLLFNKVTLADAGFIKQYGDCLGDIAARDLICAQKFNGLTVLPPLLTDEMIAQYTSALLAGTITSGWTFGAGAALQIPFAMQMAYRFNGIGVTQNVLYENQKLIANQFNSAIGKIQDSLSSTASALGKLQDVVNQNAQALNTLVKQLSSNFGAISSVLNDILSRLDKVEAEVQIDRLITG',\n",
       "  'MFVFLVLLPLVSSQCVNLTTRTQLPPAYTNSFTRGVYYPDKVFRSSVLHSTQDLFLPFFSNVTWFHAIHVSGTNGTKRFDNPVLPFNDGVYFASTEKSNIIRGWIFGTTLDSKTQSLLIVNNATNVVIKVCEFQFCNDPFLGVYYHKNNKSWMESEFRVYSSANNCTFEYVSQPFLMDLEGKQGNFKNLREFVFKNIDGYFKIYSKHTPINLVRDLPQGFSALEPLVDLPIGINITRFQTLLALHRSYLTPGDSSSGWTAGAAAYYVGYLQPRTFLLKYNENGTITDAVDCALDPLSETKCTLKSFTVEKGIYQTSNFRVQPTESIVRFPNITNLCPFGEVFNATRFASVYAWNRKRISNCVADYSVLYNSASFSTFKCYGVSPTKLNDLCFTNVYADSFVIRGDEVRQIAPGQTGKIADYNYKLPDDFTGCVIAWNSNNLDSKVGGNYNYLYRLFRKSNLKPFERDISTEIYQAGNTPCNGVAGFNCYFPLQSYGFQPTTGVGYQPYRVVVLSFELLHAPATVCGPKKSTNLVKNKCVNFNFNGLTGTGVLTESNKKFLPFQQFGRDIADTTDAVRDPQTLEILDITPCSFGGVSVITPGTNTSNQVAVLYQGVNCTEVPVAIHADQLTPTWRVYSTGSNVFQTRAGCLIGAEHVNNSYECDIPIGAGICASYQTQTNSPRRARSVASQSIIAYTMSLGAENSVAYSNNSIAIPTNFTISVTTEILPVSMTKTSVDCTMYICGDSTECSNLLLQYGSFCTQLNRALTGIAVEQDKNTQEVFAQVKQIYKTPPIKDFGGFNFSQILPDPSKPSKRSFIEDLLFNKVTLADAGFIKQYGDCLGDIAARDLICAQKFNGLTVLPPLLTDEMIAQYTSALLAGTITSGWTFGAGAALQIPFAMQMAYRFNGIGVTQNVLYENQKLIANQFNSAIGKIQDSLSSTASALGKLQDVVNQNAQALNTLVKQLSSNFGAISSVLNDILSRLDKVEAEVQIDRLITG']]"
      ]
     },
     "execution_count": 45,
     "metadata": {},
     "output_type": "execute_result"
    }
   ],
   "source": [
    "generated[1]"
   ]
  },
  {
   "cell_type": "code",
   "execution_count": 46,
   "id": "6ac0839e",
   "metadata": {},
   "outputs": [
    {
     "data": {
      "text/plain": [
       "<Axes: >"
      ]
     },
     "execution_count": 46,
     "metadata": {},
     "output_type": "execute_result"
    },
    {
     "data": {
      "image/png": "[encoded data removed]",
      "text/plain": [
       "<Figure size 640x480 with 2 Axes>"
      ]
     },
     "metadata": {},
     "output_type": "display_data"
    }
   ],
   "source": [
    "def levenshtein(a, b):\n",
    "    dp = [[i + j if i * j == 0 else 0 for j in range(len(b) + 1)] for i in range(len(a) + 1)]\n",
    "    for i in range(1, len(a) + 1):\n",
    "        for j in range(1, len(b) + 1):\n",
    "            dp[i][j] = min(\n",
    "                dp[i-1][j] + 1,\n",
    "                dp[i][j-1] + 1,\n",
    "                dp[i-1][j-1] + (a[i-1] != b[j-1])\n",
    "            )\n",
    "    return dp[-1][-1]\n",
    "\n",
    "strings = generated[1][0] + [x[0] for x in batch['raw_texts']][:5]\n",
    "n = len(strings)\n",
    "mat = np.zeros((n, n))\n",
    "for i in range(n):\n",
    "    for j in range(n):\n",
    "        mat[i, j] = levenshtein(strings[i], strings[j])\n",
    "\n",
    "# plot heatmap!\n",
    "sns.heatmap(mat)"
   ]
  },
  {
   "cell_type": "code",
   "execution_count": 33,
   "id": "36af882e",
   "metadata": {},
   "outputs": [
    {
     "name": "stdout",
     "output_type": "stream",
     "text": [
      "Residue 156: F, L\n",
      "Residue 438: K, N\n",
      "Residue 476: N, S\n",
      "Residue 483: K, E\n",
      "Residue 541: N, Q\n",
      "Residue 674: Q, H\n",
      "Residue 768: V, G\n",
      "Residue 844: A, S\n",
      "Residue 938: F, S\n"
     ]
    }
   ],
   "source": [
    "for i in range(len(strings[2])):\n",
    "\n",
    "    if strings[2][i] != strings[4][i]:\n",
    "        print('Residue %d: %s, %s'%(i, strings[2][i], strings[4][i]))"
   ]
  },
  {
   "cell_type": "code",
   "execution_count": null,
   "id": "86eb7730",
   "metadata": {},
   "outputs": [
    {
     "data": {
      "text/plain": [
       "False"
      ]
     },
     "execution_count": 41,
     "metadata": {},
     "output_type": "execute_result"
    }
   ],
   "source": []
  },
  {
   "cell_type": "code",
   "execution_count": 18,
   "id": "fdd681bc",
   "metadata": {},
   "outputs": [],
   "source": [
    "# # load tiny esm2 model\n",
    "# tok = AutoTokenizer.from_pretrained(\"facebook/esm2_t6_8M_UR50D\")\n",
    "# mdl = AutoModel.from_pretrained(\"facebook/esm2_t6_8M_UR50D\").cuda()"
   ]
  },
  {
   "cell_type": "code",
   "execution_count": null,
   "id": "d1645290",
   "metadata": {},
   "outputs": [
    {
     "data": {
      "application/vnd.jupyter.widget-view+json": {
       "model_id": "43e71b53730740949f81a9bcd3ab2640",
       "version_major": 2,
       "version_minor": 0
      },
      "text/plain": [
       "0it [00:00, ?it/s]"
      ]
     },
     "metadata": {},
     "output_type": "display_data"
    }
   ],
   "source": [
    "# Zs = []\n",
    "\n",
    "# TLs = []\n",
    "\n",
    "# for i, batch in tqdm(enumerate(dataloader)):\n",
    "#     samples = batch['samples']\n",
    "#     for k, v in samples.items():\n",
    "#         if isinstance(v, torch.Tensor):\n",
    "#             samples[k] = v.to('cuda')\n",
    "\n",
    "#     with torch.no_grad():\n",
    "#         latent = mdl(samples['esm_input_ids'][0],\n",
    "#                      samples['esm_attention_mask'][0]).last_hidden_state.mean(axis=(0,1))\n",
    "    \n",
    "#     Zs.append(latent.cpu().numpy())\n",
    "#     TLs.append(batch['time-loc'])"
   ]
  },
  {
   "cell_type": "code",
   "execution_count": null,
   "id": "b33e2257",
   "metadata": {},
   "outputs": [],
   "source": [
    "# Z = np.vstack(Zs)\n",
    "# T = [t[0] for t in TLs]"
   ]
  },
  {
   "cell_type": "code",
   "execution_count": null,
   "id": "a07fc213",
   "metadata": {},
   "outputs": [],
   "source": [
    "# from sklearn.decomposition import PCA\n",
    "# from sklearn.manifold import TSNE"
   ]
  },
  {
   "cell_type": "code",
   "execution_count": null,
   "id": "e612a1e1",
   "metadata": {},
   "outputs": [],
   "source": [
    "# pca = PCA(n_components=50, svd_solver='full')\n",
    "# tsne = TSNE(random_state=0)\n",
    "\n",
    "# pcs = pca.fit_transform(Z)"
   ]
  },
  {
   "cell_type": "code",
   "execution_count": null,
   "id": "63aeadfd",
   "metadata": {},
   "outputs": [],
   "source": [
    "# tsnes = tsne.fit_transform(pcs)"
   ]
  },
  {
   "cell_type": "code",
   "execution_count": null,
   "id": "f2d1dad9",
   "metadata": {},
   "outputs": [
    {
     "name": "stdout",
     "output_type": "stream",
     "text": [
      "['2019-12', '2020-12', '2021-01']\n",
      "['China', 'Philippines', 'Belgium']\n"
     ]
    }
   ],
   "source": [
    "# months = [t[:7] for t in T]\n",
    "# locs = [t[8:] for t in T]\n",
    "# print(months[:3])\n",
    "# print(locs[:3])"
   ]
  },
  {
   "cell_type": "code",
   "execution_count": 48,
   "id": "99181bc4",
   "metadata": {},
   "outputs": [],
   "source": [
    "# from matplotlib.colors import Normalize\n",
    "# from matplotlib.cm import ScalarMappable\n",
    "# from datetime import datetime\n",
    "\n",
    "# # try parsing months safely to datetime\n",
    "# dates = []\n",
    "# for m in months:\n",
    "#     try:\n",
    "#         d = datetime.strptime(m, \"%Y-%m\")\n",
    "#         dates.append(d)\n",
    "#     except ValueError:\n",
    "#         # skip or use a default? up to you!\n",
    "#         dates.append(None)\n",
    "\n",
    "# # drop None entries (or filter tsnes too if needed!)\n",
    "# valid = [i for i, d in enumerate(dates) if d is not None]\n",
    "# tsnes_valid = tsnes[valid]\n",
    "# dates_valid = [dates[i] for i in valid]\n",
    "\n",
    "# # map to numeric time (e.g. months since min)\n",
    "# min_date = min(dates_valid)\n",
    "# month_nums = np.array([(d.year - min_date.year) * 12 + d.month - min_date.month for d in dates_valid])\n",
    "\n",
    "# # now plot like before!\n",
    "# norm = Normalize(vmin=month_nums.min(), vmax=month_nums.max())\n",
    "# cmap = plt.get_cmap(\"viridis\")\n",
    "\n",
    "# fig, ax = plt.subplots(figsize=(4, 3), dpi=300)\n",
    "\n",
    "# # scatter with explicit ax\n",
    "# sns.scatterplot(x=tsnes_valid[:, 0],\n",
    "#                 y=tsnes_valid[:, 1],\n",
    "#                 hue=month_nums,\n",
    "#                 palette=cmap,\n",
    "#                 hue_norm=norm,\n",
    "#                 s=3,\n",
    "#                 legend=False,\n",
    "#                 ax=ax,)\n",
    "\n",
    "# ax.set_xticks([])\n",
    "# ax.set_yticks([])\n",
    "# ax.set_xlabel('TSNE1')\n",
    "# ax.set_ylabel('TSNE2')\n",
    "\n",
    "# # make the ScalarMappable manually\n",
    "# sm = ScalarMappable(cmap=cmap, norm=norm)\n",
    "# sm.set_array([])\n",
    "\n",
    "# # pass ax to colorbar so it knows where to go :)\n",
    "# cbar = plt.colorbar(sm, ax=ax)\n",
    "# cbar.set_label(\"months since 2019-12\")\n",
    "\n",
    "# plt.show()\n",
    "\n"
   ]
  },
  {
   "cell_type": "code",
   "execution_count": null,
   "id": "f0c52d82",
   "metadata": {},
   "outputs": [],
   "source": []
  },
  {
   "cell_type": "code",
   "execution_count": null,
   "id": "ccf4e4a7",
   "metadata": {},
   "outputs": [],
   "source": []
  }
 ],
 "metadata": {
  "kernelspec": {
   "display_name": "Python 3 (ipykernel)",
   "language": "python",
   "name": "python3"
  },
  "language_info": {
   "codemirror_mode": {
    "name": "ipython",
    "version": 3
   },
   "file_extension": ".py",
   "mimetype": "text/x-python",
   "name": "python",
   "nbconvert_exporter": "python",
   "pygments_lexer": "ipython3",
   "version": "3.11.12"
  }
 },
 "nbformat": 4,
 "nbformat_minor": 5
}
