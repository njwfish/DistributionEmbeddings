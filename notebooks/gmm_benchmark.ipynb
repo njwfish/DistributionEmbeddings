{
 "cells": [
  {
   "cell_type": "code",
   "execution_count": 1,
   "id": "7dfc5aec",
   "metadata": {},
   "outputs": [],
   "source": [
    "%load_ext autoreload\n",
    "%autoreload 2"
   ]
  },
  {
   "cell_type": "code",
   "execution_count": 2,
   "id": "e76818e8",
   "metadata": {},
   "outputs": [],
   "source": [
    "# imports\n",
    "from pathlib import Path\n",
    "import sys  \n",
    "\n",
    "# Get my_package directory path from Notebook\n",
    "parent_dir = str(Path().resolve().parents[0])\n",
    "\n",
    "# Add to sys.path\n",
    "sys.path.insert(0, parent_dir)"
   ]
  },
  {
   "cell_type": "code",
   "execution_count": 3,
   "id": "e9ff9a9f",
   "metadata": {},
   "outputs": [
    {
     "name": "stdout",
     "output_type": "stream",
     "text": [
      "[KeOps] Warning : CUDA libraries not found or could not be loaded; Switching to CPU only.\n"
     ]
    }
   ],
   "source": [
    "from utils.experiment_utils import get_all_experiments_info, load_best_model\n",
    "import torch\n",
    "import os\n",
    "import hydra\n",
    "from omegaconf import DictConfig, OmegaConf\n",
    "\n",
    "import numpy as np\n",
    "import seaborn as sns\n",
    "import pandas as pd\n",
    "import matplotlib.pyplot as plt\n",
    "\n",
    "from notebooks.mnist_classifier.mnist_tiny_cnn import TinyCNN\n",
    "\n",
    "from mixer.mixer import SetMixer\n",
    "from datasets.mnist import MNISTDataset\n",
    "\n",
    "from torch.utils.data import DataLoader\n",
    "from itertools import product\n",
    "\n",
    "from tqdm.notebook import tqdm\n",
    "\n",
    "from datasets.distribution_datasets import GaussianMixtureModelDistributionDataset\n",
    "from utils.gmm_utils import fit_gmm_batch\n",
    "\n",
    "from ot.gmm import gmm_ot_loss\n",
    "\n",
    "import warnings\n",
    "warnings.filterwarnings(\"ignore\")"
   ]
  },
  {
   "cell_type": "code",
   "execution_count": 8,
   "id": "982aed5b",
   "metadata": {},
   "outputs": [
    {
     "name": "stdout",
     "output_type": "stream",
     "text": [
      "3\n"
     ]
    }
   ],
   "source": [
    "device = 'cuda'\n",
    "configs = get_all_experiments_info('/orcd/data/omarabu/001/gokul/DistributionEmbeddings/outputs/', False)\n",
    "cfg = [\n",
    "    c for c in configs if 'gmm_sys' in c['name'] and c['config']['dataset']['data_shape'] == [5] and c['config']['training']['max_time'] == 600\n",
    "]\n",
    "\n",
    "print(len(cfg))\n",
    "\n",
    "# load model and move to device\n",
    "def load_model(cfg, path, device):\n",
    "    enc = hydra.utils.instantiate(cfg['encoder'])\n",
    "    gen = hydra.utils.instantiate(cfg['generator'])\n",
    "    state = load_best_model(path)\n",
    "    enc.load_state_dict(state['encoder_state_dict'])\n",
    "    gen.model.load_state_dict(state['generator_state_dict'])\n",
    "    enc.eval()\n",
    "    gen.eval()\n",
    "    enc.to(device)\n",
    "    gen.to(device)\n",
    "    return enc, gen"
   ]
  },
  {
   "cell_type": "code",
   "execution_count": 9,
   "id": "2bf0bd8f",
   "metadata": {},
   "outputs": [
    {
     "data": {
      "application/vnd.jupyter.widget-view+json": {
       "model_id": "768261f6541443e6a618c7f30a7d1d7a",
       "version_major": 2,
       "version_minor": 0
      },
      "text/plain": [
       "  0%|          | 0/3 [00:00<?, ?it/s]"
      ]
     },
     "metadata": {},
     "output_type": "display_data"
    },
    {
     "name": "stdout",
     "output_type": "stream",
     "text": [
      "Encoder: WormholeEncoder, Generator: WormholeGenerator, OT error: 2.888592809758486, data shape: 5\n",
      "Encoder: DistributionEncoderResNet, Generator: DDPM, OT error: 1.821606542061434, data shape: 5\n",
      "Encoder: KMEEncoder, Generator: DDPM, OT error: 2.179117803930016, data shape: 5\n"
     ]
    }
   ],
   "source": [
    "d = {\n",
    "    \"Encoder\" : [],\n",
    "    \"Generator\" : [],\n",
    "    \"N dims\" : [],\n",
    "    \"OT reconstruction error\" : []\n",
    "}\n",
    "\n",
    "N_sets = 200\n",
    "set_size = 10**4\n",
    "dataset = GaussianMixtureModelDistributionDataset(\n",
    "    n_sets=N_sets,\n",
    "    set_size=set_size,\n",
    "    prior_mu=(0,5),\n",
    "    data_shape=[5]\n",
    ")\n",
    "\n",
    "\n",
    "for c in tqdm(cfg):\n",
    "    encoder_name = c['encoder']\n",
    "    generator_name = c['generator']\n",
    "    if generator_name == 'DirectGenerator':\n",
    "        generator_name += '-' + c['config']['generator']['loss_type']\n",
    "    data_shape = c['config']['dataset']['data_shape']\n",
    "    num_epochs = c['config']['training']['num_epochs']\n",
    "\n",
    "    try:\n",
    "        enc, gen = load_model(c['config'], c['dir'], device=device)\n",
    "    except:\n",
    "        print('broken: ', encoder_name, generator_name)\n",
    "        continue\n",
    "\n",
    "    if 'Tx' not in encoder_name and 'Wormhole' not in encoder_name:\n",
    "        set_size = 10**4\n",
    "    else:\n",
    "        set_size=10**3\n",
    "\n",
    "    data = dataset.data[:, :set_size, :]\n",
    "    \n",
    "    ot_errors = []\n",
    "    for idx in range(len(dataset)//8):\n",
    "\n",
    "        with torch.no_grad():\n",
    "            x = torch.tensor(data[idx*8:(idx+1)*8], dtype=torch.float).cuda()\n",
    "            z = enc(x)\n",
    "            x_hat = gen.sample(z, num_samples=10**4)\n",
    "\n",
    "        mus = dataset.mu[idx*8:(idx+1)*8]\n",
    "        covs = dataset.cov[idx*8:(idx+1)*8]\n",
    "        weights = dataset.weights[idx*8:(idx+1)*8]\n",
    "\n",
    "\n",
    "        r_means, r_covs, r_weights = fit_gmm_batch(\n",
    "            x_hat.detach().cpu().numpy(), \n",
    "            mus,\n",
    "            covs,\n",
    "            weights,\n",
    "            # use_kmeans_init=True\n",
    "        )\n",
    "\n",
    "        x = x.cpu()\n",
    "        x_hat = x_hat.detach().cpu()\n",
    "        \n",
    "        ot_dists = [\n",
    "            gmm_ot_loss(r_m, m, r_c, c, r_w, w) \n",
    "            for r_m, m, r_c, c, r_w, w in zip(r_means, mus, r_covs, covs, r_weights, weights)\n",
    "        ]\n",
    "        ot_errors += ot_dists\n",
    "\n",
    "    d['Encoder'].append(encoder_name)\n",
    "    d['Generator'].append(generator_name)\n",
    "    d['N dims'].append(data_shape[0])\n",
    "    d['OT reconstruction error'].append(np.mean(ot_errors))\n",
    "    print(f\"Encoder: {encoder_name}, Generator: {generator_name}, OT error: {np.mean(ot_errors)}, data shape: {data_shape[0]}\")"
   ]
  },
  {
   "cell_type": "code",
   "execution_count": 10,
   "id": "5dd47b37",
   "metadata": {},
   "outputs": [
    {
     "data": {
      "text/html": [
       "<div>\n",
       "<style scoped>\n",
       "    .dataframe tbody tr th:only-of-type {\n",
       "        vertical-align: middle;\n",
       "    }\n",
       "\n",
       "    .dataframe tbody tr th {\n",
       "        vertical-align: top;\n",
       "    }\n",
       "\n",
       "    .dataframe thead th {\n",
       "        text-align: right;\n",
       "    }\n",
       "</style>\n",
       "<table border=\"1\" class=\"dataframe\">\n",
       "  <thead>\n",
       "    <tr style=\"text-align: right;\">\n",
       "      <th></th>\n",
       "      <th>Encoder</th>\n",
       "      <th>Generator</th>\n",
       "      <th>N dims</th>\n",
       "      <th>OT reconstruction error</th>\n",
       "    </tr>\n",
       "  </thead>\n",
       "  <tbody>\n",
       "    <tr>\n",
       "      <th>1</th>\n",
       "      <td>DistributionEncoderResNet</td>\n",
       "      <td>DDPM</td>\n",
       "      <td>5</td>\n",
       "      <td>1.821607</td>\n",
       "    </tr>\n",
       "    <tr>\n",
       "      <th>2</th>\n",
       "      <td>KMEEncoder</td>\n",
       "      <td>DDPM</td>\n",
       "      <td>5</td>\n",
       "      <td>2.179118</td>\n",
       "    </tr>\n",
       "    <tr>\n",
       "      <th>0</th>\n",
       "      <td>WormholeEncoder</td>\n",
       "      <td>WormholeGenerator</td>\n",
       "      <td>5</td>\n",
       "      <td>2.888593</td>\n",
       "    </tr>\n",
       "  </tbody>\n",
       "</table>\n",
       "</div>"
      ],
      "text/plain": [
       "                     Encoder          Generator  N dims  \\\n",
       "1  DistributionEncoderResNet               DDPM       5   \n",
       "2                 KMEEncoder               DDPM       5   \n",
       "0            WormholeEncoder  WormholeGenerator       5   \n",
       "\n",
       "   OT reconstruction error  \n",
       "1                 1.821607  \n",
       "2                 2.179118  \n",
       "0                 2.888593  "
      ]
     },
     "execution_count": 10,
     "metadata": {},
     "output_type": "execute_result"
    }
   ],
   "source": [
    "pd.DataFrame(d).sort_values(by='OT reconstruction error')"
   ]
  },
  {
   "cell_type": "code",
   "execution_count": null,
   "id": "3f71da45",
   "metadata": {},
   "outputs": [],
   "source": []
  }
 ],
 "metadata": {
  "kernelspec": {
   "display_name": "Python 3 (ipykernel)",
   "language": "python",
   "name": "python3"
  },
  "language_info": {
   "codemirror_mode": {
    "name": "ipython",
    "version": 3
   },
   "file_extension": ".py",
   "mimetype": "text/x-python",
   "name": "python",
   "nbconvert_exporter": "python",
   "pygments_lexer": "ipython3",
   "version": "3.11.12"
  }
 },
 "nbformat": 4,
 "nbformat_minor": 5
}
