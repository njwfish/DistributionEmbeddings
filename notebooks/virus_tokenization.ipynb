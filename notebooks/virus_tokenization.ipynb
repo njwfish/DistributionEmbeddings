{
 "cells": [
  {
   "cell_type": "code",
   "execution_count": 1,
   "id": "3f216cb7",
   "metadata": {},
   "outputs": [],
   "source": [
    "from datasets.virus import ViralDataset\n",
    "from Bio import SeqIO\n",
    "from collections import defaultdict\n",
    "from tqdm import tqdm\n",
    "import matplotlib.pyplot as plt"
   ]
  },
  {
   "cell_type": "code",
   "execution_count": 2,
   "id": "2a0138b5",
   "metadata": {},
   "outputs": [
    {
     "name": "stderr",
     "output_type": "stream",
     "text": [
      "  0%|                                                                                                                                                            | 0/100000000 [00:00<?, ?it/s]"
     ]
    },
    {
     "name": "stderr",
     "output_type": "stream",
     "text": [
      "100%|███████████████████████████████████████████████████████████████████████████████████████████████████████████████████████████████████████| 100000000/100000000 [01:39<00:00, 1005742.92it/s]\n"
     ]
    }
   ],
   "source": [
    "data_dir = 'data/spikeprot0430'\n",
    "set_size = 16\n",
    "lines_to_read = 10**8\n",
    "\n",
    "fn = data_dir+'/spikeprot0430.fasta'\n",
    "seqs_by_monthloc = defaultdict(list)\n",
    "max_per_monthloc = set_size  # cap per group\n",
    "\n",
    "record_iterator = SeqIO.parse(fn, \"fasta\")\n",
    "\n",
    "for _ in tqdm(range(lines_to_read)):\n",
    "    try:\n",
    "        record = next(record_iterator)\n",
    "        fields = record.description.split(\"|\")\n",
    "        (gene, isolate, date, iso_id, passage,\n",
    "        type_loc, host, o_lab, s_lab,\n",
    "        submitter, location) = (fields + [\"?\"] * 11)[:11]\n",
    "\n",
    "        # print(submitter)\n",
    "        # print(o_lab)\n",
    "        # print(s_lab)\n",
    "        # print()\n",
    "\n",
    "        virus_type, state = type_loc.split(\"^^\") if \"^^\" in type_loc else (type_loc, \"?\")\n",
    "\n",
    "        if date[5:7] != '00' and date[-2:] != '00' and date[4] == '-':\n",
    "            key = date[:7] + '-' + o_lab  # yyyy-mm-location\n",
    "            if len(seqs_by_monthloc[key]) < max_per_monthloc:\n",
    "                seqs_by_monthloc[key].append(str(record.seq))\n",
    "    except:\n",
    "        continue\n"
   ]
  },
  {
   "cell_type": "code",
   "execution_count": 4,
   "id": "e34b60b2",
   "metadata": {},
   "outputs": [],
   "source": [
    "count_dict = {}\n",
    "for key, seqs in seqs_by_monthloc.items():\n",
    "    count_dict[key] = len(seqs)"
   ]
  },
  {
   "cell_type": "code",
   "execution_count": 5,
   "id": "cd2fec79",
   "metadata": {},
   "outputs": [
    {
     "data": {
      "text/plain": [
       "(array([41525., 19338., 12183.,  9089.,  7083.,  5807.,  4568.,  3962.,\n",
       "         3564.,  3189.,  2698.,  2591.,  2159.,  2034.,  1965., 56838.]),\n",
       " array([ 1.    ,  1.9375,  2.875 ,  3.8125,  4.75  ,  5.6875,  6.625 ,\n",
       "         7.5625,  8.5   ,  9.4375, 10.375 , 11.3125, 12.25  , 13.1875,\n",
       "        14.125 , 15.0625, 16.    ]),\n",
       " <BarContainer object of 16 artists>)"
      ]
     },
     "execution_count": 5,
     "metadata": {},
     "output_type": "execute_result"
    },
    {
     "data": {
      "image/png": "[encoded data removed]",
      "text/plain": [
       "<Figure size 640x480 with 1 Axes>"
      ]
     },
     "metadata": {},
     "output_type": "display_data"
    }
   ],
   "source": [
    "plt.hist(count_dict.values(), bins=16)"
   ]
  },
  {
   "cell_type": "code",
   "execution_count": 6,
   "id": "ad6b9da2",
   "metadata": {},
   "outputs": [
    {
     "data": {
      "text/plain": [
       "1407197"
      ]
     },
     "execution_count": 6,
     "metadata": {},
     "output_type": "execute_result"
    }
   ],
   "source": [
    "sum(list(count_dict.values()))"
   ]
  },
  {
   "cell_type": "code",
   "execution_count": null,
   "id": "ffae3df4",
   "metadata": {},
   "outputs": [],
   "source": []
  }
 ],
 "metadata": {
  "kernelspec": {
   "display_name": "Python 3 (ipykernel)",
   "language": "python",
   "name": "python3"
  },
  "language_info": {
   "codemirror_mode": {
    "name": "ipython",
    "version": 3
   },
   "file_extension": ".py",
   "mimetype": "text/x-python",
   "name": "python",
   "nbconvert_exporter": "python",
   "pygments_lexer": "ipython3",
   "version": "3.11.12"
  }
 },
 "nbformat": 4,
 "nbformat_minor": 5
}
