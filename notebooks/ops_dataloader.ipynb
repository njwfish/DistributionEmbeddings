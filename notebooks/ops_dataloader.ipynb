{
 "cells": [
  {
   "cell_type": "code",
   "execution_count": 2,
   "id": "8437e544",
   "metadata": {},
   "outputs": [],
   "source": [
    "import os\n",
    "import sys\n",
    "import pandas as pd\n",
    "import numpy as np\n",
    "import matplotlib.pyplot as plt\n",
    "from glob import glob\n",
    "from skimage import io\n",
    "import dask.dataframe as dd\n",
    "import dask\n",
    "from collections import defaultdict\n",
    "from pathlib import Path\n",
    "import torch\n",
    "from tqdm.notebook import tqdm\n",
    "\n",
    "\n",
    "# Import our utility functions\n",
    "sys.path.append('..')\n",
    "from notebooks.file_structure_utils import (\n",
    "    get_image_path,\n",
    "    get_available_channels,\n",
    ")\n",
    "\n",
    "data_dir = '../../njwfish/DistributionEmbeddings/data/ops'"
   ]
  },
  {
   "cell_type": "code",
   "execution_count": 3,
   "id": "5e1233b7",
   "metadata": {},
   "outputs": [],
   "source": [
    "cols = ['gene_symbol_0', 'plate', 'tile', 'well', 'bounds_0', 'bounds_1', 'bounds_2', 'bounds_3']\n",
    "pdf = pd.read_parquet(data_dir+'/interphase-reclassified_cp_phenotype_normalized.parquet', columns=cols)"
   ]
  },
  {
   "cell_type": "code",
   "execution_count": null,
   "id": "0cf7749f",
   "metadata": {},
   "outputs": [],
   "source": [
    "def build_crop_dict(parquet_df, n_imgs=50):\n",
    "    \n",
    "    df = parquet_df\n",
    " \n",
    "    print('grouping by img, this takes ~1m')\n",
    "    grouped = defaultdict(list)\n",
    "    for row in df.itertuples():\n",
    "        grouped[(row.plate, row.well, row.tile)].append((row.gene_symbol_0, row.bounds_0, row.bounds_1, \n",
    "                                                    row.bounds_2, row.bounds_3))\n",
    "\n",
    "    pert_dict = defaultdict(list)\n",
    "\n",
    "    for img_number, (img_path, entries) in tqdm(enumerate(grouped.items())):\n",
    "        plate, well, tile = img_path\n",
    "        available_channels = get_available_channels(plate, well, tile, base_dir=data_dir)\n",
    "        \n",
    "        if 'DAPI-GFP' in available_channels:\n",
    "            image_path = get_image_path(plate, well, tile, 'DAPI-GFP', data_dir, 'screenA')\n",
    "            \n",
    "            # Check if file exists\n",
    "            if not image_path or not os.path.exists(image_path):\n",
    "                print(f\"Warning: File not found\")\n",
    "                continue\n",
    "                \n",
    "            # Load full image\n",
    "            full_image = io.imread(image_path)\n",
    "            if len(full_image.shape) == 4 and full_image.shape[1] == 2:\n",
    "                dapi_image = full_image[0, 0]\n",
    "                gfp_image = full_image[0, 1]\n",
    "\n",
    "                for ent in entries:\n",
    "\n",
    "                    cell_images = {}\n",
    "                    cell_images['DAPI'] = dapi_image[ent[1]:ent[3], ent[2]:ent[4]]\n",
    "                    cell_images['GFP'] = gfp_image[ent[1]:ent[3], ent[2]:ent[4]]\n",
    "                    pert_dict[ent[0]].append(torch.stack([torch.tensor(c) for c in cell_images.values()]))\n",
    "\n",
    "        if img_number > n_imgs:\n",
    "            break\n",
    "\n",
    "\n",
    "        # find max shape\n",
    "        H_max = max(x.shape[1] for v in pert_dict.values() for x in v)\n",
    "        W_max = max(x.shape[2] for v in pert_dict.values() for x in v)\n",
    "\n",
    "        print('max shape: %d, %d' %(H_max, W_max))\n",
    "\n",
    "        # pad everything\n",
    "        for k, crop_list in pert_dict.items():\n",
    "            padded = []\n",
    "            for t in crop_list:\n",
    "                h, w = t.shape[1:]\n",
    "                pad_h = H_max - h\n",
    "                pad_w = W_max - w\n",
    "                # pad as (left, right, top, bottom)\n",
    "                padded_t = torch.nn.functional.pad(t, (0, pad_w, 0, pad_h))  # right + bottom pad only\n",
    "                padded.append(padded_t)\n",
    "            pert_dict[k] = padded\n",
    "\n",
    "    return pert_dict  # {perturbation: [list of (2, h, w)]}"
   ]
  },
  {
   "cell_type": "code",
   "execution_count": 6,
   "id": "2dfa7539",
   "metadata": {},
   "outputs": [
    {
     "name": "stdout",
     "output_type": "stream",
     "text": [
      "grouping by img, this takes ~1m\n"
     ]
    },
    {
     "data": {
      "application/vnd.jupyter.widget-view+json": {
       "model_id": "9a62098ce1c644af97c7d60fefb644d2",
       "version_major": 2,
       "version_minor": 0
      },
      "text/plain": [
       "0it [00:00, ?it/s]"
      ]
     },
     "metadata": {},
     "output_type": "display_data"
    }
   ],
   "source": [
    "cd = build_crop_dict(pdf)"
   ]
  },
  {
   "cell_type": "code",
   "execution_count": 17,
   "id": "2399ae0a",
   "metadata": {},
   "outputs": [
    {
     "data": {
      "image/png": "[encoded data removed]",
      "text/plain": [
       "<Figure size 640x480 with 1 Axes>"
      ]
     },
     "metadata": {},
     "output_type": "display_data"
    },
    {
     "name": "stdout",
     "output_type": "stream",
     "text": [
      "total cells:  31552\n",
      "total perts:  4414\n",
      "number of nontargeting:  769\n"
     ]
    }
   ],
   "source": [
    "counts = {k:len(v) for k,v in cd.items()}\n",
    "plt.hist(list(counts.values()))\n",
    "plt.show()\n",
    "\n",
    "print('total cells: ', sum(list(counts.values())))\n",
    "print('total perts: ', len(counts))\n",
    "print('number of nontargeting: ', counts['nontargeting'])"
   ]
  },
  {
   "cell_type": "code",
   "execution_count": 18,
   "id": "cc26af94",
   "metadata": {},
   "outputs": [
    {
     "name": "stdout",
     "output_type": "stream",
     "text": [
      "DAPI:\n"
     ]
    },
    {
     "data": {
      "image/png": "[encoded data removed]",
      "text/plain": [
       "<Figure size 640x480 with 1 Axes>"
      ]
     },
     "metadata": {},
     "output_type": "display_data"
    },
    {
     "name": "stdout",
     "output_type": "stream",
     "text": [
      "GFP:\n"
     ]
    },
    {
     "data": {
      "text/plain": [
       "(np.float64(-0.5), np.float64(92.5), np.float64(101.5), np.float64(-0.5))"
      ]
     },
     "execution_count": 18,
     "metadata": {},
     "output_type": "execute_result"
    },
    {
     "data": {
      "image/png": "[encoded data removed]",
      "text/plain": [
       "<Figure size 640x480 with 1 Axes>"
      ]
     },
     "metadata": {},
     "output_type": "display_data"
    }
   ],
   "source": [
    "print('DAPI:')\n",
    "plt.imshow(cd['CCNT1'][100][0, :, :])\n",
    "plt.axis('off')\n",
    "plt.show()\n",
    "print('GFP:')\n",
    "plt.imshow(cd['CCNT1'][100][1, :, :])\n",
    "plt.axis('off')"
   ]
  },
  {
   "cell_type": "code",
   "execution_count": null,
   "id": "e168b023",
   "metadata": {},
   "outputs": [],
   "source": []
  }
 ],
 "metadata": {
  "kernelspec": {
   "display_name": "Python 3 (ipykernel)",
   "language": "python",
   "name": "python3"
  },
  "language_info": {
   "codemirror_mode": {
    "name": "ipython",
    "version": 3
   },
   "file_extension": ".py",
   "mimetype": "text/x-python",
   "name": "python",
   "nbconvert_exporter": "python",
   "pygments_lexer": "ipython3",
   "version": "3.11.12"
  }
 },
 "nbformat": 4,
 "nbformat_minor": 5
}
