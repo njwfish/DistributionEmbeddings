{
 "cells": [
  {
   "cell_type": "code",
   "execution_count": 5,
   "id": "8437e544",
   "metadata": {},
   "outputs": [],
   "source": [
    "import os\n",
    "import sys\n",
    "import pandas as pd\n",
    "import numpy as np\n",
    "import matplotlib.pyplot as plt\n",
    "from glob import glob\n",
    "from skimage import io\n",
    "import dask.dataframe as dd\n",
    "import dask\n",
    "from collections import defaultdict\n",
    "from pathlib import Path\n",
    "import torch\n",
    "from tqdm.notebook import tqdm\n",
    "\n",
    "\n",
    "# Import our utility functions\n",
    "sys.path.append('..')\n",
    "from notebooks.file_structure_utils import (\n",
    "    get_image_path,\n",
    "    get_available_channels,\n",
    ")\n",
    "\n",
    "data_dir = '/orcd/data/omarabu/001/njwfish/DistributionEmbeddings/data/ops'"
   ]
  },
  {
   "cell_type": "code",
   "execution_count": 35,
   "id": "5e1233b7",
   "metadata": {},
   "outputs": [],
   "source": [
    "pdf = pd.read_parquet(\n",
    "    data_dir+'/interphase-reclassified_cp_phenotype_normalized.parquet', \n",
    "    columns=['gene_symbol_0', 'plate', 'tile', 'well', 'bounds_0', 'bounds_1', 'bounds_2', 'bounds_3']\n",
    ")"
   ]
  },
  {
   "cell_type": "code",
   "execution_count": 81,
   "id": "0cf7749f",
   "metadata": {},
   "outputs": [],
   "source": [
    "import torch\n",
    "import torch.nn.functional as F\n",
    "\n",
    "def center_pad_tensor(img_tensor: torch.Tensor, target_size: tuple, pad_value: float = 0.0):\n",
    "    \"\"\"\n",
    "    Center pad a 3D tensor (C x H x W) to the given target size.\n",
    "    \n",
    "    Args:\n",
    "        img_tensor: torch.Tensor of shape (C, H, W)\n",
    "        target_size: Tuple (target_height, target_width)\n",
    "        pad_value: Scalar to use for padding.\n",
    "        \n",
    "    Returns:\n",
    "        torch.Tensor of shape (C, target_height, target_width)\n",
    "    \"\"\"\n",
    "    _, h, w = img_tensor.shape\n",
    "    target_h, target_w = target_size\n",
    "\n",
    "    pad_h = max(target_h - h, 0)\n",
    "    pad_w = max(target_w - w, 0)\n",
    "\n",
    "    # Padding format for 3D tensor is (pad_w_left, pad_w_right, pad_h_top, pad_h_bottom)\n",
    "    padding = [\n",
    "        pad_w // 2, pad_w - pad_w // 2,\n",
    "        pad_h // 2, pad_h - pad_h // 2\n",
    "    ]\n",
    "\n",
    "    return F.pad(img_tensor, padding, value=pad_value)\n",
    "\n",
    "\n",
    "def build_crop_dict(parquet_df, max_height=104, max_width=104, n_imgs=10):\n",
    "    \n",
    "    df = parquet_df\n",
    " \n",
    "    print('grouping by img, this takes ~1m')\n",
    "    grouped = defaultdict(list)\n",
    "    for row in df.itertuples():\n",
    "        grouped[(row.plate, row.well, row.tile)].append([\n",
    "            row.gene_symbol_0, \n",
    "            row.bounds_0, row.bounds_1, \n",
    "            row.bounds_2, row.bounds_3\n",
    "        ])\n",
    "\n",
    "    pert_dict = defaultdict(list)\n",
    "\n",
    "    for img_number, (img_path, entries) in tqdm(enumerate(grouped.items())):\n",
    "        plate, well, tile = img_path\n",
    "        available_channels = get_available_channels(plate, well, tile, base_dir=data_dir)\n",
    "        \n",
    "        if 'DAPI-GFP' in available_channels:\n",
    "            image_path = get_image_path(plate, well, tile, 'DAPI-GFP', data_dir, 'screenA')\n",
    "            \n",
    "            # Check if file exists\n",
    "            if not image_path or not os.path.exists(image_path):\n",
    "                print(f\"Warning: File not found\")\n",
    "                continue\n",
    "                \n",
    "            # Load full image\n",
    "            full_image = io.imread(image_path)\n",
    "            if len(full_image.shape) == 4 and full_image.shape[1] == 2:\n",
    "                # only use the first channel of the image since they are basically the same (diff resolutions maybe)\n",
    "                dapi_image = full_image[0, 0]\n",
    "                gfp_image = full_image[0, 1]\n",
    "\n",
    "                for ent in entries:\n",
    "                    # if the cell is too big, crop it to the max size\n",
    "                    if (ent[3] - ent[1]) > max_height:\n",
    "                        ent[1] = ent[1] + (ent[3] - ent[1] - max_height) // 2\n",
    "                        ent[3] = ent[1] + max_height\n",
    "                    if (ent[4] - ent[2]) > max_width:\n",
    "                        ent[2] = ent[2] + (ent[4] - ent[2] - max_width) // 2\n",
    "                        ent[4] = ent[2] + max_width\n",
    "                    dapi_cell_image = torch.tensor(dapi_image[ent[1]:ent[3], ent[2]:ent[4]])\n",
    "                    gfp_cell_image = torch.tensor(gfp_image[ent[1]:ent[3], ent[2]:ent[4]])\n",
    "                    stacked_image = torch.stack([\n",
    "                        torch.tensor(dapi_cell_image), \n",
    "                        torch.tensor(gfp_cell_image)\n",
    "                    ])\n",
    "                    padded_stacked_image = center_pad_tensor(stacked_image, (max_height, max_width))\n",
    "                    pert_dict[ent[0]].append(padded_stacked_image)\n",
    "\n",
    "        if img_number > n_imgs:\n",
    "            break\n",
    "\n",
    "    return pert_dict  # {perturbation: [list of (2, h, w)]}"
   ]
  },
  {
   "cell_type": "code",
   "execution_count": 82,
   "id": "2dfa7539",
   "metadata": {},
   "outputs": [
    {
     "name": "stdout",
     "output_type": "stream",
     "text": [
      "grouping by img, this takes ~1m\n"
     ]
    },
    {
     "data": {
      "application/vnd.jupyter.widget-view+json": {
       "model_id": "1e607654a221402b8a1273cf49106b91",
       "version_major": 2,
       "version_minor": 0
      },
      "text/plain": [
       "0it [00:00, ?it/s]"
      ]
     },
     "metadata": {},
     "output_type": "display_data"
    },
    {
     "name": "stderr",
     "output_type": "stream",
     "text": [
      "/tmp/ipykernel_4185045/2271490153.py:78: UserWarning: To copy construct from a tensor, it is recommended to use sourceTensor.clone().detach() or sourceTensor.clone().detach().requires_grad_(True), rather than torch.tensor(sourceTensor).\n",
      "  torch.tensor(dapi_cell_image),\n",
      "/tmp/ipykernel_4185045/2271490153.py:79: UserWarning: To copy construct from a tensor, it is recommended to use sourceTensor.clone().detach() or sourceTensor.clone().detach().requires_grad_(True), rather than torch.tensor(sourceTensor).\n",
      "  torch.tensor(gfp_cell_image)\n",
      "/tmp/ipykernel_4185045/2271490153.py:78: UserWarning: To copy construct from a tensor, it is recommended to use sourceTensor.clone().detach() or sourceTensor.clone().detach().requires_grad_(True), rather than torch.tensor(sourceTensor).\n",
      "  torch.tensor(dapi_cell_image),\n",
      "/tmp/ipykernel_4185045/2271490153.py:79: UserWarning: To copy construct from a tensor, it is recommended to use sourceTensor.clone().detach() or sourceTensor.clone().detach().requires_grad_(True), rather than torch.tensor(sourceTensor).\n",
      "  torch.tensor(gfp_cell_image)\n",
      "/tmp/ipykernel_4185045/2271490153.py:78: UserWarning: To copy construct from a tensor, it is recommended to use sourceTensor.clone().detach() or sourceTensor.clone().detach().requires_grad_(True), rather than torch.tensor(sourceTensor).\n",
      "  torch.tensor(dapi_cell_image),\n",
      "/tmp/ipykernel_4185045/2271490153.py:79: UserWarning: To copy construct from a tensor, it is recommended to use sourceTensor.clone().detach() or sourceTensor.clone().detach().requires_grad_(True), rather than torch.tensor(sourceTensor).\n",
      "  torch.tensor(gfp_cell_image)\n",
      "/tmp/ipykernel_4185045/2271490153.py:78: UserWarning: To copy construct from a tensor, it is recommended to use sourceTensor.clone().detach() or sourceTensor.clone().detach().requires_grad_(True), rather than torch.tensor(sourceTensor).\n",
      "  torch.tensor(dapi_cell_image),\n",
      "/tmp/ipykernel_4185045/2271490153.py:79: UserWarning: To copy construct from a tensor, it is recommended to use sourceTensor.clone().detach() or sourceTensor.clone().detach().requires_grad_(True), rather than torch.tensor(sourceTensor).\n",
      "  torch.tensor(gfp_cell_image)\n",
      "/tmp/ipykernel_4185045/2271490153.py:78: UserWarning: To copy construct from a tensor, it is recommended to use sourceTensor.clone().detach() or sourceTensor.clone().detach().requires_grad_(True), rather than torch.tensor(sourceTensor).\n",
      "  torch.tensor(dapi_cell_image),\n",
      "/tmp/ipykernel_4185045/2271490153.py:79: UserWarning: To copy construct from a tensor, it is recommended to use sourceTensor.clone().detach() or sourceTensor.clone().detach().requires_grad_(True), rather than torch.tensor(sourceTensor).\n",
      "  torch.tensor(gfp_cell_image)\n",
      "/tmp/ipykernel_4185045/2271490153.py:78: UserWarning: To copy construct from a tensor, it is recommended to use sourceTensor.clone().detach() or sourceTensor.clone().detach().requires_grad_(True), rather than torch.tensor(sourceTensor).\n",
      "  torch.tensor(dapi_cell_image),\n",
      "/tmp/ipykernel_4185045/2271490153.py:79: UserWarning: To copy construct from a tensor, it is recommended to use sourceTensor.clone().detach() or sourceTensor.clone().detach().requires_grad_(True), rather than torch.tensor(sourceTensor).\n",
      "  torch.tensor(gfp_cell_image)\n",
      "/tmp/ipykernel_4185045/2271490153.py:78: UserWarning: To copy construct from a tensor, it is recommended to use sourceTensor.clone().detach() or sourceTensor.clone().detach().requires_grad_(True), rather than torch.tensor(sourceTensor).\n",
      "  torch.tensor(dapi_cell_image),\n",
      "/tmp/ipykernel_4185045/2271490153.py:79: UserWarning: To copy construct from a tensor, it is recommended to use sourceTensor.clone().detach() or sourceTensor.clone().detach().requires_grad_(True), rather than torch.tensor(sourceTensor).\n",
      "  torch.tensor(gfp_cell_image)\n",
      "/tmp/ipykernel_4185045/2271490153.py:78: UserWarning: To copy construct from a tensor, it is recommended to use sourceTensor.clone().detach() or sourceTensor.clone().detach().requires_grad_(True), rather than torch.tensor(sourceTensor).\n",
      "  torch.tensor(dapi_cell_image),\n",
      "/tmp/ipykernel_4185045/2271490153.py:79: UserWarning: To copy construct from a tensor, it is recommended to use sourceTensor.clone().detach() or sourceTensor.clone().detach().requires_grad_(True), rather than torch.tensor(sourceTensor).\n",
      "  torch.tensor(gfp_cell_image)\n",
      "/tmp/ipykernel_4185045/2271490153.py:78: UserWarning: To copy construct from a tensor, it is recommended to use sourceTensor.clone().detach() or sourceTensor.clone().detach().requires_grad_(True), rather than torch.tensor(sourceTensor).\n",
      "  torch.tensor(dapi_cell_image),\n",
      "/tmp/ipykernel_4185045/2271490153.py:79: UserWarning: To copy construct from a tensor, it is recommended to use sourceTensor.clone().detach() or sourceTensor.clone().detach().requires_grad_(True), rather than torch.tensor(sourceTensor).\n",
      "  torch.tensor(gfp_cell_image)\n",
      "/tmp/ipykernel_4185045/2271490153.py:78: UserWarning: To copy construct from a tensor, it is recommended to use sourceTensor.clone().detach() or sourceTensor.clone().detach().requires_grad_(True), rather than torch.tensor(sourceTensor).\n",
      "  torch.tensor(dapi_cell_image),\n",
      "/tmp/ipykernel_4185045/2271490153.py:79: UserWarning: To copy construct from a tensor, it is recommended to use sourceTensor.clone().detach() or sourceTensor.clone().detach().requires_grad_(True), rather than torch.tensor(sourceTensor).\n",
      "  torch.tensor(gfp_cell_image)\n",
      "/tmp/ipykernel_4185045/2271490153.py:78: UserWarning: To copy construct from a tensor, it is recommended to use sourceTensor.clone().detach() or sourceTensor.clone().detach().requires_grad_(True), rather than torch.tensor(sourceTensor).\n",
      "  torch.tensor(dapi_cell_image),\n",
      "/tmp/ipykernel_4185045/2271490153.py:79: UserWarning: To copy construct from a tensor, it is recommended to use sourceTensor.clone().detach() or sourceTensor.clone().detach().requires_grad_(True), rather than torch.tensor(sourceTensor).\n",
      "  torch.tensor(gfp_cell_image)\n",
      "/tmp/ipykernel_4185045/2271490153.py:78: UserWarning: To copy construct from a tensor, it is recommended to use sourceTensor.clone().detach() or sourceTensor.clone().detach().requires_grad_(True), rather than torch.tensor(sourceTensor).\n",
      "  torch.tensor(dapi_cell_image),\n",
      "/tmp/ipykernel_4185045/2271490153.py:79: UserWarning: To copy construct from a tensor, it is recommended to use sourceTensor.clone().detach() or sourceTensor.clone().detach().requires_grad_(True), rather than torch.tensor(sourceTensor).\n",
      "  torch.tensor(gfp_cell_image)\n"
     ]
    }
   ],
   "source": [
    "cd = build_crop_dict(pdf, max_height=60, max_width=60, n_imgs=10)"
   ]
  },
  {
   "cell_type": "code",
   "execution_count": 33,
   "id": "2399ae0a",
   "metadata": {},
   "outputs": [
    {
     "data": {
      "image/png": "[encoded data removed]",
      "text/plain": [
       "<Figure size 640x480 with 1 Axes>"
      ]
     },
     "metadata": {},
     "output_type": "display_data"
    },
    {
     "name": "stdout",
     "output_type": "stream",
     "text": [
      "total cells:  31552\n",
      "total perts:  4414\n",
      "number of nontargeting:  769\n"
     ]
    }
   ],
   "source": [
    "counts = {k:len(v) for k,v in cd.items()}\n",
    "plt.hist(list(counts.values()))\n",
    "plt.show()\n",
    "\n",
    "print('total cells: ', sum(list(counts.values())))\n",
    "print('total perts: ', len(counts))\n",
    "print('number of nontargeting: ', counts['nontargeting'])"
   ]
  },
  {
   "cell_type": "code",
   "execution_count": 76,
   "id": "cc26af94",
   "metadata": {},
   "outputs": [
    {
     "name": "stdout",
     "output_type": "stream",
     "text": [
      "DAPI:\n"
     ]
    },
    {
     "data": {
      "image/png": "[encoded data removed]",
      "text/plain": [
       "<Figure size 640x480 with 1 Axes>"
      ]
     },
     "metadata": {},
     "output_type": "display_data"
    },
    {
     "name": "stdout",
     "output_type": "stream",
     "text": [
      "GFP:\n"
     ]
    },
    {
     "data": {
      "text/plain": [
       "(-0.5, 101.5, 101.5, -0.5)"
      ]
     },
     "execution_count": 76,
     "metadata": {},
     "output_type": "execute_result"
    },
    {
     "data": {
      "image/png": "[encoded data removed]",
      "text/plain": [
       "<Figure size 640x480 with 1 Axes>"
      ]
     },
     "metadata": {},
     "output_type": "display_data"
    }
   ],
   "source": [
    "print('DAPI:')\n",
    "plt.imshow(cd['CCNT1'][5][0, :, :])\n",
    "plt.axis('off')\n",
    "plt.show()\n",
    "print('GFP:')\n",
    "plt.imshow(cd['CCNT1'][5][1, :, :])\n",
    "plt.axis('off')"
   ]
  },
  {
   "cell_type": "code",
   "execution_count": null,
   "id": "e168b023",
   "metadata": {},
   "outputs": [],
   "source": []
  }
 ],
 "metadata": {
  "kernelspec": {
   "display_name": "cell-types",
   "language": "python",
   "name": "python3"
  },
  "language_info": {
   "codemirror_mode": {
    "name": "ipython",
    "version": 3
   },
   "file_extension": ".py",
   "mimetype": "text/x-python",
   "name": "python",
   "nbconvert_exporter": "python",
   "pygments_lexer": "ipython3",
   "version": "3.10.16"
  }
 },
 "nbformat": 4,
 "nbformat_minor": 5
}
