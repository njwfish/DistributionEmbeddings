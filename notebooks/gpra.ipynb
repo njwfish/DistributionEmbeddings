{
 "cells": [
  {
   "cell_type": "code",
   "execution_count": 1,
   "metadata": {},
   "outputs": [],
   "source": [
    "%load_ext autoreload\n",
    "%autoreload 2"
   ]
  },
  {
   "cell_type": "code",
   "execution_count": 2,
   "metadata": {},
   "outputs": [],
   "source": [
    "# imports\n",
    "from pathlib import Path\n",
    "import sys  \n",
    "\n",
    "# Get my_package directory path from Notebook\n",
    "parent_dir = str(Path().resolve().parents[0])\n",
    "\n",
    "# Add to sys.path\n",
    "sys.path.insert(0, parent_dir)\n"
   ]
  },
  {
   "cell_type": "code",
   "execution_count": 3,
   "metadata": {},
   "outputs": [],
   "source": [
    "from utils.experiment_utils import get_all_experiments_info, load_best_model\n",
    "\n",
    "device = 'cuda'\n",
    "configs = get_all_experiments_info('../outputs/', False)\n",
    "cfgs = [\n",
    "    c for c in configs if 'gpra_dna_exp' in c['name'] \n",
    "    and 'loss' in c['config']\n",
    "]   \n",
    "\n"
   ]
  },
  {
   "cell_type": "code",
   "execution_count": null,
   "metadata": {},
   "outputs": [
    {
     "data": {
      "text/plain": [
       "{'name': 'gpra_dna_exp_114a02dfe55efe58ac7a69f224288178',\n",
       " 'dir': '../outputs/gpra_dna_exp_114a02dfe55efe58ac7a69f224288178',\n",
       " 'config': {'dataset': {'_target_': 'datasets.gpra_dna_dataset.GPRADNADataset', 'data_dir': '/orcd/scratch/bcs/001/njwfish/data/gpra_by_quantile', 'set_size': '${experiment.set_size}', 'num_quantiles': 100, 'window_width': 3, 'max_seq_length': 129, 'encoder_tokenizer': 'dna', 'hyena_tokenizer': 'char', 'num_sets': None, 'seed': '${seed}'}, 'encoder': {'_target_': 'encoder.dna_conv_encoder.DNAConvEncoder', 'in_channels': 5, 'hidden_channels': 64, 'out_channels': 128, 'hidden_dim': 256, 'latent_dim': '${experiment.latent_dim}', 'num_layers': 3, 'kernel_size': 7, 'seq_length': '${dataset.max_seq_length}', 'pool_type': 'mean', 'agg_type': 'mean'}, 'model': {'_target_': 'types.NoneType'}, 'generator': {'_target_': 'generator.hyenadna_generator.HyenaDNAGenerator', 'latent_dim': '${experiment.latent_dim}', 'condition_dim': 128, 'd_model': 128, 'n_layer': 6, 'max_seq_len': '${dataset.max_seq_length}', 'condition_method': 'prefix', 'temperature': 1.0}, 'optimizer': {'_target_': 'torch.optim.Adam', '_partial_': True, 'lr': '${experiment.lr}', 'betas': [0.9, 0.999], 'eps': 1e-08, 'weight_decay': 0}, 'scheduler': {'_target_': 'torch.optim.lr_scheduler.ConstantLR', '_partial_': True}, 'training': {'_target_': 'training.Trainer', 'num_epochs': 100, 'log_interval': 1, 'save_interval': 1, 'eval_interval': 1, 'early_stopping': True, 'patience': 5, 'use_tqdm': False}, 'mixer': {'_target_': 'types.NoneType'}, 'wandb': {'_target_': 'wandb_utils.setup_wandb', 'project': 'distribution-embeddings', 'entity': None, 'name': None, 'mode': 'online', 'tags': [], 'notes': None, 'group': None, 'save_code': True}, 'experiment': {'name': 'gpra_dna_exp', 'description': 'GPRA DNA experiment with distribution embeddings using HyenaDNA', 'latent_dim': 64, 'hidden_dim': 256, 'set_size': 100, 'batch_size': 32, 'lr': 2e-05, 'weight_decay': 1e-05, 'esm_model_name': None, 'progen2_model_name': None}, 'loss': {'_target_': 'loss.default.LossManager', 'mask_context_prob': 0.0}, 'experiment_name': '${experiment.name}', 'seed': 42, 'device': 'cuda'},\n",
       " 'config_hash': '114a02dfe55efe58ac7a69f224288178',\n",
       " 'encoder': 'DNAConvEncoder',\n",
       " 'generator': 'HyenaDNAGenerator',\n",
       " 'model': 'NoneType',\n",
       " 'dataset': 'GPRADNADataset',\n",
       " 'latent_dim': 'N/A',\n",
       " 'training_epochs': 'N/A',\n",
       " 'batch_size': 'N/A',\n",
       " 'checkpoints': [],\n",
       " 'best_model': None,\n",
       " 'best_loss': 'N/A',\n",
       " 'best_epoch': 'N/A'}"
      ]
     },
     "execution_count": 4,
     "metadata": {},
     "output_type": "execute_result"
    }
   ],
   "source": [
    "cfgs[1]"
   ]
  },
  {
   "cell_type": "code",
   "execution_count": 5,
   "metadata": {},
   "outputs": [],
   "source": [
    "import torch\n",
    "import hydra\n",
    "\n",
    "def instantiate_and_load_model(config) -> torch.nn.Module:\n",
    "    \"\"\"\n",
    "    Instantiate and load a model from a checkpoint file.\n",
    "    \n",
    "    Args:\n",
    "        model_path: The path to the model checkpoint file\n",
    "        device: The device to load the model on\n",
    "\n",
    "    Returns:\n",
    "        The loaded model\n",
    "    \"\"\"\n",
    "    cfg = config['config']\n",
    "    encoder = hydra.utils.instantiate(cfg.encoder)\n",
    "    generator = hydra.utils.instantiate(cfg.generator)\n",
    "\n",
    "    checkpoint = torch.load(config['dir'] + '/best_model.pt', map_location=device, weights_only=False)\n",
    "    encoder.load_state_dict(checkpoint['encoder_state_dict'])\n",
    "    generator.model.load_state_dict(checkpoint['generator_state_dict'])\n",
    "    return encoder, generator\n",
    "\n",
    "enc, gen = instantiate_and_load_model(cfgs[1])"
   ]
  },
  {
   "cell_type": "code",
   "execution_count": 6,
   "metadata": {},
   "outputs": [],
   "source": [
    "dataset = hydra.utils.instantiate(cfgs[1]['config'].dataset)"
   ]
  },
  {
   "cell_type": "code",
   "execution_count": 7,
   "metadata": {},
   "outputs": [],
   "source": [
    "import os\n",
    "import numpy as np\n",
    "\n",
    "BASES = [\"A\", \"C\", \"G\", \"T\"]\n",
    "BASE_TO_IDX = {b: i for i, b in enumerate(BASES)}\n",
    "\n",
    "def load_pwm_file(path):\n",
    "    pwm = np.zeros((4, 0))\n",
    "    rows = {}\n",
    "    with open(path, \"r\") as f:\n",
    "        for line in f:\n",
    "            parts = line.strip().split()\n",
    "            if parts and parts[0] in BASE_TO_IDX:\n",
    "                base = parts[0]\n",
    "                rows[base] = list(map(float, parts[1:]))\n",
    "    if set(rows.keys()) != set(BASES):\n",
    "        raise ValueError(f\"Incomplete base rows in {path}\")\n",
    "    pwm = np.array([rows[b] for b in BASES])  # A,C,G,T order\n",
    "    return pwm\n",
    "\n",
    "def load_pwms_from_dir(pwm_dir):\n",
    "    motifs = []\n",
    "    names = []\n",
    "    for fname in os.listdir(pwm_dir):\n",
    "        if fname.endswith(\".pwm\"):\n",
    "            pwm = load_pwm_file(os.path.join(pwm_dir, fname))\n",
    "            motifs.append(pwm)\n",
    "            names.append(fname.replace(\".pwm\", \"\"))\n",
    "    max_L = max(p.shape[1] for p in motifs)\n",
    "    n = len(motifs)\n",
    "    pwm_arr = np.full((n, 4, max_L), -800.0, dtype=np.float32)\n",
    "    for i, p in enumerate(motifs):\n",
    "        pwm_arr[i, :, :p.shape[1]] = p\n",
    "    return pwm_arr, names  # shape: (n_motifs, 4, L_max)\n",
    "\n",
    "pwm_arr, names = load_pwms_from_dir('../data/gpra/pwms')\n",
    "pwm_arr = torch.from_numpy(pwm_arr)\n"
   ]
  },
  {
   "cell_type": "code",
   "execution_count": 8,
   "metadata": {},
   "outputs": [],
   "source": [
    "def torch_batch_scan(onehot, pwms):\n",
    "    n_seq, L_seq, _ = onehot.shape\n",
    "    n_pwm, _, L_pwm = pwms.shape\n",
    "\n",
    "    # Sliding window: (n_seq, L_seq, 4) → (n_seq, n_pos, L_pwm, 4)\n",
    "    windows = onehot.unfold(dimension=1, size=L_pwm, step=1)  # shape: (n_seq, n_pos, L_pwm, 4)\n",
    "    valid = (windows.sum(dim=2) == 1.0).all(dim=2)\n",
    "\n",
    "    # Dot product: (n_seq, n_pos, 4, L) · (n_pwm, 4, L) → (n_seq, n_pos, n_pwm)\n",
    "    scores = torch.einsum('spkl,mkl->spm', windows, pwms)\n",
    "\n",
    "    return scores, valid  # shape: (n_seq, n_pos, n_pwm)"
   ]
  },
  {
   "cell_type": "code",
   "execution_count": 9,
   "metadata": {},
   "outputs": [],
   "source": [
    "# scores_torch = torch_batch_scan(seqs[0], torch.from_numpy(pwm_arr))"
   ]
  },
  {
   "cell_type": "code",
   "execution_count": 10,
   "metadata": {},
   "outputs": [],
   "source": [
    "cond = 'GSE104878_20161024_average_promoter_ELs_per_seq_3p1E7_Gal_ALL'\n",
    "oh_seqs = {k: torch.from_numpy(np.vstack([batch['tokenized']['encoder_inputs'][..., :4] for batch in dataset.data_by_condition[cond][k]])) for k in dataset.data_by_condition[cond]}"
   ]
  },
  {
   "cell_type": "code",
   "execution_count": 11,
   "metadata": {},
   "outputs": [],
   "source": [
    "enc_seqs = {k: torch.from_numpy(np.vstack([batch['tokenized']['encoder_inputs'] for batch in dataset.data_by_condition[cond][k]])) for k in dataset.data_by_condition[cond]}"
   ]
  },
  {
   "cell_type": "code",
   "execution_count": 11,
   "metadata": {},
   "outputs": [
    {
     "data": {
      "text/plain": [
       "ConditionedHyenaDNA(\n",
       "  (model): HyenaDNAModel(\n",
       "    (backbone): LMBackbone(\n",
       "      (embeddings): GPT2Embeddings(\n",
       "        (word_embeddings): Embedding(10, 128)\n",
       "        (position_embeddings): Embedding(130, 128)\n",
       "      )\n",
       "      (layers): ModuleList(\n",
       "        (0): Block(\n",
       "          (mixer): HyenaOperator(\n",
       "            (dropout): Dropout(p=0.0, inplace=False)\n",
       "            (in_proj): Linear(in_features=128, out_features=384, bias=True)\n",
       "            (out_proj): Linear(in_features=128, out_features=128, bias=True)\n",
       "            (short_filter): Conv1d(384, 384, kernel_size=(3,), stride=(1,), padding=(2,), groups=384)\n",
       "            (filter_fn): HyenaFilter(\n",
       "              (dropout): Dropout(p=0.0, inplace=False)\n",
       "              (pos_emb): PositionalEmbedding()\n",
       "              (implicit_filter): Sequential(\n",
       "                (0): Linear(in_features=3, out_features=64, bias=True)\n",
       "                (1): Sin()\n",
       "                (2): Linear(in_features=64, out_features=64, bias=True)\n",
       "                (3): Sin()\n",
       "                (4): Linear(in_features=64, out_features=64, bias=True)\n",
       "                (5): Sin()\n",
       "                (6): Linear(in_features=64, out_features=128, bias=False)\n",
       "              )\n",
       "              (modulation): ExponentialModulation()\n",
       "            )\n",
       "          )\n",
       "          (dropout1): Dropout(p=0.1, inplace=False)\n",
       "          (drop_path1): StochasticDepth(p=0.0, mode=row)\n",
       "          (norm1): LayerNorm((128,), eps=1e-05, elementwise_affine=True)\n",
       "          (mlp): Mlp(\n",
       "            (fc1): Linear(in_features=128, out_features=512, bias=True)\n",
       "            (fc2): Linear(in_features=512, out_features=128, bias=True)\n",
       "          )\n",
       "          (dropout2): Dropout(p=0.0, inplace=False)\n",
       "          (drop_path2): StochasticDepth(p=0.0, mode=row)\n",
       "          (norm2): LayerNorm((128,), eps=1e-05, elementwise_affine=True)\n",
       "        )\n",
       "        (1-5): 5 x Block(\n",
       "          (mixer): HyenaOperator(\n",
       "            (dropout): Dropout(p=0.0, inplace=False)\n",
       "            (in_proj): Linear(in_features=128, out_features=384, bias=True)\n",
       "            (out_proj): Linear(in_features=128, out_features=128, bias=True)\n",
       "            (short_filter): Conv1d(384, 384, kernel_size=(3,), stride=(1,), padding=(2,), groups=384)\n",
       "            (filter_fn): HyenaFilter(\n",
       "              (dropout): Dropout(p=0.0, inplace=False)\n",
       "              (pos_emb): PositionalEmbedding()\n",
       "              (implicit_filter): Sequential(\n",
       "                (0): Linear(in_features=3, out_features=64, bias=True)\n",
       "                (1): Sin()\n",
       "                (2): Linear(in_features=64, out_features=64, bias=True)\n",
       "                (3): Sin()\n",
       "                (4): Linear(in_features=64, out_features=64, bias=True)\n",
       "                (5): Sin()\n",
       "                (6): Linear(in_features=64, out_features=128, bias=False)\n",
       "              )\n",
       "              (modulation): ExponentialModulation()\n",
       "            )\n",
       "          )\n",
       "          (dropout1): Dropout(p=0.0, inplace=False)\n",
       "          (drop_path1): StochasticDepth(p=0.0, mode=row)\n",
       "          (norm1): LayerNorm((128,), eps=1e-05, elementwise_affine=True)\n",
       "          (mlp): Mlp(\n",
       "            (fc1): Linear(in_features=128, out_features=512, bias=True)\n",
       "            (fc2): Linear(in_features=512, out_features=128, bias=True)\n",
       "          )\n",
       "          (dropout2): Dropout(p=0.0, inplace=False)\n",
       "          (drop_path2): StochasticDepth(p=0.0, mode=row)\n",
       "          (norm2): LayerNorm((128,), eps=1e-05, elementwise_affine=True)\n",
       "        )\n",
       "      )\n",
       "      (drop_f): Dropout(p=0.0, inplace=False)\n",
       "      (ln_f): LayerNorm((128,), eps=1e-05, elementwise_affine=True)\n",
       "    )\n",
       "  )\n",
       "  (lm_head): Linear(in_features=128, out_features=10, bias=True)\n",
       "  (condition_proj): Sequential(\n",
       "    (0): Linear(in_features=64, out_features=128, bias=True)\n",
       "    (1): GELU(approximate='none')\n",
       "    (2): Linear(in_features=128, out_features=128, bias=True)\n",
       "  )\n",
       ")"
      ]
     },
     "execution_count": 11,
     "metadata": {},
     "output_type": "execute_result"
    }
   ],
   "source": [
    "enc.to('cuda')\n",
    "gen.model.to('cuda')"
   ]
  },
  {
   "cell_type": "code",
   "execution_count": 30,
   "metadata": {},
   "outputs": [],
   "source": [
    "# gc and clear cahce\n",
    "import gc\n",
    "gc.collect()\n",
    "torch.cuda.empty_cache()\n"
   ]
  },
  {
   "cell_type": "code",
   "execution_count": 12,
   "metadata": {},
   "outputs": [],
   "source": [
    "enc_seqs = {k: torch.from_numpy(np.vstack([batch['tokenized']['encoder_inputs'] for batch in dataset.data_by_condition[cond][k]])) for k in dataset.data_by_condition[cond]}"
   ]
  },
  {
   "cell_type": "code",
   "execution_count": 13,
   "metadata": {},
   "outputs": [],
   "source": [
    "with torch.no_grad():\n",
    "    lats = {k: enc(enc_seqs[k][:10_000].to('cuda').unsqueeze(1)).cpu().numpy() for k in enc_seqs}"
   ]
  },
  {
   "cell_type": "code",
   "execution_count": 14,
   "metadata": {},
   "outputs": [
    {
     "ename": "NameError",
     "evalue": "name 'plt' is not defined",
     "output_type": "error",
     "traceback": [
      "\u001b[0;31m---------------------------------------------------------------------------\u001b[0m",
      "\u001b[0;31mNameError\u001b[0m                                 Traceback (most recent call last)",
      "Cell \u001b[0;32mIn[14], line 17\u001b[0m\n\u001b[1;32m     14\u001b[0m np\u001b[38;5;241m.\u001b[39msave(\u001b[38;5;124m'\u001b[39m\u001b[38;5;124m../numerical_results/gpra_embedding.npy\u001b[39m\u001b[38;5;124m'\u001b[39m, embedding)\n\u001b[1;32m     16\u001b[0m \u001b[38;5;66;03m# Plot with colorbar\u001b[39;00m\n\u001b[0;32m---> 17\u001b[0m \u001b[43mplt\u001b[49m\u001b[38;5;241m.\u001b[39mfigure(figsize\u001b[38;5;241m=\u001b[39m(\u001b[38;5;241m10\u001b[39m,\u001b[38;5;241m8\u001b[39m))\n\u001b[1;32m     18\u001b[0m scatter \u001b[38;5;241m=\u001b[39m plt\u001b[38;5;241m.\u001b[39mscatter(embedding[:,\u001b[38;5;241m0\u001b[39m], embedding[:,\u001b[38;5;241m1\u001b[39m], c\u001b[38;5;241m=\u001b[39mlabels[idx], cmap\u001b[38;5;241m=\u001b[39m\u001b[38;5;124m'\u001b[39m\u001b[38;5;124mviridis\u001b[39m\u001b[38;5;124m'\u001b[39m, alpha\u001b[38;5;241m=\u001b[39m\u001b[38;5;241m0.5\u001b[39m, s\u001b[38;5;241m=\u001b[39m\u001b[38;5;241m0.1\u001b[39m)\n\u001b[1;32m     19\u001b[0m plt\u001b[38;5;241m.\u001b[39mcolorbar(scatter, label\u001b[38;5;241m=\u001b[39m\u001b[38;5;124m'\u001b[39m\u001b[38;5;124mQuantile\u001b[39m\u001b[38;5;124m'\u001b[39m)\n",
      "\u001b[0;31mNameError\u001b[0m: name 'plt' is not defined"
     ]
    }
   ],
   "source": [
    "# Stack all latents and create labels\n",
    "all_lats = np.vstack([lats[k] for k in sorted(lats.keys())])\n",
    "labels = np.concatenate([[k]*len(lats[k]) for k in sorted(lats.keys())])\n",
    "\n",
    "# Create UMAP embedding\n",
    "import umap\n",
    "reducer = umap.UMAP()\n",
    "# can we fit on a subset and then use the same embedding for all?\n",
    "# random 100k\n",
    "idx = np.random.permutation(len(all_lats))[:100_000]\n",
    "embedding = reducer.fit_transform(all_lats[idx])\n",
    "embedding = reducer.transform(all_lats[idx])\n",
    "# save embedding to numerical results\n",
    "np.save('../numerical_results/gpra_embedding.npy', embedding)\n",
    "\n",
    "# Plot with colorbar\n",
    "plt.figure(figsize=(10,8))\n",
    "scatter = plt.scatter(embedding[:,0], embedding[:,1], c=labels[idx], cmap='viridis', alpha=0.5, s=0.1)\n",
    "plt.colorbar(scatter, label='Quantile')\n",
    "plt.title('UMAP of Latent Space Colored by Quantile')\n",
    "plt.xlabel('UMAP 1')\n",
    "plt.ylabel('UMAP 2')\n",
    "# remove ticks\n",
    "plt.xticks([])\n",
    "plt.yticks([])\n",
    "plt.tight_layout()\n",
    "plt.show()\n"
   ]
  },
  {
   "cell_type": "code",
   "execution_count": 234,
   "metadata": {},
   "outputs": [],
   "source": [
    "with torch.no_grad():\n",
    "    set_lats = {k: enc(enc_seqs[k][:100_000].to('cuda').unsqueeze(0)).cpu().numpy() for k in enc_seqs}"
   ]
  },
  {
   "cell_type": "code",
   "execution_count": 243,
   "metadata": {},
   "outputs": [],
   "source": [
    "# concat set_lats into a single array\n",
    "with torch.no_grad():\n",
    "    all_lats = np.vstack([set_lats[k] for k in sorted(set_lats.keys())])\n",
    "    all_lats_ = np.repeat(all_lats, 100, axis=0)\n",
    "    rec = gen.sample(torch.from_numpy(all_lats_).to('cuda'), num_samples=100)\n",
    "rec = rec.reshape(98, 100 * 100, 129)"
   ]
  },
  {
   "cell_type": "code",
   "execution_count": 244,
   "metadata": {},
   "outputs": [],
   "source": [
    "# save rec\n",
    "np.save('rec.npy', rec.cpu().numpy())"
   ]
  },
  {
   "cell_type": "code",
   "execution_count": 10,
   "metadata": {},
   "outputs": [],
   "source": [
    "import numpy as np\n",
    "# load rec\n",
    "rec = np.load('rec.npy')\n",
    "# convert tokenized to onehot efficiently"
   ]
  },
  {
   "cell_type": "code",
   "execution_count": 20,
   "metadata": {},
   "outputs": [],
   "source": [
    "# convert tokenized to onehot efficiently\n",
    "actgn = torch.eye(5)\n",
    "\n",
    "def roll_rows(x: torch.Tensor, shifts: torch.Tensor) -> torch.Tensor:\n",
    "    \"\"\"\n",
    "    Roll each row of x by the amount specified in shifts.\n",
    "    \n",
    "    Args:\n",
    "        x (Tensor): 2D tensor of shape (n_rows, n_cols)\n",
    "        shifts (Tensor): 1D tensor of shape (n_rows,) with integer shifts per row\n",
    "\n",
    "    Returns:\n",
    "        Tensor: Rolled version of x\n",
    "    \"\"\"\n",
    "    n_rows, n_cols = x.shape\n",
    "    # Create a base index tensor\n",
    "    idx = torch.arange(n_cols, device=x.device).expand(n_rows, -1)\n",
    "    # Shift indices with broadcasting\n",
    "    shifted_idx = (idx - shifts[:, None]) % n_cols\n",
    "    return x.gather(1, shifted_idx)\n",
    "\n",
    "\n",
    "def tokenized_to_onehot(tok):\n",
    "    tok = tok.flip(1)\n",
    "    num_pad = (tok == 1).sum(dim=1)\n",
    "    tok = tok - 5\n",
    "    tok = roll_rows(tok, -num_pad)\n",
    "    tok[tok < 0] = 4\n",
    "    tok_oh = actgn[tok]\n",
    "    return tok_oh\n"
   ]
  },
  {
   "cell_type": "code",
   "execution_count": 15,
   "metadata": {},
   "outputs": [],
   "source": [
    "rec = torch.from_numpy(rec)"
   ]
  },
  {
   "cell_type": "code",
   "execution_count": 21,
   "metadata": {},
   "outputs": [],
   "source": [
    "rec_oh = tokenized_to_onehot(rec.reshape(-1, 129).cpu()).reshape(rec.shape[0], -1, 5).reshape(rec.shape[0], -1, 129, 5)"
   ]
  },
  {
   "cell_type": "code",
   "execution_count": 38,
   "metadata": {},
   "outputs": [
    {
     "data": {
      "text/plain": [
       "torch.Size([182100, 129, 4])"
      ]
     },
     "execution_count": 38,
     "metadata": {},
     "output_type": "execute_result"
    }
   ],
   "source": [
    "oh_seqs[92].shape"
   ]
  },
  {
   "cell_type": "code",
   "execution_count": 39,
   "metadata": {},
   "outputs": [
    {
     "name": "stderr",
     "output_type": "stream",
     "text": [
      "  0%|          | 0/96 [00:00<?, ?it/s]"
     ]
    },
    {
     "name": "stderr",
     "output_type": "stream",
     "text": [
      "100%|██████████| 96/96 [05:59<00:00,  3.74s/it]\n"
     ]
    }
   ],
   "source": [
    "from tqdm import tqdm\n",
    "rec_scores = {}\n",
    "for k in tqdm(range(2, 98)):\n",
    "    batch_scores, valid = torch_batch_scan(oh_seqs[k][:10000].float(), pwm_arr) #.mean(axis=0).mean(axis=0).numpy()\n",
    "    batch_scores[~valid] = 0.0\n",
    "    batch_scores = batch_scores.numpy()\n",
    "    rec_scores[k] = (batch_scores >= 5.0).sum(axis=1).mean(axis=0)"
   ]
  },
  {
   "cell_type": "code",
   "execution_count": null,
   "metadata": {},
   "outputs": [
    {
     "name": "stderr",
     "output_type": "stream",
     "text": [
      "  0%|          | 0/96 [00:00<?, ?it/s]"
     ]
    },
    {
     "name": "stderr",
     "output_type": "stream",
     "text": [
      "100%|██████████| 96/96 [05:52<00:00,  3.67s/it]\n"
     ]
    }
   ],
   "source": [
    "from tqdm import tqdm\n",
    "ori_scores = {}\n",
    "for k in tqdm(range(2, 98)):\n",
    "    batch_scores, valid = torch_batch_scan(rec_oh[k-2].float(), pwm_arr) #.mean(axis=0).mean(axis=0).numpy()\n",
    "    batch_scores[~valid] = 0.0\n",
    "    batch_scores = batch_scores.numpy()\n",
    "    rec_scores[k] = (batch_scores >= 5.0).sum(axis=1).mean(axis=0)"
   ]
  },
  {
   "cell_type": "code",
   "execution_count": 29,
   "metadata": {},
   "outputs": [],
   "source": [
    "ori_scores = rec_scores"
   ]
  },
  {
   "cell_type": "code",
   "execution_count": null,
   "metadata": {},
   "outputs": [],
   "source": []
  },
  {
   "cell_type": "code",
   "execution_count": 32,
   "metadata": {},
   "outputs": [
    {
     "data": {
      "text/plain": [
       "(1887,)"
      ]
     },
     "execution_count": 32,
     "metadata": {},
     "output_type": "execute_result"
    }
   ],
   "source": [
    "ori_scores[90].shape"
   ]
  },
  {
   "cell_type": "code",
   "execution_count": 34,
   "metadata": {},
   "outputs": [
    {
     "data": {
      "image/png": "[encoded data removed]",
      "text/plain": [
       "<Figure size 1200x600 with 2 Axes>"
      ]
     },
     "metadata": {},
     "output_type": "display_data"
    }
   ],
   "source": [
    "import matplotlib.pyplot as plt\n",
    "import numpy as np\n",
    "\n",
    "# Create figure\n",
    "fig = plt.figure(figsize=(12, 6))\n",
    "ax = fig.add_subplot(111)  # Add axes explicitly\n",
    "\n",
    "# Get colormap for 100 quantiles\n",
    "cmap = plt.cm.viridis\n",
    "norm = plt.Normalize(vmin=0, vmax=99)  # 100 quantiles from 0-99\n",
    "\n",
    "# Plot histogram for each quantile with alpha based on quantile number\n",
    "for k in sorted(ori_scores.keys()):\n",
    "    color = cmap(norm(k))\n",
    "    ax.hist(ori_scores[k][ori_scores[k] > 0.0], bins=50, alpha=0.5, \n",
    "            color=color, density=True, label=None)\n",
    "\n",
    "ax.set_xlabel('PWM Scores')\n",
    "ax.set_ylabel('Density')\n",
    "ax.set_title('Distribution of PWM Scores Across 100 Quantiles')\n",
    "\n",
    "# Add colorbar - this is the fixed part\n",
    "sm = plt.cm.ScalarMappable(cmap=cmap, norm=norm)\n",
    "sm.set_array([])  # This line fixes the error\n",
    "plt.colorbar(sm, ax=ax, label='Quantile')  # Provide the ax parameter\n",
    "\n",
    "plt.tight_layout()\n",
    "plt.show()\n"
   ]
  },
  {
   "cell_type": "code",
   "execution_count": 40,
   "metadata": {},
   "outputs": [
    {
     "data": {
      "image/png": "[encoded data removed]",
      "text/plain": [
       "<Figure size 1200x600 with 2 Axes>"
      ]
     },
     "metadata": {},
     "output_type": "display_data"
    }
   ],
   "source": [
    "import matplotlib.pyplot as plt\n",
    "import numpy as np\n",
    "\n",
    "# Create figure\n",
    "fig = plt.figure(figsize=(12, 6))\n",
    "ax = fig.add_subplot(111)  # Add axes explicitly\n",
    "\n",
    "# Get colormap for 100 quantiles\n",
    "cmap = plt.cm.viridis\n",
    "norm = plt.Normalize(vmin=0, vmax=99)  # 100 quantiles from 0-99\n",
    "\n",
    "# Plot histogram for each quantile with alpha based on quantile number\n",
    "for k in sorted(rec_scores.keys()):\n",
    "    color = cmap(norm(k))\n",
    "    ax.hist(rec_scores[k][rec_scores[k] > 0.0], bins=50, alpha=0.5, \n",
    "            color=color, density=True, label=None)\n",
    "\n",
    "ax.set_xlabel('PWM Scores')\n",
    "ax.set_ylabel('Density')\n",
    "ax.set_title('Distribution of PWM Scores Across 100 Quantiles')\n",
    "\n",
    "# Add colorbar - this is the fixed part\n",
    "sm = plt.cm.ScalarMappable(cmap=cmap, norm=norm)\n",
    "sm.set_array([])  # This line fixes the error\n",
    "plt.colorbar(sm, ax=ax, label='Quantile')  # Provide the ax parameter\n",
    "\n",
    "plt.tight_layout()\n",
    "plt.show()"
   ]
  },
  {
   "cell_type": "code",
   "execution_count": null,
   "metadata": {},
   "outputs": [],
   "source": []
  }
 ],
 "metadata": {
  "kernelspec": {
   "display_name": "cell-types",
   "language": "python",
   "name": "python3"
  },
  "language_info": {
   "codemirror_mode": {
    "name": "ipython",
    "version": 3
   },
   "file_extension": ".py",
   "mimetype": "text/x-python",
   "name": "python",
   "nbconvert_exporter": "python",
   "pygments_lexer": "ipython3",
   "version": "3.10.16"
  }
 },
 "nbformat": 4,
 "nbformat_minor": 2
}
