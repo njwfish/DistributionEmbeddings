{
 "cells": [
  {
   "cell_type": "markdown",
   "id": "56a460e1",
   "metadata": {},
   "source": [
    "`python3 main.py experiment=dna_multinomial training.num_epochs=10000 training.eval_interval=1000 training.save_interval=1000 training.log_interval=100`"
   ]
  },
  {
   "cell_type": "code",
   "execution_count": 1,
   "id": "88f0d2c2",
   "metadata": {},
   "outputs": [],
   "source": [
    "from utils.experiment_utils import get_all_experiments_info, load_best_model\n",
    "import torch\n",
    "import os\n",
    "import hydra\n",
    "from omegaconf import DictConfig, OmegaConf\n",
    "\n",
    "import numpy as np\n",
    "import seaborn as sns\n",
    "import pandas as pd\n",
    "import matplotlib.pyplot as plt\n",
    "\n",
    "from mixer.mixer import SetMixer\n",
    "from datasets.synthetic_dna import SyntheticDNADataset\n",
    "\n",
    "from torch.utils.data import DataLoader\n",
    "from itertools import product\n",
    "\n",
    "from scipy.linalg import sqrtm\n",
    "import ternary"
   ]
  },
  {
   "cell_type": "code",
   "execution_count": 2,
   "id": "7336cd46",
   "metadata": {},
   "outputs": [
    {
     "data": {
      "text/plain": [
       "{'name': 'dna_multinomial_b6de4f0788a762a0ee13bded40ed432c',\n",
       " 'dir': 'outputs/dna_multinomial_b6de4f0788a762a0ee13bded40ed432c',\n",
       " 'config': {'dataset': {'_target_': 'datasets.synthetic_dna.SyntheticDNADataset', 'num_sets': 3, 'set_size': '${experiment.set_size}', 'pattern_length': 4, 'seq_length': 10, 'num_patterns_per_set': 1, 'nucleotides': ['A', 'C', 'G', 'T'], 'max_seq_length': 12, 'seed': '${seed}'}, 'encoder': {'_target_': 'encoder.dna_conv_encoder.DNAConvEncoder', 'in_channels': 5, 'hidden_channels': 64, 'out_channels': 128, 'hidden_dim': 256, 'latent_dim': '${experiment.latent_dim}', 'num_layers': 3, 'kernel_size': 7, 'seq_length': '${dataset.max_seq_length}', 'pool_type': 'mean', 'agg_type': 'mean'}, 'model': {'_target_': 'types.NoneType'}, 'generator': {'_target_': 'generator.hyenadna_generator.HyenaDNAGenerator', 'latent_dim': '${experiment.latent_dim}', 'condition_dim': 128, 'd_model': 128, 'n_layer': 6, 'max_seq_len': '${dataset.max_seq_length}', 'condition_method': 'prefix', 'temperature': 1.0}, 'optimizer': {'_target_': 'torch.optim.Adam', '_partial_': True, 'lr': '${experiment.lr}', 'betas': [0.9, 0.999], 'eps': 1e-08, 'weight_decay': 0}, 'scheduler': {'_target_': 'torch.optim.lr_scheduler.ConstantLR', '_partial_': True}, 'training': {'_target_': 'training.Trainer', 'num_epochs': 100000, 'log_interval': 100, 'save_interval': 1000, 'eval_interval': 1000, 'early_stopping': True, 'patience': 5, 'use_tqdm': False, 'mask_context_prob': 0.0}, 'mixer': {'_target_': 'mixer.mixer.SetMixer', 'k': '${experiment.n_mix}', 'alpha': '${experiment.alpha}'}, 'wandb': {'_target_': 'wandb_utils.setup_wandb', 'project': 'distribution-embeddings', 'entity': None, 'name': None, 'mode': 'online', 'tags': [], 'notes': None, 'group': None, 'save_code': True}, 'experiment': {'name': 'dna_multinomial', 'description': 'Multinomial DNA', 'latent_dim': 64, 'hidden_dim': 128, 'batch_size': 8, 'set_size': 100, 'n_mix': 3, 'alpha': 1.0, 'lr': 0.0002}, 'experiment_name': '${experiment.name}', 'seed': 42, 'device': 'cuda'},\n",
       " 'config_hash': 'b6de4f0788a762a0ee13bded40ed432c',\n",
       " 'encoder': 'DNAConvEncoder',\n",
       " 'generator': 'HyenaDNAGenerator',\n",
       " 'model': 'NoneType',\n",
       " 'dataset': 'SyntheticDNADataset',\n",
       " 'latent_dim': 'N/A',\n",
       " 'training_epochs': 'N/A',\n",
       " 'batch_size': 'N/A',\n",
       " 'checkpoints': [],\n",
       " 'best_model': None,\n",
       " 'best_loss': 'N/A',\n",
       " 'best_epoch': 'N/A'}"
      ]
     },
     "execution_count": 2,
     "metadata": {},
     "output_type": "execute_result"
    }
   ],
   "source": [
    "device = 'cuda'\n",
    "configs = get_all_experiments_info('outputs/', False)\n",
    "cfg = [c for c in configs if 'dna_multinomial' in c['name'] \n",
    "                    and c['config']['training']['num_epochs'] == 100000]\n",
    "cfg = cfg[0]\n",
    "cfg"
   ]
  },
  {
   "cell_type": "code",
   "execution_count": 3,
   "id": "145a75eb",
   "metadata": {},
   "outputs": [],
   "source": [
    "def load_model(cfg, path, device):\n",
    "    enc = hydra.utils.instantiate(cfg['encoder'])\n",
    "    gen = hydra.utils.instantiate(cfg['generator'])\n",
    "    state = load_best_model(path)\n",
    "    enc.load_state_dict(state['encoder_state_dict'])\n",
    "    gen.model.load_state_dict(state['generator_state_dict'])\n",
    "    enc.eval()\n",
    "    gen.model.eval()\n",
    "    enc.to(device)\n",
    "    gen.model.to(device)\n",
    "    return enc, gen\n",
    "\n",
    "def simplex_grid(dim, points_per_dim):\n",
    "    lin = np.linspace(0, 1, points_per_dim)\n",
    "    grid = np.array(list(product(*([lin] * dim))))\n",
    "    grid = grid[np.isclose(grid.sum(axis=1), 1)]  # keep only rows that sum to 1\n",
    "    return grid\n"
   ]
  },
  {
   "cell_type": "code",
   "execution_count": 4,
   "id": "ab9abc57",
   "metadata": {},
   "outputs": [],
   "source": [
    "dataset = hydra.utils.instantiate(cfg['config']['dataset'])\n",
    "mixer = hydra.utils.instantiate(cfg['config']['mixer'])\n",
    "enc, gen = load_model(cfg['config'], cfg['dir'], 'cuda')"
   ]
  },
  {
   "cell_type": "code",
   "execution_count": 5,
   "id": "ed89cdc7",
   "metadata": {},
   "outputs": [],
   "source": [
    "def recursive_collate(batch_part):\n",
    "            if isinstance(batch_part[0], torch.Tensor):\n",
    "                return torch.stack(batch_part)\n",
    "            elif isinstance(batch_part[0], dict):\n",
    "                return {key: recursive_collate([b[key] for b in batch_part]) for key in batch_part[0]}\n",
    "            else:\n",
    "                return batch_part  # for strings, lists, or other non-tensor data\n",
    "            \n",
    "collated = recursive_collate([dataset.__getitem__(i) for i in range(3)])"
   ]
  },
  {
   "cell_type": "code",
   "execution_count": 6,
   "id": "e75b1ef7",
   "metadata": {},
   "outputs": [
    {
     "name": "stdout",
     "output_type": "stream",
     "text": [
      "[[0.         0.         1.        ]\n",
      " [0.         0.11111111 0.88888889]\n",
      " [0.         0.22222222 0.77777778]\n",
      " [0.         0.33333333 0.66666667]\n",
      " [0.         0.44444444 0.55555556]\n",
      " [0.         0.55555556 0.44444444]\n",
      " [0.         0.66666667 0.33333333]\n",
      " [0.         0.77777778 0.22222222]\n",
      " [0.         0.88888889 0.11111111]\n",
      " [0.         1.         0.        ]\n",
      " [0.11111111 0.         0.88888889]\n",
      " [0.11111111 0.11111111 0.77777778]\n",
      " [0.11111111 0.22222222 0.66666667]\n",
      " [0.11111111 0.33333333 0.55555556]\n",
      " [0.11111111 0.44444444 0.44444444]\n",
      " [0.11111111 0.55555556 0.33333333]\n",
      " [0.11111111 0.66666667 0.22222222]\n",
      " [0.11111111 0.77777778 0.11111111]\n",
      " [0.11111111 0.88888889 0.        ]\n",
      " [0.22222222 0.         0.77777778]\n",
      " [0.22222222 0.11111111 0.66666667]\n",
      " [0.22222222 0.22222222 0.55555556]\n",
      " [0.22222222 0.33333333 0.44444444]\n",
      " [0.22222222 0.44444444 0.33333333]\n",
      " [0.22222222 0.55555556 0.22222222]\n",
      " [0.22222222 0.66666667 0.11111111]\n",
      " [0.22222222 0.77777778 0.        ]\n",
      " [0.33333333 0.         0.66666667]\n",
      " [0.33333333 0.11111111 0.55555556]\n",
      " [0.33333333 0.22222222 0.44444444]\n",
      " [0.33333333 0.33333333 0.33333333]\n",
      " [0.33333333 0.44444444 0.22222222]\n",
      " [0.33333333 0.55555556 0.11111111]\n",
      " [0.33333333 0.66666667 0.        ]\n",
      " [0.44444444 0.         0.55555556]\n",
      " [0.44444444 0.11111111 0.44444444]\n",
      " [0.44444444 0.22222222 0.33333333]\n",
      " [0.44444444 0.33333333 0.22222222]\n",
      " [0.44444444 0.44444444 0.11111111]\n",
      " [0.44444444 0.55555556 0.        ]\n",
      " [0.55555556 0.         0.44444444]\n",
      " [0.55555556 0.11111111 0.33333333]\n",
      " [0.55555556 0.22222222 0.22222222]\n",
      " [0.55555556 0.33333333 0.11111111]\n",
      " [0.55555556 0.44444444 0.        ]\n",
      " [0.66666667 0.         0.33333333]\n",
      " [0.66666667 0.11111111 0.22222222]\n",
      " [0.66666667 0.22222222 0.11111111]\n",
      " [0.66666667 0.33333333 0.        ]\n",
      " [0.77777778 0.         0.22222222]\n",
      " [0.77777778 0.11111111 0.11111111]\n",
      " [0.77777778 0.22222222 0.        ]\n",
      " [0.88888889 0.         0.11111111]\n",
      " [0.88888889 0.11111111 0.        ]\n",
      " [1.         0.         0.        ]]\n"
     ]
    }
   ],
   "source": [
    "points_per_dim = 10\n",
    "k = 3\n",
    "set_size = 100\n",
    "\n",
    "mix_probs_labels = simplex_grid(k, points_per_dim)\n",
    "\n",
    "print(mix_probs_labels)\n",
    "\n",
    "mixer = SetMixer(k=k, mixed_set_size=set_size, \n",
    "                n_mixed_sets=len(mix_probs_labels))\n",
    "\n",
    "mixed_sets = mixer.prescribed_mixing(collated, \n",
    "                                     torch.tensor(mix_probs_labels))"
   ]
  },
  {
   "cell_type": "code",
   "execution_count": 7,
   "id": "8fa1e9b1",
   "metadata": {},
   "outputs": [
    {
     "name": "stdout",
     "output_type": "stream",
     "text": [
      "text shape 55 100 10\n"
     ]
    }
   ],
   "source": [
    "samples = mixed_sets['samples']\n",
    "for k, v in samples.items():\n",
    "    if isinstance(v, torch.Tensor):\n",
    "        samples[k] = v.to('cuda').to(torch.float)\n",
    "\n",
    "with torch.no_grad():\n",
    "    latent = enc(samples)\n",
    "    rec = gen.sample(latent, num_samples=100, return_texts=True)\n",
    "    texts = rec[1]"
   ]
  },
  {
   "cell_type": "code",
   "execution_count": 8,
   "id": "64992d90",
   "metadata": {},
   "outputs": [],
   "source": [
    "patterns = [p[0] for p in dataset.patterns]\n",
    "ests = []\n",
    "for seq_set in texts:\n",
    "    compositions = [0, 0, 0]\n",
    "    for seq in seq_set:\n",
    "        for pattern in patterns:\n",
    "            if pattern in seq:\n",
    "                compositions[patterns.index(pattern)] += 1\n",
    "            continue\n",
    "    ests.append(np.array(compositions)/sum(compositions))"
   ]
  },
  {
   "cell_type": "code",
   "execution_count": 9,
   "id": "1fa57b0e",
   "metadata": {},
   "outputs": [
    {
     "data": {
      "text/plain": [
       "[array([0.03, 0.01, 0.96]),\n",
       " array([0.01, 0.09, 0.9 ]),\n",
       " array([0.04, 0.2 , 0.76]),\n",
       " array([0.01, 0.26, 0.73]),\n",
       " array([0.02, 0.38, 0.6 ]),\n",
       " array([0.  , 0.56, 0.44]),\n",
       " array([0.01980198, 0.68316832, 0.2970297 ]),\n",
       " array([0.05, 0.73, 0.22]),\n",
       " array([0.01010101, 0.81818182, 0.17171717]),\n",
       " array([0.09, 0.88, 0.03]),\n",
       " array([0.15, 0.  , 0.85]),\n",
       " array([0.13, 0.09, 0.78]),\n",
       " array([0.16, 0.38, 0.46]),\n",
       " array([0.05, 0.31, 0.64]),\n",
       " array([0.09, 0.45, 0.46]),\n",
       " array([0.14, 0.58, 0.28]),\n",
       " array([0.06, 0.69, 0.25]),\n",
       " array([0.06, 0.87, 0.07]),\n",
       " array([0.08, 0.88, 0.04]),\n",
       " array([0.16, 0.01, 0.83]),\n",
       " array([0.21, 0.09, 0.7 ]),\n",
       " array([0.25, 0.24, 0.51]),\n",
       " array([0.27, 0.39, 0.34]),\n",
       " array([0.2 , 0.44, 0.36]),\n",
       " array([0.23, 0.62, 0.15]),\n",
       " array([0.16161616, 0.75757576, 0.08080808]),\n",
       " array([0.20792079, 0.79207921, 0.        ]),\n",
       " array([0.25, 0.02, 0.73]),\n",
       " array([0.27, 0.05, 0.68]),\n",
       " array([0.34, 0.29, 0.37]),\n",
       " array([0.38, 0.4 , 0.22]),\n",
       " array([0.34, 0.37, 0.29]),\n",
       " array([0.33333333, 0.54545455, 0.12121212]),\n",
       " array([0.4 , 0.56, 0.04]),\n",
       " array([0.46, 0.  , 0.54]),\n",
       " array([0.42, 0.13, 0.45]),\n",
       " array([0.41, 0.13, 0.46]),\n",
       " array([0.41, 0.37, 0.22]),\n",
       " array([0.54, 0.39, 0.07]),\n",
       " array([0.38, 0.59, 0.03]),\n",
       " array([0.44, 0.01, 0.55]),\n",
       " array([0.65, 0.04, 0.31]),\n",
       " array([0.54455446, 0.1980198 , 0.25742574]),\n",
       " array([0.67, 0.27, 0.06]),\n",
       " array([0.40594059, 0.57425743, 0.01980198]),\n",
       " array([0.39, 0.05, 0.56]),\n",
       " array([0.68, 0.13, 0.19]),\n",
       " array([0.65, 0.22, 0.13]),\n",
       " array([0.63636364, 0.33333333, 0.03030303]),\n",
       " array([0.61386139, 0.00990099, 0.37623762]),\n",
       " array([0.78, 0.13, 0.09]),\n",
       " array([0.74, 0.24, 0.02]),\n",
       " array([0.84, 0.04, 0.12]),\n",
       " array([0.84848485, 0.13131313, 0.02020202]),\n",
       " array([0.93939394, 0.02020202, 0.04040404])]"
      ]
     },
     "execution_count": 9,
     "metadata": {},
     "output_type": "execute_result"
    }
   ],
   "source": [
    "ests\n"
   ]
  },
  {
   "cell_type": "code",
   "execution_count": 10,
   "id": "18f57439",
   "metadata": {},
   "outputs": [],
   "source": [
    "def w2_multinom_pairwise(ps):\n",
    "    # build pop cov matrix\n",
    "    def pop_cov(x):\n",
    "        n = len(x)\n",
    "        c = np.zeros((n, n))\n",
    "        for i in range(n):\n",
    "            for j in range(n):\n",
    "                c[i, j] = x[i]*(1 - x[i]) if i == j else -x[i]*x[j]\n",
    "        return c\n",
    "\n",
    "    ps = np.array(ps)\n",
    "    n = len(ps)\n",
    "    dists = np.zeros((n, n))\n",
    "\n",
    "    sigs = [pop_cov(p) for p in ps]\n",
    "    roots = [sqrtm(s) for s in sigs]\n",
    "\n",
    "    for i in range(n):\n",
    "        for j in range(n):\n",
    "            mu_diff = np.sum((ps[i] - ps[j])**2)\n",
    "            mid = sqrtm(roots[i] @ sigs[j] @ roots[i])\n",
    "            if np.iscomplexobj(mid):\n",
    "                mid = mid.real\n",
    "            cov_diff = np.trace(sigs[i] + sigs[j] - 2*mid)\n",
    "            dists[i, j] = np.sqrt(mu_diff + cov_diff)\n",
    "\n",
    "    return dists "
   ]
  },
  {
   "cell_type": "code",
   "execution_count": 11,
   "id": "dcc7999d",
   "metadata": {},
   "outputs": [],
   "source": [
    "def batched_dists(mixed_sets, mix_probs, encoder, batch_size=8, device='cuda'):\n",
    "\n",
    "    samples = mixed_sets['samples']\n",
    "    \n",
    "    \n",
    "    with torch.no_grad():\n",
    "        \n",
    "        zs = []\n",
    "        for i in range(0, len(mix_probs), batch_size):\n",
    "\n",
    "            x_chunk = {}\n",
    "\n",
    "            for k, v in samples.items():\n",
    "                if isinstance(v, torch.Tensor):\n",
    "                    x_chunk[k] = v[i:i+batch_size].to('cuda').to(torch.float)\n",
    "            z_chunk = encoder(x_chunk).cpu()  # offload!\n",
    "            zs.append(z_chunk)\n",
    "        z = torch.cat(zs, dim=0).to(device)  # full z back on gpu :)\n",
    "\n",
    "    return w2_multinom_pairwise(mix_probs), torch.cdist(z, z, p=2)"
   ]
  },
  {
   "cell_type": "code",
   "execution_count": 12,
   "id": "e13296c0",
   "metadata": {},
   "outputs": [],
   "source": [
    "def plot_ternary(ax, dists, mix_probs, title=None, scale=99):\n",
    "\n",
    "    prob_tuples = [tuple(map(int, np.round(s * scale))) for s in mix_probs]\n",
    "    print(prob_tuples)\n",
    "    anchor_idx = prob_tuples.index((scale//3, scale//3, scale//3))\n",
    "    # anchor_idx = 0\n",
    "    colors = dists[anchor_idx]\n",
    "    simplex_d = {prob_tuples[i]: colors[i] for i in range(len(prob_tuples))}\n",
    "\n",
    "    tax = ternary.TernaryAxesSubplot(ax=ax, scale=scale)\n",
    "    tax.heatmap(simplex_d, style=\"h\")\n",
    "    tax.boundary()\n",
    "    tax.clear_matplotlib_ticks()\n",
    "    tax.get_axes().axis('off')\n",
    "    if title:\n",
    "        tax.set_title(title)\n",
    "\n",
    "    # tax.scatter([prob_tuples[anchor_idx]], marker='*', color='pink', s=100, zorder=10)"
   ]
  },
  {
   "cell_type": "code",
   "execution_count": 13,
   "id": "eccecfaa",
   "metadata": {},
   "outputs": [
    {
     "name": "stderr",
     "output_type": "stream",
     "text": [
      "/tmp/ipykernel_633621/2629716128.py:25: RuntimeWarning: invalid value encountered in sqrt\n",
      "  dists[i, j] = np.sqrt(mu_diff + cov_diff)\n"
     ]
    },
    {
     "name": "stdout",
     "output_type": "stream",
     "text": [
      "[(0, 0, 9), (0, 1, 8), (0, 2, 7), (0, 3, 6), (0, 4, 5), (0, 5, 4), (0, 6, 3), (0, 7, 2), (0, 8, 1), (0, 9, 0), (1, 0, 8), (1, 1, 7), (1, 2, 6), (1, 3, 5), (1, 4, 4), (1, 5, 3), (1, 6, 2), (1, 7, 1), (1, 8, 0), (2, 0, 7), (2, 1, 6), (2, 2, 5), (2, 3, 4), (2, 4, 3), (2, 5, 2), (2, 6, 1), (2, 7, 0), (3, 0, 6), (3, 1, 5), (3, 2, 4), (3, 3, 3), (3, 4, 2), (3, 5, 1), (3, 6, 0), (4, 0, 5), (4, 1, 4), (4, 2, 3), (4, 3, 2), (4, 4, 1), (4, 5, 0), (5, 0, 4), (5, 1, 3), (5, 2, 2), (5, 3, 1), (5, 4, 0), (6, 0, 3), (6, 1, 2), (6, 2, 1), (6, 3, 0), (7, 0, 2), (7, 1, 1), (7, 2, 0), (8, 0, 1), (8, 1, 0), (9, 0, 0)]\n",
      "[(0, 0, 9), (0, 1, 8), (0, 2, 7), (0, 3, 6), (0, 4, 5), (0, 5, 4), (0, 6, 3), (0, 7, 2), (0, 8, 1), (0, 9, 0), (1, 0, 8), (1, 1, 7), (1, 2, 6), (1, 3, 5), (1, 4, 4), (1, 5, 3), (1, 6, 2), (1, 7, 1), (1, 8, 0), (2, 0, 7), (2, 1, 6), (2, 2, 5), (2, 3, 4), (2, 4, 3), (2, 5, 2), (2, 6, 1), (2, 7, 0), (3, 0, 6), (3, 1, 5), (3, 2, 4), (3, 3, 3), (3, 4, 2), (3, 5, 1), (3, 6, 0), (4, 0, 5), (4, 1, 4), (4, 2, 3), (4, 3, 2), (4, 4, 1), (4, 5, 0), (5, 0, 4), (5, 1, 3), (5, 2, 2), (5, 3, 1), (5, 4, 0), (6, 0, 3), (6, 1, 2), (6, 2, 1), (6, 3, 0), (7, 0, 2), (7, 1, 1), (7, 2, 0), (8, 0, 1), (8, 1, 0), (9, 0, 0)]\n"
     ]
    },
    {
     "data": {
      "text/plain": [
       "Text(0.5, 1.0, 'latent L2')"
      ]
     },
     "execution_count": 13,
     "metadata": {},
     "output_type": "execute_result"
    },
    {
     "data": {
      "image/png": "[encoded data removed]",
      "text/plain": [
       "<Figure size 800x300 with 4 Axes>"
      ]
     },
     "metadata": {},
     "output_type": "display_data"
    }
   ],
   "source": [
    "w, l = batched_dists(mixed_sets, \n",
    "                        mix_probs_labels, enc)\n",
    "\n",
    "fig, axs = plt.subplots(1, 2, figsize=(4, 1.5), dpi=200)\n",
    "\n",
    "plot_ternary(axs[0], w, mix_probs_labels, scale=9)\n",
    "plot_ternary(axs[1], l.cpu(), mix_probs_labels, scale=9)\n",
    "axs[0].set_title('W2')\n",
    "axs[1].set_title('latent L2')"
   ]
  },
  {
   "cell_type": "code",
   "execution_count": 48,
   "id": "206e9d80",
   "metadata": {},
   "outputs": [
    {
     "data": {
      "text/plain": [
       "[['AAGC'], ['CCAA'], ['TAAA']]"
      ]
     },
     "execution_count": 48,
     "metadata": {},
     "output_type": "execute_result"
    }
   ],
   "source": [
    "dataset.patterns"
   ]
  },
  {
   "cell_type": "code",
   "execution_count": null,
   "id": "cef1d57d",
   "metadata": {},
   "outputs": [],
   "source": []
  }
 ],
 "metadata": {
  "kernelspec": {
   "display_name": "Python 3 (ipykernel)",
   "language": "python",
   "name": "python3"
  },
  "language_info": {
   "codemirror_mode": {
    "name": "ipython",
    "version": 3
   },
   "file_extension": ".py",
   "mimetype": "text/x-python",
   "name": "python",
   "nbconvert_exporter": "python",
   "pygments_lexer": "ipython3",
   "version": "3.11.12"
  }
 },
 "nbformat": 4,
 "nbformat_minor": 5
}
