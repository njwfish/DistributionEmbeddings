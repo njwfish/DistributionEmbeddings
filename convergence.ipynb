{
 "cells": [
  {
   "cell_type": "code",
   "execution_count": 12,
   "metadata": {},
   "outputs": [],
   "source": [
    "import torch\n",
    "from dist_ae import SetAutoencoderGNN, train_w_stop\n",
    "from distns import distns\n",
    "\n",
    "distn_name = 'poisson'\n",
    "generate_params = distns[distn_name]['generate_params']\n",
    "sample_distn = distns[distn_name]['sample']\n",
    "fr_dist = distns[distn_name]['fr_dist']"
   ]
  },
  {
   "cell_type": "code",
   "execution_count": 13,
   "metadata": {},
   "outputs": [],
   "source": [
    "n_sets = 1000\n",
    "set_size = 10**3\n",
    "n_features = 2\n",
    "\n",
    "params_train = generate_params(n_sets, n_features)\n",
    "params_val = generate_params(n_sets, n_features)\n",
    "params_test = generate_params(n_sets, n_features)\n",
    "\n",
    "x_train = sample_distn(*params_train, n_sets, set_size, n_features)\n",
    "x_val = sample_distn(*params_val, n_sets, set_size, n_features)\n",
    "x_test = sample_distn(*params_test, n_sets, set_size, n_features)"
   ]
  },
  {
   "cell_type": "code",
   "execution_count": 14,
   "metadata": {},
   "outputs": [
    {
     "name": "stdout",
     "output_type": "stream",
     "text": [
      "Epoch 1 | Train Loss: 6468.4585 | Val Loss: 5164.1876\n",
      "Epoch 2 | Train Loss: 4140.1424 | Val Loss: 3926.2941\n",
      "Epoch 3 | Train Loss: 3899.8107 | Val Loss: 3819.6408\n",
      "Epoch 4 | Train Loss: 3830.5583 | Val Loss: 3793.8885\n",
      "Epoch 5 | Train Loss: 3803.6861 | Val Loss: 3754.7501\n",
      "Epoch 6 | Train Loss: 3757.5527 | Val Loss: 3688.7012\n",
      "Epoch 7 | Train Loss: 3430.1451 | Val Loss: 2305.0439\n",
      "Epoch 8 | Train Loss: 1735.7031 | Val Loss: 1460.0293\n",
      "Epoch 9 | Train Loss: 1429.1621 | Val Loss: 1368.1817\n",
      "Epoch 10 | Train Loss: 1370.8586 | Val Loss: 1314.5335\n",
      "Epoch 11 | Train Loss: 1345.7376 | Val Loss: 1310.2297\n",
      "Epoch 12 | Train Loss: 1312.4787 | Val Loss: 1341.8053\n",
      "Epoch 13 | Train Loss: 1308.8187 | Val Loss: 1302.0059\n",
      "Epoch 14 | Train Loss: 1311.5075 | Val Loss: 1198.2176\n",
      "Epoch 15 | Train Loss: 1037.0055 | Val Loss: 893.6628\n",
      "Epoch 16 | Train Loss: 869.5776 | Val Loss: 882.3692\n",
      "Epoch 17 | Train Loss: 839.7954 | Val Loss: 841.2095\n",
      "Epoch 18 | Train Loss: 822.9946 | Val Loss: 789.2568\n",
      "Epoch 19 | Train Loss: 797.5133 | Val Loss: 813.3187\n",
      "Epoch 20 | Train Loss: 824.6593 | Val Loss: 801.9855\n",
      "Epoch 21 | Train Loss: 812.5053 | Val Loss: 736.1522\n",
      "Epoch 22 | Train Loss: 483.7528 | Val Loss: 296.3309\n",
      "Epoch 23 | Train Loss: 270.2284 | Val Loss: 244.9380\n",
      "Epoch 24 | Train Loss: 241.8129 | Val Loss: 236.2409\n",
      "Epoch 25 | Train Loss: 229.9789 | Val Loss: 236.3167\n",
      "Epoch 26 | Train Loss: 220.1421 | Val Loss: 220.2010\n",
      "Epoch 27 | Train Loss: 217.0258 | Val Loss: 211.7906\n",
      "Epoch 28 | Train Loss: 213.6295 | Val Loss: 211.3830\n",
      "Epoch 29 | Train Loss: 209.6451 | Val Loss: 208.6809\n",
      "Epoch 30 | Train Loss: 205.3833 | Val Loss: 214.1340\n",
      "Epoch 31 | Train Loss: 200.2689 | Val Loss: 198.1870\n",
      "Epoch 32 | Train Loss: 194.9521 | Val Loss: 190.6416\n",
      "Epoch 33 | Train Loss: 186.6645 | Val Loss: 188.6428\n",
      "Epoch 34 | Train Loss: 184.0298 | Val Loss: 181.3584\n",
      "Epoch 35 | Train Loss: 186.6292 | Val Loss: 180.2197\n",
      "Epoch 36 | Train Loss: 178.5581 | Val Loss: 178.6120\n",
      "Epoch 37 | Train Loss: 178.2746 | Val Loss: 173.0759\n",
      "Epoch 38 | Train Loss: 173.1038 | Val Loss: 175.2959\n",
      "Epoch 39 | Train Loss: 173.6648 | Val Loss: 169.5266\n",
      "Epoch 40 | Train Loss: 173.2802 | Val Loss: 167.5456\n",
      "Epoch 41 | Train Loss: 170.1110 | Val Loss: 168.8571\n",
      "Epoch 42 | Train Loss: 169.1943 | Val Loss: 164.5511\n",
      "Epoch 43 | Train Loss: 167.0538 | Val Loss: 165.9863\n",
      "Epoch 44 | Train Loss: 169.1075 | Val Loss: 166.5557\n",
      "Epoch 45 | Train Loss: 167.2270 | Val Loss: 179.6166\n",
      "Epoch 46 | Train Loss: 166.6089 | Val Loss: 160.7450\n",
      "Epoch 47 | Train Loss: 162.5774 | Val Loss: 163.5688\n",
      "Epoch 48 | Train Loss: 162.1801 | Val Loss: 159.2592\n",
      "Epoch 49 | Train Loss: 159.6096 | Val Loss: 167.5689\n",
      "Epoch 50 | Train Loss: 157.9746 | Val Loss: 161.0459\n",
      "Epoch 51 | Train Loss: 159.6213 | Val Loss: 173.0050\n",
      "Epoch 52 | Train Loss: 165.6362 | Val Loss: 165.4039\n",
      "Epoch 53 | Train Loss: 157.1023 | Val Loss: 150.6859\n",
      "Epoch 54 | Train Loss: 151.7783 | Val Loss: 151.3895\n",
      "Epoch 55 | Train Loss: 153.3242 | Val Loss: 154.1581\n",
      "Epoch 56 | Train Loss: 154.3582 | Val Loss: 154.9685\n",
      "Epoch 57 | Train Loss: 150.5033 | Val Loss: 151.9298\n",
      "Epoch 58 | Train Loss: 154.0916 | Val Loss: 149.0970\n",
      "Epoch 59 | Train Loss: 148.5774 | Val Loss: 146.7393\n",
      "Epoch 60 | Train Loss: 144.5786 | Val Loss: 144.2387\n",
      "Epoch 61 | Train Loss: 145.1406 | Val Loss: 146.1228\n",
      "Epoch 62 | Train Loss: 146.1993 | Val Loss: 148.9265\n",
      "Epoch 63 | Train Loss: 142.7864 | Val Loss: 147.2209\n",
      "Epoch 64 | Train Loss: 145.3872 | Val Loss: 149.5838\n",
      "Epoch 65 | Train Loss: 145.5233 | Val Loss: 144.2517\n",
      "Early stopping triggered! 🛑\n"
     ]
    }
   ],
   "source": [
    "dist_ae = SetAutoencoderGNN(n_features, 16, 64, set_size)\n",
    "optimizer = torch.optim.Adam(dist_ae.parameters(), lr=5e-4)\n",
    "\n",
    "# create dataloader\n",
    "train_loader = torch.utils.data.DataLoader(torch.from_numpy(x_train).float(), batch_size=32, shuffle=True)\n",
    "val_loader = torch.utils.data.DataLoader(torch.from_numpy(x_train).float(), batch_size=32, shuffle=False)\n",
    "\n",
    "dist_ae = train_w_stop(dist_ae, optimizer, \n",
    "                       train_loader, val_loader,\n",
    "                       max_epochs = 300, device='cuda')"
   ]
  },
  {
   "cell_type": "code",
   "execution_count": 15,
   "metadata": {},
   "outputs": [],
   "source": [
    "z, rec = dist_ae(torch.from_numpy(x_test).float().cuda())"
   ]
  },
  {
   "cell_type": "code",
   "execution_count": 16,
   "metadata": {},
   "outputs": [
    {
     "data": {
      "text/plain": [
       "tensor([[23.6147, 17.6346],\n",
       "        [11.2376, 31.7255],\n",
       "        [94.2331, 24.5842],\n",
       "        ...,\n",
       "        [37.1085, 22.8546],\n",
       "        [68.7688, 75.1813],\n",
       "        [63.3654, 59.6592]], device='cuda:0', grad_fn=<MeanBackward1>)"
      ]
     },
     "execution_count": 16,
     "metadata": {},
     "output_type": "execute_result"
    }
   ],
   "source": [
    "rec.mean(axis=1)"
   ]
  },
  {
   "cell_type": "code",
   "execution_count": 17,
   "metadata": {},
   "outputs": [
    {
     "data": {
      "text/plain": [
       "array([[22.54693035, 18.49381276],\n",
       "       [ 9.95508808, 28.2864475 ],\n",
       "       [88.87211816, 23.27843698],\n",
       "       ...,\n",
       "       [35.66889918, 23.69641599],\n",
       "       [68.26928727, 69.69083164],\n",
       "       [65.40117993, 61.03956331]])"
      ]
     },
     "execution_count": 17,
     "metadata": {},
     "output_type": "execute_result"
    }
   ],
   "source": [
    "params_test[0]"
   ]
  },
  {
   "cell_type": "code",
   "execution_count": null,
   "metadata": {},
   "outputs": [],
   "source": []
  }
 ],
 "metadata": {
  "kernelspec": {
   "display_name": "Python 3 (ipykernel)",
   "language": "python",
   "name": "python3"
  },
  "language_info": {
   "codemirror_mode": {
    "name": "ipython",
    "version": 3
   },
   "file_extension": ".py",
   "mimetype": "text/x-python",
   "name": "python",
   "nbconvert_exporter": "python",
   "pygments_lexer": "ipython3",
   "version": "3.11.11"
  }
 },
 "nbformat": 4,
 "nbformat_minor": 2
}
