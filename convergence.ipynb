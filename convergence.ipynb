{
 "cells": [
  {
   "cell_type": "code",
   "execution_count": 1,
   "metadata": {},
   "outputs": [],
   "source": [
    "import torch\n",
    "import numpy as np\n",
    "from dist_ae import SetAutoencoderGNN, SetAutoencoderTx, train_w_stop\n",
    "from distns import distns\n",
    "from tqdm.notebook import tqdm\n",
    "\n",
    "import pandas as pd\n",
    "import seaborn as sns\n",
    "import matplotlib.pyplot as plt\n",
    "\n",
    "distn_name = 'poisson'\n",
    "generate_params = distns[distn_name]['generate_params']\n",
    "sample_distn = distns[distn_name]['sample']\n",
    "fr_dist = distns[distn_name]['fr_dist']"
   ]
  },
  {
   "cell_type": "code",
   "execution_count": 2,
   "metadata": {},
   "outputs": [
    {
     "data": {
      "application/vnd.jupyter.widget-view+json": {
       "model_id": "689c709047674b31bc5e086aa6c7ec37",
       "version_major": 2,
       "version_minor": 0
      },
      "text/plain": [
       "set sizes:   0%|          | 0/4 [00:00<?, ?it/s]"
      ]
     },
     "metadata": {},
     "output_type": "display_data"
    },
    {
     "data": {
      "application/vnd.jupyter.widget-view+json": {
       "model_id": "97da6cab6cb0435fbfee97116dd5994b",
       "version_major": 2,
       "version_minor": 0
      },
      "text/plain": [
       "set_number:   0%|          | 0/2 [00:00<?, ?it/s]"
      ]
     },
     "metadata": {},
     "output_type": "display_data"
    },
    {
     "data": {
      "application/vnd.jupyter.widget-view+json": {
       "model_id": "de261e79df3b4fc98ba0a73fc10f5537",
       "version_major": 2,
       "version_minor": 0
      },
      "text/plain": [
       "set_number:   0%|          | 0/2 [00:00<?, ?it/s]"
      ]
     },
     "metadata": {},
     "output_type": "display_data"
    },
    {
     "data": {
      "application/vnd.jupyter.widget-view+json": {
       "model_id": "5879db2ea64f4e7eb7619cbfb3b73628",
       "version_major": 2,
       "version_minor": 0
      },
      "text/plain": [
       "set_number:   0%|          | 0/2 [00:00<?, ?it/s]"
      ]
     },
     "metadata": {},
     "output_type": "display_data"
    },
    {
     "data": {
      "application/vnd.jupyter.widget-view+json": {
       "model_id": "06d3f5e288c94dd697da9cafab73c0ab",
       "version_major": 2,
       "version_minor": 0
      },
      "text/plain": [
       "set_number:   0%|          | 0/2 [00:00<?, ?it/s]"
      ]
     },
     "metadata": {},
     "output_type": "display_data"
    }
   ],
   "source": [
    "d = {'Set size' : [],\n",
    "     'N sets' : [],\n",
    "     'Architecture' : [],\n",
    "     'Param. MSE' : []}\n",
    "\n",
    "\n",
    "set_sizes = np.logspace(0, 3, 4, dtype=int)\n",
    "n_sets = np.logspace(2, 3, 2, dtype=int)\n",
    "n_features = 2\n",
    "\n",
    "for set_size in tqdm(set_sizes, desc='set sizes', leave=True):\n",
    "    for set_number in tqdm(n_sets, desc='set_number', leave=False):\n",
    "        \n",
    "        params_train = generate_params(set_number, n_features)\n",
    "        params_val = generate_params(set_number//2, n_features)\n",
    "        params_test = generate_params(set_number, n_features)\n",
    "\n",
    "        x_train = sample_distn(*params_train, set_number, set_size, n_features)\n",
    "        x_val = sample_distn(*params_val, set_number//2, set_size, n_features)\n",
    "        x_test = sample_distn(*params_test, set_number, set_size, n_features)\n",
    "\n",
    "        train_loader = torch.utils.data.DataLoader(torch.from_numpy(x_train).float(), batch_size=32, shuffle=True)\n",
    "        val_loader = torch.utils.data.DataLoader(torch.from_numpy(x_train).float(), batch_size=32, shuffle=False)\n",
    "\n",
    "        dist_ae = SetAutoencoderGNN(n_features, 16, 64, set_size)\n",
    "        optimizer = torch.optim.Adam(dist_ae.parameters(), lr=5e-4)\n",
    "\n",
    "        dist_ae = train_w_stop(dist_ae, optimizer, \n",
    "                            train_loader, val_loader,\n",
    "                            max_epochs = 300, device='cuda',\n",
    "                            verbose=False)\n",
    "        \n",
    "        with torch.no_grad():\n",
    "            z, rec = dist_ae(torch.from_numpy(x_test).float().cuda())\n",
    "\n",
    "        mse = ((rec.mean(axis=1).cpu() - params_test[0])**2).mean().item()\n",
    "\n",
    "        d['Set size'].append(set_size)\n",
    "        d['N sets'].append(set_number)\n",
    "        d['Architecture'].append('DistAE-GNN')\n",
    "        d['Param. MSE'].append(mse)\n",
    "\n",
    "        dist_ae = SetAutoencoderTx(n_features, 16, 64, set_size)\n",
    "        optimizer = torch.optim.Adam(dist_ae.parameters(), lr=5e-4)\n",
    "\n",
    "        dist_ae = train_w_stop(dist_ae, optimizer, \n",
    "                            train_loader, val_loader,\n",
    "                            max_epochs = 300, device='cuda',\n",
    "                            verbose=False)\n",
    "        \n",
    "        with torch.no_grad():\n",
    "            z, rec = dist_ae(torch.from_numpy(x_test).float().cuda())\n",
    "\n",
    "        mse = ((rec.mean(axis=1).cpu() - params_test[0])**2).mean().item()\n",
    "\n",
    "        d['Set size'].append(set_size)\n",
    "        d['N sets'].append(set_number)\n",
    "        d['Architecture'].append('DistAE-Attn')\n",
    "        d['Param. MSE'].append(mse)"
   ]
  },
  {
   "cell_type": "code",
   "execution_count": 10,
   "metadata": {},
   "outputs": [
    {
     "data": {
      "text/html": [
       "<div>\n",
       "<style scoped>\n",
       "    .dataframe tbody tr th:only-of-type {\n",
       "        vertical-align: middle;\n",
       "    }\n",
       "\n",
       "    .dataframe tbody tr th {\n",
       "        vertical-align: top;\n",
       "    }\n",
       "\n",
       "    .dataframe thead th {\n",
       "        text-align: right;\n",
       "    }\n",
       "</style>\n",
       "<table border=\"1\" class=\"dataframe\">\n",
       "  <thead>\n",
       "    <tr style=\"text-align: right;\">\n",
       "      <th></th>\n",
       "      <th>Set size</th>\n",
       "      <th>N sets</th>\n",
       "      <th>Architecture</th>\n",
       "      <th>Param. MSE</th>\n",
       "    </tr>\n",
       "  </thead>\n",
       "  <tbody>\n",
       "    <tr>\n",
       "      <th>0</th>\n",
       "      <td>1</td>\n",
       "      <td>100</td>\n",
       "      <td>DistAE-GNN</td>\n",
       "      <td>2615.229068</td>\n",
       "    </tr>\n",
       "    <tr>\n",
       "      <th>1</th>\n",
       "      <td>1</td>\n",
       "      <td>100</td>\n",
       "      <td>DistAE-Attn</td>\n",
       "      <td>2779.986357</td>\n",
       "    </tr>\n",
       "    <tr>\n",
       "      <th>2</th>\n",
       "      <td>1</td>\n",
       "      <td>1000</td>\n",
       "      <td>DistAE-GNN</td>\n",
       "      <td>1873.195294</td>\n",
       "    </tr>\n",
       "    <tr>\n",
       "      <th>3</th>\n",
       "      <td>1</td>\n",
       "      <td>1000</td>\n",
       "      <td>DistAE-Attn</td>\n",
       "      <td>2780.721921</td>\n",
       "    </tr>\n",
       "    <tr>\n",
       "      <th>4</th>\n",
       "      <td>10</td>\n",
       "      <td>100</td>\n",
       "      <td>DistAE-GNN</td>\n",
       "      <td>475.292403</td>\n",
       "    </tr>\n",
       "    <tr>\n",
       "      <th>5</th>\n",
       "      <td>10</td>\n",
       "      <td>100</td>\n",
       "      <td>DistAE-Attn</td>\n",
       "      <td>2422.373725</td>\n",
       "    </tr>\n",
       "    <tr>\n",
       "      <th>6</th>\n",
       "      <td>10</td>\n",
       "      <td>1000</td>\n",
       "      <td>DistAE-GNN</td>\n",
       "      <td>300.628774</td>\n",
       "    </tr>\n",
       "    <tr>\n",
       "      <th>7</th>\n",
       "      <td>10</td>\n",
       "      <td>1000</td>\n",
       "      <td>DistAE-Attn</td>\n",
       "      <td>309.647254</td>\n",
       "    </tr>\n",
       "    <tr>\n",
       "      <th>8</th>\n",
       "      <td>100</td>\n",
       "      <td>100</td>\n",
       "      <td>DistAE-GNN</td>\n",
       "      <td>449.984546</td>\n",
       "    </tr>\n",
       "    <tr>\n",
       "      <th>9</th>\n",
       "      <td>100</td>\n",
       "      <td>100</td>\n",
       "      <td>DistAE-Attn</td>\n",
       "      <td>3054.204432</td>\n",
       "    </tr>\n",
       "    <tr>\n",
       "      <th>10</th>\n",
       "      <td>100</td>\n",
       "      <td>1000</td>\n",
       "      <td>DistAE-GNN</td>\n",
       "      <td>65.907204</td>\n",
       "    </tr>\n",
       "    <tr>\n",
       "      <th>11</th>\n",
       "      <td>100</td>\n",
       "      <td>1000</td>\n",
       "      <td>DistAE-Attn</td>\n",
       "      <td>37.061685</td>\n",
       "    </tr>\n",
       "    <tr>\n",
       "      <th>12</th>\n",
       "      <td>1000</td>\n",
       "      <td>100</td>\n",
       "      <td>DistAE-GNN</td>\n",
       "      <td>450.438439</td>\n",
       "    </tr>\n",
       "    <tr>\n",
       "      <th>13</th>\n",
       "      <td>1000</td>\n",
       "      <td>100</td>\n",
       "      <td>DistAE-Attn</td>\n",
       "      <td>2518.789778</td>\n",
       "    </tr>\n",
       "    <tr>\n",
       "      <th>14</th>\n",
       "      <td>1000</td>\n",
       "      <td>1000</td>\n",
       "      <td>DistAE-GNN</td>\n",
       "      <td>9.898953</td>\n",
       "    </tr>\n",
       "    <tr>\n",
       "      <th>15</th>\n",
       "      <td>1000</td>\n",
       "      <td>1000</td>\n",
       "      <td>DistAE-Attn</td>\n",
       "      <td>11.129495</td>\n",
       "    </tr>\n",
       "  </tbody>\n",
       "</table>\n",
       "</div>"
      ],
      "text/plain": [
       "    Set size  N sets Architecture   Param. MSE\n",
       "0          1     100   DistAE-GNN  2615.229068\n",
       "1          1     100  DistAE-Attn  2779.986357\n",
       "2          1    1000   DistAE-GNN  1873.195294\n",
       "3          1    1000  DistAE-Attn  2780.721921\n",
       "4         10     100   DistAE-GNN   475.292403\n",
       "5         10     100  DistAE-Attn  2422.373725\n",
       "6         10    1000   DistAE-GNN   300.628774\n",
       "7         10    1000  DistAE-Attn   309.647254\n",
       "8        100     100   DistAE-GNN   449.984546\n",
       "9        100     100  DistAE-Attn  3054.204432\n",
       "10       100    1000   DistAE-GNN    65.907204\n",
       "11       100    1000  DistAE-Attn    37.061685\n",
       "12      1000     100   DistAE-GNN   450.438439\n",
       "13      1000     100  DistAE-Attn  2518.789778\n",
       "14      1000    1000   DistAE-GNN     9.898953\n",
       "15      1000    1000  DistAE-Attn    11.129495"
      ]
     },
     "execution_count": 10,
     "metadata": {},
     "output_type": "execute_result"
    }
   ],
   "source": [
    "res_df = pd.DataFrame(d)\n",
    "res_df"
   ]
  },
  {
   "cell_type": "code",
   "execution_count": 16,
   "metadata": {},
   "outputs": [
    {
     "data": {
      "image/png": "[encoded data removed]",
      "text/plain": [
       "<Figure size 900x450 with 4 Axes>"
      ]
     },
     "metadata": {},
     "output_type": "display_data"
    }
   ],
   "source": [
    "\n",
    "res_df['log_MSE'] = np.log(res_df['Param. MSE'])\n",
    "archs = res_df['Architecture'].unique()\n",
    "\n",
    "fig, axes = plt.subplots(1, 2, figsize=(6, 3), dpi=150)\n",
    "for ax, arch in zip(axes, archs):\n",
    "    pivot = res_df[res_df['Architecture'] == arch].pivot_table(index='Set size', \n",
    "                                                               columns='N sets', \n",
    "                                                               values='log_MSE')\n",
    "    sns.heatmap(pivot, ax=ax, cmap='viridis', annot=True, fmt='.2f',\n",
    "                square=True, cbar_kws={'label': 'Log MSE'})\n",
    "    ax.set_title(arch)\n",
    "\n",
    "plt.tight_layout()\n",
    "plt.show()"
   ]
  },
  {
   "cell_type": "code",
   "execution_count": null,
   "metadata": {},
   "outputs": [],
   "source": []
  }
 ],
 "metadata": {
  "kernelspec": {
   "display_name": "Python 3 (ipykernel)",
   "language": "python",
   "name": "python3"
  },
  "language_info": {
   "codemirror_mode": {
    "name": "ipython",
    "version": 3
   },
   "file_extension": ".py",
   "mimetype": "text/x-python",
   "name": "python",
   "nbconvert_exporter": "python",
   "pygments_lexer": "ipython3",
   "version": "3.11.11"
  }
 },
 "nbformat": 4,
 "nbformat_minor": 2
}
